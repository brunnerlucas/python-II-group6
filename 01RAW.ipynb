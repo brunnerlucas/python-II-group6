{
 "cells": [
  {
   "cell_type": "code",
   "execution_count": null,
   "id": "0415cc56-035e-4517-a132-c95feeff8ddf",
   "metadata": {},
   "outputs": [
    {
     "data": {
      "text/plain": [
       "True"
      ]
     },
     "execution_count": 52,
     "metadata": {},
     "output_type": "execute_result"
    }
   ],
   "source": [
    "import os\n",
    "import pandas as pd\n",
    "#!pip install simfin\n",
    "import simfin as sf\n",
    "from dotenv import load_dotenv\n",
    "load_dotenv()"
   ]
  },
  {
   "cell_type": "markdown",
   "id": "1904d5ba",
   "metadata": {},
   "source": [
    "First we download the data into a df as described on the API documentation"
   ]
  },
  {
   "cell_type": "code",
   "execution_count": 55,
   "id": "f61c6f4b",
   "metadata": {},
   "outputs": [
    {
     "name": "stdout",
     "output_type": "stream",
     "text": [
      "Dataset \"us-companies\" on disk (0 days old).\n",
      "- Loading from disk ... Done!\n"
     ]
    },
    {
     "name": "stderr",
     "output_type": "stream",
     "text": [
      "/opt/anaconda3/lib/python3.12/site-packages/simfin/load.py:154: FutureWarning: The argument 'date_parser' is deprecated and will be removed in a future version. Please use 'date_format' instead, or read your data in as 'object' dtype and then call 'to_datetime'.\n",
      "  df = pd.read_csv(path, sep=';', header=0,\n"
     ]
    }
   ],
   "source": [
    "api_token = os.getenv('API_KEY')\n",
    "market='us'\n",
    "sf.set_api_key(api_token)\n",
    "os.makedirs(\"data/raw\", exist_ok=True)\n",
    "df = sf.load_companies(market=market)\n",
    "\n"
   ]
  },
  {
   "cell_type": "markdown",
   "id": "fbdb0d25",
   "metadata": {},
   "source": [
    "Saving the dataframe into the raw folder"
   ]
  },
  {
   "cell_type": "code",
   "execution_count": 56,
   "id": "7b4bd48e",
   "metadata": {},
   "outputs": [],
   "source": [
    "df.to_csv(f\"data/raw/{market}-companies\", index=False)"
   ]
  }
 ],
 "metadata": {
  "kernelspec": {
   "display_name": "base",
   "language": "python",
   "name": "python3"
  },
  "language_info": {
   "codemirror_mode": {
    "name": "ipython",
    "version": 3
   },
   "file_extension": ".py",
   "mimetype": "text/x-python",
   "name": "python",
   "nbconvert_exporter": "python",
   "pygments_lexer": "ipython3",
   "version": "3.12.4"
  }
 },
 "nbformat": 4,
 "nbformat_minor": 5
}
