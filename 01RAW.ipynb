{
 "cells": [
  {
   "cell_type": "code",
   "execution_count": 4,
   "id": "0415cc56-035e-4517-a132-c95feeff8ddf",
   "metadata": {},
   "outputs": [
    {
     "data": {
      "text/plain": [
       "True"
      ]
     },
     "execution_count": 4,
     "metadata": {},
     "output_type": "execute_result"
    }
   ],
   "source": [
    "import os\n",
    "import pandas as pd\n",
    "#!pip install simfin\n",
    "import simfin as sf\n",
    "from dotenv import load_dotenv\n",
    "load_dotenv()"
   ]
  },
  {
   "cell_type": "markdown",
   "id": "1904d5ba",
   "metadata": {},
   "source": [
    "We created a For loop with all the datasets we wanted to download. The load_function() is execturing for each item in the dataset the lambda function"
   ]
  },
  {
   "cell_type": "code",
   "execution_count": 5,
   "id": "054f6477",
   "metadata": {},
   "outputs": [],
   "source": [
    "api_token = os.getenv('API_KEY') #getting the api key\n",
    "market='us' #defines which market the data should be "
   ]
  },
  {
   "cell_type": "code",
   "execution_count": 6,
   "id": "f61c6f4b",
   "metadata": {},
   "outputs": [
    {
     "name": "stdout",
     "output_type": "stream",
     "text": [
      "Dataset \"us-companies\" not on disk.\n",
      "- Downloading ... 100.0%\n",
      "- Extracting zip-file ... Done!\n",
      "- Loading from disk ... Done!\n",
      "✅ SUCCESSFUL download: companies\n",
      "Dataset \"us-shareprices-daily\" not on disk.\n"
     ]
    },
    {
     "name": "stderr",
     "output_type": "stream",
     "text": [
      "/opt/anaconda3/lib/python3.12/site-packages/simfin/load.py:154: FutureWarning: The argument 'date_parser' is deprecated and will be removed in a future version. Please use 'date_format' instead, or read your data in as 'object' dtype and then call 'to_datetime'.\n",
      "  df = pd.read_csv(path, sep=';', header=0,\n"
     ]
    },
    {
     "name": "stdout",
     "output_type": "stream",
     "text": [
      "- Downloading ... 100.0%\n",
      "- Extracting zip-file ... Done!\n",
      "- Loading from disk ... "
     ]
    },
    {
     "name": "stderr",
     "output_type": "stream",
     "text": [
      "/opt/anaconda3/lib/python3.12/site-packages/simfin/load.py:154: FutureWarning: The argument 'date_parser' is deprecated and will be removed in a future version. Please use 'date_format' instead, or read your data in as 'object' dtype and then call 'to_datetime'.\n",
      "  df = pd.read_csv(path, sep=';', header=0,\n"
     ]
    },
    {
     "name": "stdout",
     "output_type": "stream",
     "text": [
      "Done!\n",
      "✅ SUCCESSFUL download: shareprices-daily\n",
      "Dataset \"industries\" not on disk.\n",
      "- Downloading ... 100.0%\n",
      "- Extracting zip-file ... Done!\n",
      "- Loading from disk ... Done!\n",
      "✅ SUCCESSFUL download: industries\n",
      "Dataset \"us-cashflow-quarterly\" not on disk.\n"
     ]
    },
    {
     "name": "stderr",
     "output_type": "stream",
     "text": [
      "/opt/anaconda3/lib/python3.12/site-packages/simfin/load.py:154: FutureWarning: The argument 'date_parser' is deprecated and will be removed in a future version. Please use 'date_format' instead, or read your data in as 'object' dtype and then call 'to_datetime'.\n",
      "  df = pd.read_csv(path, sep=';', header=0,\n"
     ]
    },
    {
     "name": "stdout",
     "output_type": "stream",
     "text": [
      "- Downloading ... 100.0%\n",
      "- Extracting zip-file ... Done!\n",
      "- Loading from disk ... "
     ]
    },
    {
     "name": "stderr",
     "output_type": "stream",
     "text": [
      "/opt/anaconda3/lib/python3.12/site-packages/simfin/load.py:154: FutureWarning: The argument 'date_parser' is deprecated and will be removed in a future version. Please use 'date_format' instead, or read your data in as 'object' dtype and then call 'to_datetime'.\n",
      "  df = pd.read_csv(path, sep=';', header=0,\n"
     ]
    },
    {
     "name": "stdout",
     "output_type": "stream",
     "text": [
      "Done!\n",
      "✅ SUCCESSFUL download: cashflow-quarterly\n",
      "Dataset \"us-balance-quarterly\" not on disk.\n",
      "- Downloading ... 100.0%\n",
      "- Extracting zip-file ... Done!\n",
      "- Loading from disk ... "
     ]
    },
    {
     "name": "stderr",
     "output_type": "stream",
     "text": [
      "/opt/anaconda3/lib/python3.12/site-packages/simfin/load.py:154: FutureWarning: The argument 'date_parser' is deprecated and will be removed in a future version. Please use 'date_format' instead, or read your data in as 'object' dtype and then call 'to_datetime'.\n",
      "  df = pd.read_csv(path, sep=';', header=0,\n"
     ]
    },
    {
     "name": "stdout",
     "output_type": "stream",
     "text": [
      "Done!\n",
      "✅ SUCCESSFUL download: balance-quarterly\n",
      "Dataset \"us-income-quarterly\" not on disk.\n",
      "- Downloading ... 100.0%\n",
      "- Extracting zip-file ... Done!\n",
      "- Loading from disk ... "
     ]
    },
    {
     "name": "stderr",
     "output_type": "stream",
     "text": [
      "/opt/anaconda3/lib/python3.12/site-packages/simfin/load.py:154: FutureWarning: The argument 'date_parser' is deprecated and will be removed in a future version. Please use 'date_format' instead, or read your data in as 'object' dtype and then call 'to_datetime'.\n",
      "  df = pd.read_csv(path, sep=';', header=0,\n"
     ]
    },
    {
     "name": "stdout",
     "output_type": "stream",
     "text": [
      "Done!\n",
      "✅ SUCCESSFUL download: income-quarterly\n"
     ]
    }
   ],
   "source": [
    "sf.set_api_key(api_token) #setting the api token\n",
    "#os.makedirs(\"data/raw\", exist_ok=True) #creating the directory\n",
    "sf.set_data_dir('data/raw')\n",
    "\n",
    "datasets = {\n",
    "    \"companies\": lambda market: sf.load_companies(market=market),\n",
    "    \"shareprices-daily\": lambda market: sf.load_shareprices(variant='daily',market=market),\n",
    "    \"industries\": lambda market: sf.load_industries(),\n",
    "    \"cashflow-quarterly\": lambda market: sf.load_cashflow(variant='quarterly',market=market),\n",
    "    \"balance-quarterly\": lambda market: sf.load_balance(variant='quarterly',market=market),\n",
    "    \"income-quarterly\": lambda market: sf.load_income(variant='quarterly',market=market),\n",
    "}\n",
    "\n",
    "\n",
    "for dataset_name, load_function in datasets.items():\n",
    "    try:\n",
    "        _ = load_function(market) \n",
    "        print(f\"SUCCESSFUL download: {dataset_name}\")\n",
    "    except Exception as e:\n",
    "        print(f\"Error downloading {dataset_name}: {e}\")\n"
   ]
  },
  {
   "cell_type": "markdown",
   "id": "2d220ea2",
   "metadata": {},
   "source": [
    "List of all the csv files downloaded"
   ]
  },
  {
   "cell_type": "code",
   "execution_count": 7,
   "id": "e02f1d3b",
   "metadata": {},
   "outputs": [
    {
     "data": {
      "text/plain": [
       "['us-shareprices-daily.csv',\n",
       " 'cache',\n",
       " 'info',\n",
       " 'us-income-quarterly.csv',\n",
       " 'us-cashflow-quarterly.csv',\n",
       " 'industries.csv',\n",
       " 'download',\n",
       " 'us-balance-quarterly.csv',\n",
       " 'us-companies.csv']"
      ]
     },
     "execution_count": 7,
     "metadata": {},
     "output_type": "execute_result"
    }
   ],
   "source": [
    "os.listdir('data/raw/')"
   ]
  },
  {
   "cell_type": "code",
   "execution_count": null,
   "id": "e7bf47ce",
   "metadata": {},
   "outputs": [],
   "source": []
  }
 ],
 "metadata": {
  "kernelspec": {
   "display_name": "base",
   "language": "python",
   "name": "python3"
  },
  "language_info": {
   "codemirror_mode": {
    "name": "ipython",
    "version": 3
   },
   "file_extension": ".py",
   "mimetype": "text/x-python",
   "name": "python",
   "nbconvert_exporter": "python",
   "pygments_lexer": "ipython3",
   "version": "3.12.4"
  }
 },
 "nbformat": 4,
 "nbformat_minor": 5
}
