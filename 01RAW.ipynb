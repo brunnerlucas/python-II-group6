{
 "cells": [
  {
   "cell_type": "code",
   "execution_count": 70,
   "id": "0415cc56-035e-4517-a132-c95feeff8ddf",
   "metadata": {},
   "outputs": [
    {
     "data": {
      "text/plain": [
       "True"
      ]
     },
     "execution_count": 70,
     "metadata": {},
     "output_type": "execute_result"
    }
   ],
   "source": [
    "import os\n",
    "import pandas as pd\n",
    "#!pip install simfin\n",
    "import simfin as sf\n",
    "from dotenv import load_dotenv\n",
    "load_dotenv()"
   ]
  },
  {
   "cell_type": "markdown",
   "id": "1904d5ba",
   "metadata": {},
   "source": [
    "We created a For loop with all the datasets we wanted to download. The load_function() is execturing for each item in the dataset the lambda function"
   ]
  },
  {
   "cell_type": "code",
   "execution_count": 71,
   "id": "054f6477",
   "metadata": {},
   "outputs": [],
   "source": [
    "api_token = os.getenv('API_KEY') #getting the api key\n",
    "market='us' #defines which market the data should be "
   ]
  },
  {
   "cell_type": "code",
   "execution_count": 74,
   "id": "f61c6f4b",
   "metadata": {},
   "outputs": [
    {
     "name": "stdout",
     "output_type": "stream",
     "text": [
      "Dataset \"us-companies\" on disk (0 days old).\n",
      "- Loading from disk ... Done!\n",
      " SUCCESSFUL dowload companies\n",
      "Dataset \"us-shareprices-daily\" on disk (0 days old).\n",
      "- Loading from disk ... "
     ]
    },
    {
     "name": "stderr",
     "output_type": "stream",
     "text": [
      "/opt/anaconda3/lib/python3.12/site-packages/simfin/load.py:154: FutureWarning: The argument 'date_parser' is deprecated and will be removed in a future version. Please use 'date_format' instead, or read your data in as 'object' dtype and then call 'to_datetime'.\n",
      "  df = pd.read_csv(path, sep=';', header=0,\n",
      "/opt/anaconda3/lib/python3.12/site-packages/simfin/load.py:154: FutureWarning: The argument 'date_parser' is deprecated and will be removed in a future version. Please use 'date_format' instead, or read your data in as 'object' dtype and then call 'to_datetime'.\n",
      "  df = pd.read_csv(path, sep=';', header=0,\n"
     ]
    },
    {
     "name": "stdout",
     "output_type": "stream",
     "text": [
      "Done!\n",
      " SUCCESSFUL dowload shareprices_daily\n",
      "Dataset \"industries\" on disk (0 days old).\n",
      "- Loading from disk ... Done!\n",
      " SUCCESSFUL dowload industries\n",
      "Dataset \"us-cashflow-quarterly\" on disk (0 days old).\n",
      "- Loading from disk ... "
     ]
    },
    {
     "name": "stderr",
     "output_type": "stream",
     "text": [
      "/opt/anaconda3/lib/python3.12/site-packages/simfin/load.py:154: FutureWarning: The argument 'date_parser' is deprecated and will be removed in a future version. Please use 'date_format' instead, or read your data in as 'object' dtype and then call 'to_datetime'.\n",
      "  df = pd.read_csv(path, sep=';', header=0,\n",
      "/opt/anaconda3/lib/python3.12/site-packages/simfin/load.py:154: FutureWarning: The argument 'date_parser' is deprecated and will be removed in a future version. Please use 'date_format' instead, or read your data in as 'object' dtype and then call 'to_datetime'.\n",
      "  df = pd.read_csv(path, sep=';', header=0,\n"
     ]
    },
    {
     "name": "stdout",
     "output_type": "stream",
     "text": [
      "Done!\n",
      " SUCCESSFUL dowload cashflow_quarterly\n",
      "Dataset \"us-balance-quarterly\" on disk (0 days old).\n",
      "- Loading from disk ... "
     ]
    },
    {
     "name": "stderr",
     "output_type": "stream",
     "text": [
      "/opt/anaconda3/lib/python3.12/site-packages/simfin/load.py:154: FutureWarning: The argument 'date_parser' is deprecated and will be removed in a future version. Please use 'date_format' instead, or read your data in as 'object' dtype and then call 'to_datetime'.\n",
      "  df = pd.read_csv(path, sep=';', header=0,\n"
     ]
    },
    {
     "name": "stdout",
     "output_type": "stream",
     "text": [
      "Done!\n",
      " SUCCESSFUL dowload balance_quarterly\n",
      "Dataset \"us-income-quarterly\" on disk (0 days old).\n",
      "- Loading from disk ... "
     ]
    },
    {
     "name": "stderr",
     "output_type": "stream",
     "text": [
      "/opt/anaconda3/lib/python3.12/site-packages/simfin/load.py:154: FutureWarning: The argument 'date_parser' is deprecated and will be removed in a future version. Please use 'date_format' instead, or read your data in as 'object' dtype and then call 'to_datetime'.\n",
      "  df = pd.read_csv(path, sep=';', header=0,\n"
     ]
    },
    {
     "name": "stdout",
     "output_type": "stream",
     "text": [
      "Done!\n",
      " SUCCESSFUL dowload income_quarterly\n"
     ]
    }
   ],
   "source": [
    "sf.set_api_key(api_token) #setting the api token\n",
    "os.makedirs(\"data/raw\", exist_ok=True) #creating the directory\n",
    "\n",
    "datasets = {\n",
    "    \"companies\": lambda market: sf.load_companies(market=market),\n",
    "    \"shareprices_daily\": lambda market: sf.load_shareprices(variant='daily'),\n",
    "    \"industries\": lambda market: sf.load_industries(),\n",
    "    \"cashflow_quarterly\": lambda market: sf.load_cashflow(variant='quarterly'),\n",
    "    \"balance_quarterly\": lambda market: sf.load_balance(variant='quarterly'),\n",
    "    \"income_quarterly\": lambda market: sf.load_income(variant='quarterly'),\n",
    "}\n",
    "\n",
    "\n",
    "for dataset_name, load_function in datasets.items():\n",
    "        try:\n",
    "            loadingstatement = load_function(market)  # Call function dynamically\n",
    "            filepath = f\"data/raw/{market}_{dataset_name}.csv\"\n",
    "            loadingstatement.to_csv(filepath, index=False)# Save to CSV\n",
    "            print(f\" SUCCESSFUL dowload {dataset_name}\")\n",
    "        except:\n",
    "            print(f\" Error downloading {dataset_name}\")\n"
   ]
  },
  {
   "cell_type": "markdown",
   "id": "2d220ea2",
   "metadata": {},
   "source": [
    "List of all the csv files downloaded"
   ]
  },
  {
   "cell_type": "code",
   "execution_count": 75,
   "id": "e02f1d3b",
   "metadata": {},
   "outputs": [
    {
     "data": {
      "text/plain": [
       "['us_industries.csv',\n",
       " 'us_cashflow_quarterly.csv',\n",
       " 'us_shareprices_daily.csv',\n",
       " 'us_income_quarterly.csv',\n",
       " 'us_companies.csv',\n",
       " 'us_balance_quarterly.csv']"
      ]
     },
     "execution_count": 75,
     "metadata": {},
     "output_type": "execute_result"
    }
   ],
   "source": [
    "os.listdir('data/raw/')"
   ]
  },
  {
   "cell_type": "code",
   "execution_count": null,
   "id": "52542796",
   "metadata": {},
   "outputs": [],
   "source": []
  }
 ],
 "metadata": {
  "kernelspec": {
   "display_name": "base",
   "language": "python",
   "name": "python3"
  },
  "language_info": {
   "codemirror_mode": {
    "name": "ipython",
    "version": 3
   },
   "file_extension": ".py",
   "mimetype": "text/x-python",
   "name": "python",
   "nbconvert_exporter": "python",
   "pygments_lexer": "ipython3",
   "version": "3.12.4"
  }
 },
 "nbformat": 4,
 "nbformat_minor": 5
}
