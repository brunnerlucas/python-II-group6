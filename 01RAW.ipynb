{
 "cells": [
  {
   "cell_type": "code",
   "execution_count": 1,
   "id": "0415cc56-035e-4517-a132-c95feeff8ddf",
   "metadata": {},
   "outputs": [
    {
     "name": "stdout",
     "output_type": "stream",
     "text": [
      "Requirement already satisfied: simfin in c:\\users\\isabe\\appdata\\local\\packages\\pythonsoftwarefoundation.python.3.11_qbz5n2kfra8p0\\localcache\\local-packages\\python311\\site-packages (1.0.1)\n",
      "Requirement already satisfied: pandas in c:\\users\\isabe\\appdata\\local\\packages\\pythonsoftwarefoundation.python.3.11_qbz5n2kfra8p0\\localcache\\local-packages\\python311\\site-packages (from simfin) (2.2.3)\n",
      "Requirement already satisfied: numpy in c:\\users\\isabe\\appdata\\local\\packages\\pythonsoftwarefoundation.python.3.11_qbz5n2kfra8p0\\localcache\\local-packages\\python311\\site-packages (from simfin) (2.2.3)\n",
      "Requirement already satisfied: requests in c:\\users\\isabe\\appdata\\local\\packages\\pythonsoftwarefoundation.python.3.11_qbz5n2kfra8p0\\localcache\\local-packages\\python311\\site-packages (from simfin) (2.32.3)\n",
      "Requirement already satisfied: python-dateutil>=2.8.2 in c:\\users\\isabe\\appdata\\local\\packages\\pythonsoftwarefoundation.python.3.11_qbz5n2kfra8p0\\localcache\\local-packages\\python311\\site-packages (from pandas->simfin) (2.9.0.post0)\n",
      "Requirement already satisfied: pytz>=2020.1 in c:\\users\\isabe\\appdata\\local\\packages\\pythonsoftwarefoundation.python.3.11_qbz5n2kfra8p0\\localcache\\local-packages\\python311\\site-packages (from pandas->simfin) (2025.1)\n",
      "Requirement already satisfied: tzdata>=2022.7 in c:\\users\\isabe\\appdata\\local\\packages\\pythonsoftwarefoundation.python.3.11_qbz5n2kfra8p0\\localcache\\local-packages\\python311\\site-packages (from pandas->simfin) (2025.1)\n",
      "Requirement already satisfied: charset-normalizer<4,>=2 in c:\\users\\isabe\\appdata\\local\\packages\\pythonsoftwarefoundation.python.3.11_qbz5n2kfra8p0\\localcache\\local-packages\\python311\\site-packages (from requests->simfin) (3.4.1)\n",
      "Requirement already satisfied: idna<4,>=2.5 in c:\\users\\isabe\\appdata\\local\\packages\\pythonsoftwarefoundation.python.3.11_qbz5n2kfra8p0\\localcache\\local-packages\\python311\\site-packages (from requests->simfin) (3.10)\n",
      "Requirement already satisfied: urllib3<3,>=1.21.1 in c:\\users\\isabe\\appdata\\local\\packages\\pythonsoftwarefoundation.python.3.11_qbz5n2kfra8p0\\localcache\\local-packages\\python311\\site-packages (from requests->simfin) (2.3.0)\n",
      "Requirement already satisfied: certifi>=2017.4.17 in c:\\users\\isabe\\appdata\\local\\packages\\pythonsoftwarefoundation.python.3.11_qbz5n2kfra8p0\\localcache\\local-packages\\python311\\site-packages (from requests->simfin) (2025.1.31)\n",
      "Requirement already satisfied: six>=1.5 in c:\\users\\isabe\\appdata\\local\\packages\\pythonsoftwarefoundation.python.3.11_qbz5n2kfra8p0\\localcache\\local-packages\\python311\\site-packages (from python-dateutil>=2.8.2->pandas->simfin) (1.17.0)\n"
     ]
    },
    {
     "name": "stderr",
     "output_type": "stream",
     "text": [
      "\n",
      "[notice] A new release of pip is available: 24.0 -> 25.0.1\n",
      "[notice] To update, run: C:\\Users\\isabe\\AppData\\Local\\Microsoft\\WindowsApps\\PythonSoftwareFoundation.Python.3.11_qbz5n2kfra8p0\\python.exe -m pip install --upgrade pip\n",
      "\n",
      "[notice] A new release of pip is available: 24.0 -> 25.0.1\n",
      "[notice] To update, run: C:\\Users\\isabe\\AppData\\Local\\Microsoft\\WindowsApps\\PythonSoftwareFoundation.Python.3.11_qbz5n2kfra8p0\\python.exe -m pip install --upgrade pip\n"
     ]
    },
    {
     "name": "stdout",
     "output_type": "stream",
     "text": [
      "Requirement already satisfied: dotenv in c:\\users\\isabe\\appdata\\local\\packages\\pythonsoftwarefoundation.python.3.11_qbz5n2kfra8p0\\localcache\\local-packages\\python311\\site-packages (0.9.9)\n",
      "Requirement already satisfied: python-dotenv in c:\\users\\isabe\\appdata\\local\\packages\\pythonsoftwarefoundation.python.3.11_qbz5n2kfra8p0\\localcache\\local-packages\\python311\\site-packages (from dotenv) (1.0.1)\n"
     ]
    },
    {
     "data": {
      "text/plain": [
       "True"
      ]
     },
     "execution_count": 1,
     "metadata": {},
     "output_type": "execute_result"
    }
   ],
   "source": [
    "import os\n",
    "import pandas as pd\n",
    "! pip install simfin\n",
    "! pip install dotenv\n",
    "import simfin as sf\n",
    "from dotenv import load_dotenv\n",
    "load_dotenv()"
   ]
  },
  {
   "cell_type": "markdown",
   "id": "1904d5ba",
   "metadata": {},
   "source": [
    "We created a For loop with all the datasets we wanted to download. The load_function() is execturing for each item in the dataset the lambda function"
   ]
  },
  {
   "cell_type": "code",
   "execution_count": 2,
   "id": "054f6477",
   "metadata": {},
   "outputs": [],
   "source": [
    "api_token = os.getenv('API_KEY') #getting the api key\n",
    "market='us' #defines which market the data should be "
   ]
  },
  {
   "cell_type": "code",
   "execution_count": 12,
   "id": "f61c6f4b",
   "metadata": {},
   "outputs": [
    {
     "name": "stdout",
     "output_type": "stream",
     "text": [
      "Dataset \"us-companies\" on disk (3 days old).\n",
      "- Loading from disk ... Done!\n"
     ]
    },
    {
     "name": "stderr",
     "output_type": "stream",
     "text": [
      "C:\\Users\\isabe\\AppData\\Local\\Packages\\PythonSoftwareFoundation.Python.3.11_qbz5n2kfra8p0\\LocalCache\\local-packages\\Python311\\site-packages\\simfin\\load.py:154: FutureWarning: The argument 'date_parser' is deprecated and will be removed in a future version. Please use 'date_format' instead, or read your data in as 'object' dtype and then call 'to_datetime'.\n",
      "  df = pd.read_csv(path, sep=';', header=0,\n"
     ]
    },
    {
     "name": "stdout",
     "output_type": "stream",
     "text": [
      " SUCCESSFUL dowload companies\n",
      "Dataset \"us-shareprices-latest\" not on disk.\n",
      "- Downloading ... 100.0%\n",
      "- Extracting zip-file ... Done!\n",
      "- Loading from disk ... Done!\n",
      " SUCCESSFUL dowload shareprices_daily\n",
      "Dataset \"industries\" on disk (3 days old).\n",
      "- Loading from disk ... Done!\n",
      " SUCCESSFUL dowload industries\n",
      "Dataset \"us-cashflow-quarterly\" on disk (3 days old).\n",
      "- Loading from disk ... "
     ]
    },
    {
     "name": "stderr",
     "output_type": "stream",
     "text": [
      "C:\\Users\\isabe\\AppData\\Local\\Packages\\PythonSoftwareFoundation.Python.3.11_qbz5n2kfra8p0\\LocalCache\\local-packages\\Python311\\site-packages\\simfin\\load.py:154: FutureWarning: The argument 'date_parser' is deprecated and will be removed in a future version. Please use 'date_format' instead, or read your data in as 'object' dtype and then call 'to_datetime'.\n",
      "  df = pd.read_csv(path, sep=';', header=0,\n",
      "C:\\Users\\isabe\\AppData\\Local\\Packages\\PythonSoftwareFoundation.Python.3.11_qbz5n2kfra8p0\\LocalCache\\local-packages\\Python311\\site-packages\\simfin\\load.py:154: FutureWarning: The argument 'date_parser' is deprecated and will be removed in a future version. Please use 'date_format' instead, or read your data in as 'object' dtype and then call 'to_datetime'.\n",
      "  df = pd.read_csv(path, sep=';', header=0,\n",
      "C:\\Users\\isabe\\AppData\\Local\\Packages\\PythonSoftwareFoundation.Python.3.11_qbz5n2kfra8p0\\LocalCache\\local-packages\\Python311\\site-packages\\simfin\\load.py:154: FutureWarning: The argument 'date_parser' is deprecated and will be removed in a future version. Please use 'date_format' instead, or read your data in as 'object' dtype and then call 'to_datetime'.\n",
      "  df = pd.read_csv(path, sep=';', header=0,\n"
     ]
    },
    {
     "name": "stdout",
     "output_type": "stream",
     "text": [
      "Done!\n",
      " SUCCESSFUL dowload cashflow_quarterly\n",
      "Dataset \"us-balance-quarterly\" on disk (3 days old).\n",
      "- Loading from disk ... "
     ]
    },
    {
     "name": "stderr",
     "output_type": "stream",
     "text": [
      "C:\\Users\\isabe\\AppData\\Local\\Packages\\PythonSoftwareFoundation.Python.3.11_qbz5n2kfra8p0\\LocalCache\\local-packages\\Python311\\site-packages\\simfin\\load.py:154: FutureWarning: The argument 'date_parser' is deprecated and will be removed in a future version. Please use 'date_format' instead, or read your data in as 'object' dtype and then call 'to_datetime'.\n",
      "  df = pd.read_csv(path, sep=';', header=0,\n"
     ]
    },
    {
     "name": "stdout",
     "output_type": "stream",
     "text": [
      "Done!\n",
      " SUCCESSFUL dowload balance_quarterly\n",
      "Dataset \"us-income-quarterly\" on disk (3 days old).\n",
      "- Loading from disk ... "
     ]
    },
    {
     "name": "stderr",
     "output_type": "stream",
     "text": [
      "C:\\Users\\isabe\\AppData\\Local\\Packages\\PythonSoftwareFoundation.Python.3.11_qbz5n2kfra8p0\\LocalCache\\local-packages\\Python311\\site-packages\\simfin\\load.py:154: FutureWarning: The argument 'date_parser' is deprecated and will be removed in a future version. Please use 'date_format' instead, or read your data in as 'object' dtype and then call 'to_datetime'.\n",
      "  df = pd.read_csv(path, sep=';', header=0,\n"
     ]
    },
    {
     "name": "stdout",
     "output_type": "stream",
     "text": [
      "Done!\n",
      " SUCCESSFUL dowload income_quarterly\n"
     ]
    }
   ],
   "source": [
    "sf.set_api_key(api_token) #setting the api token\n",
    "os.makedirs(\"data/raw\", exist_ok=True) #creating the directory\n",
    "sf.set_data_dir('~/simfin_data/')\n",
    "\n",
    "datasets = {\n",
    "    \"companies\": lambda market: sf.load_companies(market=market),\n",
    "    \"shareprices_daily\": lambda market: sf.load_shareprices(),\n",
    "    \"industries\": lambda market: sf.load_industries(),\n",
    "    \"cashflow_quarterly\": lambda market: sf.load_cashflow(variant='quarterly'),\n",
    "    \"balance_quarterly\": lambda market: sf.load_balance(variant='quarterly'),\n",
    "    \"income_quarterly\": lambda market: sf.load_income(variant='quarterly')\n",
    "}\n",
    "\n",
    "\n",
    "for dataset_name, load_function in datasets.items():\n",
    "        try:\n",
    "            loadingstatement = load_function(market)  # Call function dynamically\n",
    "            filepath = f\"data/raw/{market}_{dataset_name}.csv\"\n",
    "            loadingstatement.to_csv(filepath, index=False)# Save to CSV\n",
    "            print(f\" SUCCESSFUL dowload {dataset_name}\")\n",
    "        except:\n",
    "            print(f\" Error downloading {dataset_name}\")\n"
   ]
  },
  {
   "cell_type": "markdown",
   "id": "2d220ea2",
   "metadata": {},
   "source": [
    "List of all the csv files downloaded"
   ]
  },
  {
   "cell_type": "code",
   "execution_count": 8,
   "id": "e02f1d3b",
   "metadata": {},
   "outputs": [
    {
     "data": {
      "text/plain": [
       "['cache',\n",
       " 'download',\n",
       " 'industries.csv',\n",
       " 'info',\n",
       " 'us_balance_quarterly.csv',\n",
       " 'us_cashflow_quarterly.csv',\n",
       " 'us_companies.csv',\n",
       " 'us_income_quarterly.csv',\n",
       " 'us_industries.csv',\n",
       " 'us_shareprices_daily.csv']"
      ]
     },
     "execution_count": 8,
     "metadata": {},
     "output_type": "execute_result"
    }
   ],
   "source": [
    "os.listdir('data/raw/')"
   ]
  },
  {
   "cell_type": "code",
   "execution_count": null,
   "id": "52542796",
   "metadata": {},
   "outputs": [],
   "source": []
  },
  {
   "cell_type": "code",
   "execution_count": null,
   "id": "1326c46b",
   "metadata": {},
   "outputs": [],
   "source": []
  }
 ],
 "metadata": {
  "kernelspec": {
   "display_name": "Python 3",
   "language": "python",
   "name": "python3"
  },
  "language_info": {
   "codemirror_mode": {
    "name": "ipython",
    "version": 3
   },
   "file_extension": ".py",
   "mimetype": "text/x-python",
   "name": "python",
   "nbconvert_exporter": "python",
   "pygments_lexer": "ipython3",
   "version": "3.11.9"
  }
 },
 "nbformat": 4,
 "nbformat_minor": 5
}
