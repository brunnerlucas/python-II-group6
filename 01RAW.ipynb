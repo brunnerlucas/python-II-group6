{
 "cells": [
  {
   "cell_type": "code",
   "execution_count": 1,
   "id": "0415cc56-035e-4517-a132-c95feeff8ddf",
   "metadata": {},
   "outputs": [
    {
     "data": {
      "text/plain": [
       "True"
      ]
     },
     "execution_count": 1,
     "metadata": {},
     "output_type": "execute_result"
    }
   ],
   "source": [
    "import os\n",
    "import pandas as pd\n",
    "#!pip install simfin\n",
    "import simfin as sf\n",
    "from dotenv import load_dotenv\n",
    "load_dotenv()"
   ]
  },
  {
   "cell_type": "markdown",
   "id": "1904d5ba",
   "metadata": {},
   "source": [
    "We created a For loop with all the datasets we wanted to download. The load_function() is execturing for each item in the dataset the lambda function"
   ]
  },
  {
   "cell_type": "code",
   "execution_count": 5,
   "id": "054f6477",
   "metadata": {},
   "outputs": [],
   "source": [
    "api_token = os.getenv('API_KEY') #getting the api key\n",
    "market='us' #defines which market the data should be "
   ]
  },
  {
   "cell_type": "code",
   "execution_count": 21,
   "id": "3689c34b",
   "metadata": {},
   "outputs": [
    {
     "name": "stdout",
     "output_type": "stream",
     "text": [
      "[{\"columns\":[\"Date\",\"Dividend Paid\",\"Common Shares Outstanding\",\"Last Closing Price\",\"Adjusted Closing Price\",\"Highest Price\",\"Lowest Price\",\"Opening Price\",\"Trading Volume\"],\"name\":\"APPLE INC\",\"id\":111052,\"ticker\":\"AAPL\",\"currency\":\"USD\",\"isin\":\"US0378331005\",\"data\":[[\"2025-03-03\",null,15022073000,238.03,238.03,244.03,236.11,241.79,46873613],[\"2025-03-04\",null,15022073000,235.93,235.93,240.07,234.68,237.71,53009183],[\"2025-03-05\",null,15022073000,235.74,235.74,236.55,229.23,235.42,46987098],[\"2025-03-06\",null,15022073000,235.33,235.33,237.86,233.16,234.44,44856248],[\"2025-03-07\",null,15022073000,239.07,239.07,241.37,234.76,235.10,45602641]]}]\n"
     ]
    }
   ],
   "source": [
    "import requests\n",
    "\n",
    "url = \"https://backend.simfin.com/api/v3/companies/prices/compact?ticker=AAPL&start=2025-03-01&end=2025-03-10\"\n",
    "\n",
    "\n",
    "headers = {\n",
    "    \"accept\": \"application/json\",\n",
    "    \"Authorization\": api_token\n",
    "}\n",
    "response = requests.get(url, headers=headers)\n",
    "\n",
    "print(response.text)"
   ]
  },
  {
   "cell_type": "code",
   "execution_count": 15,
   "id": "f61c6f4b",
   "metadata": {},
   "outputs": [
    {
     "name": "stdout",
     "output_type": "stream",
     "text": [
      "Dataset \"us-companies\" on disk (3 days old).\n",
      "- Loading from disk ... Done!\n",
      " SUCCESSFUL dowload companies\n",
      "Dataset \"us-shareprices-daily\" on disk (3 days old).\n",
      "- Loading from disk ... "
     ]
    },
    {
     "name": "stderr",
     "output_type": "stream",
     "text": [
      "/opt/anaconda3/lib/python3.12/site-packages/simfin/load.py:154: FutureWarning: The argument 'date_parser' is deprecated and will be removed in a future version. Please use 'date_format' instead, or read your data in as 'object' dtype and then call 'to_datetime'.\n",
      "  df = pd.read_csv(path, sep=';', header=0,\n",
      "/opt/anaconda3/lib/python3.12/site-packages/simfin/load.py:154: FutureWarning: The argument 'date_parser' is deprecated and will be removed in a future version. Please use 'date_format' instead, or read your data in as 'object' dtype and then call 'to_datetime'.\n",
      "  df = pd.read_csv(path, sep=';', header=0,\n"
     ]
    },
    {
     "name": "stdout",
     "output_type": "stream",
     "text": [
      "Done!\n",
      " SUCCESSFUL dowload shareprices_daily\n",
      "Dataset \"industries\" on disk (3 days old).\n",
      "- Loading from disk ... Done!\n",
      " SUCCESSFUL dowload industries\n",
      "Dataset \"us-cashflow-quarterly\" on disk (3 days old).\n",
      "- Loading from disk ... "
     ]
    },
    {
     "name": "stderr",
     "output_type": "stream",
     "text": [
      "/opt/anaconda3/lib/python3.12/site-packages/simfin/load.py:154: FutureWarning: The argument 'date_parser' is deprecated and will be removed in a future version. Please use 'date_format' instead, or read your data in as 'object' dtype and then call 'to_datetime'.\n",
      "  df = pd.read_csv(path, sep=';', header=0,\n",
      "/opt/anaconda3/lib/python3.12/site-packages/simfin/load.py:154: FutureWarning: The argument 'date_parser' is deprecated and will be removed in a future version. Please use 'date_format' instead, or read your data in as 'object' dtype and then call 'to_datetime'.\n",
      "  df = pd.read_csv(path, sep=';', header=0,\n"
     ]
    },
    {
     "name": "stdout",
     "output_type": "stream",
     "text": [
      "Done!\n",
      " SUCCESSFUL dowload cashflow_quarterly\n",
      "Dataset \"us-balance-quarterly\" on disk (3 days old).\n",
      "- Loading from disk ... "
     ]
    },
    {
     "name": "stderr",
     "output_type": "stream",
     "text": [
      "/opt/anaconda3/lib/python3.12/site-packages/simfin/load.py:154: FutureWarning: The argument 'date_parser' is deprecated and will be removed in a future version. Please use 'date_format' instead, or read your data in as 'object' dtype and then call 'to_datetime'.\n",
      "  df = pd.read_csv(path, sep=';', header=0,\n"
     ]
    },
    {
     "name": "stdout",
     "output_type": "stream",
     "text": [
      "Done!\n",
      " SUCCESSFUL dowload balance_quarterly\n",
      "Dataset \"us-income-quarterly\" on disk (3 days old).\n",
      "- Loading from disk ... "
     ]
    },
    {
     "name": "stderr",
     "output_type": "stream",
     "text": [
      "/opt/anaconda3/lib/python3.12/site-packages/simfin/load.py:154: FutureWarning: The argument 'date_parser' is deprecated and will be removed in a future version. Please use 'date_format' instead, or read your data in as 'object' dtype and then call 'to_datetime'.\n",
      "  df = pd.read_csv(path, sep=';', header=0,\n"
     ]
    },
    {
     "name": "stdout",
     "output_type": "stream",
     "text": [
      "Done!\n",
      " SUCCESSFUL dowload income_quarterly\n"
     ]
    }
   ],
   "source": [
    "sf.set_api_key(api_token) #setting the api token\n",
    "os.makedirs(\"data/raw\", exist_ok=True) #creating the directory\n",
    "sf.set_data_dir()\n",
    "\n",
    "datasets = {\n",
    "    \"companies\": lambda market: sf.load_companies(market=market),\n",
    "    \"shareprices_daily\": lambda market: sf.load_shareprices(variant='daily'),\n",
    "    \"industries\": lambda market: sf.load_industries(),\n",
    "    \"cashflow_quarterly\": lambda market: sf.load_cashflow(variant='quarterly'),\n",
    "    \"balance_quarterly\": lambda market: sf.load_balance(variant='quarterly'),\n",
    "    \"income_quarterly\": lambda market: sf.load_income(variant='quarterly'),\n",
    "}\n",
    "\n",
    "\n",
    "for dataset_name, load_function in datasets.items():\n",
    "        try:\n",
    "            loadingstatement = load_function(market)  # Call function dynamically\n",
    "            filepath = f\"data/raw/{market}_{dataset_name}.csv\"\n",
    "            loadingstatement.to_csv(filepath, index=False)# Save to CSV\n",
    "            print(f\" SUCCESSFUL dowload {dataset_name}\")\n",
    "        except:\n",
    "            print(f\" Error downloading {dataset_name}\")\n"
   ]
  },
  {
   "cell_type": "markdown",
   "id": "2d220ea2",
   "metadata": {},
   "source": [
    "List of all the csv files downloaded"
   ]
  },
  {
   "cell_type": "code",
   "execution_count": 10,
   "id": "e02f1d3b",
   "metadata": {},
   "outputs": [
    {
     "data": {
      "text/plain": [
       "['us_industries.csv',\n",
       " 'us_cashflow_quarterly.csv',\n",
       " 'us_shareprices_daily.csv',\n",
       " 'us_income_quarterly.csv',\n",
       " 'us_companies.csv',\n",
       " 'us_balance_quarterly.csv']"
      ]
     },
     "execution_count": 10,
     "metadata": {},
     "output_type": "execute_result"
    }
   ],
   "source": [
    "os.listdir('data/raw/')"
   ]
  },
  {
   "cell_type": "code",
   "execution_count": null,
   "id": "c7499170",
   "metadata": {},
   "outputs": [],
   "source": []
  },
  {
   "cell_type": "code",
   "execution_count": null,
   "id": "45f7af4f",
   "metadata": {},
   "outputs": [],
   "source": []
  },
  {
   "cell_type": "code",
   "execution_count": null,
   "id": "9b3f803b",
   "metadata": {},
   "outputs": [],
   "source": []
  },
  {
   "cell_type": "code",
   "execution_count": null,
   "id": "65f7508c",
   "metadata": {},
   "outputs": [],
   "source": []
  }
 ],
 "metadata": {
  "kernelspec": {
   "display_name": "base",
   "language": "python",
   "name": "python3"
  },
  "language_info": {
   "codemirror_mode": {
    "name": "ipython",
    "version": 3
   },
   "file_extension": ".py",
   "mimetype": "text/x-python",
   "name": "python",
   "nbconvert_exporter": "python",
   "pygments_lexer": "ipython3",
   "version": "3.12.4"
  }
 },
 "nbformat": 4,
 "nbformat_minor": 5
}
