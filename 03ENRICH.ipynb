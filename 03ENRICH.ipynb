{
 "cells": [
  {
   "cell_type": "code",
   "execution_count": 8,
   "id": "0415cc56-035e-4517-a132-c95feeff8ddf",
   "metadata": {},
   "outputs": [],
   "source": [
    "import os\n",
    "import pandas as pd"
   ]
  },
  {
   "cell_type": "code",
   "execution_count": 9,
   "id": "6478a754",
   "metadata": {},
   "outputs": [],
   "source": [
    "INPUT_FOLDER = \"preproc\"\n",
    "OUTPUT_FOLDER = \"enrich\""
   ]
  },
  {
   "cell_type": "code",
   "execution_count": 10,
   "id": "f7e31678",
   "metadata": {},
   "outputs": [],
   "source": [
    "os.makedirs(\"data/enrich\", exist_ok=True)"
   ]
  },
  {
   "cell_type": "code",
   "execution_count": 11,
   "id": "aabfb119",
   "metadata": {},
   "outputs": [
    {
     "data": {
      "text/plain": [
       "['us_companies.csv', 'us_shareprices_daily.csv']"
      ]
     },
     "execution_count": 11,
     "metadata": {},
     "output_type": "execute_result"
    }
   ],
   "source": [
    "os.listdir('data/preproc/')"
   ]
  },
  {
   "cell_type": "code",
   "execution_count": 12,
   "id": "fca986de",
   "metadata": {},
   "outputs": [
    {
     "name": "stdout",
     "output_type": "stream",
     "text": [
      "<class 'pandas.core.frame.DataFrame'>\n",
      "RangeIndex: 5013 entries, 0 to 5012\n",
      "Data columns (total 10 columns):\n",
      " #   Column                         Non-Null Count  Dtype  \n",
      "---  ------                         --------------  -----  \n",
      " 0   SimFinId                       5013 non-null   int64  \n",
      " 1   Company Name                   5013 non-null   object \n",
      " 2   IndustryId                     5013 non-null   float64\n",
      " 3   ISIN                           5013 non-null   object \n",
      " 4   End of financial year (month)  5013 non-null   float64\n",
      " 5   Number Employees               5013 non-null   float64\n",
      " 6   Business Summary               5013 non-null   object \n",
      " 7   Market                         5013 non-null   object \n",
      " 8   CIK                            5013 non-null   float64\n",
      " 9   Main Currency                  5013 non-null   object \n",
      "dtypes: float64(4), int64(1), object(5)\n",
      "memory usage: 391.8+ KB\n"
     ]
    }
   ],
   "source": [
    "key = \"us_companies\"\n",
    "data_comp = pd.read_csv(f\"data/{INPUT_FOLDER}/{key}.csv\")\n",
    "data_comp.info(show_counts=True)"
   ]
  },
  {
   "cell_type": "code",
   "execution_count": 13,
   "id": "c3d50694",
   "metadata": {},
   "outputs": [
    {
     "name": "stdout",
     "output_type": "stream",
     "text": [
      "<class 'pandas.core.frame.DataFrame'>\n",
      "RangeIndex: 5013 entries, 0 to 5012\n",
      "Data columns (total 10 columns):\n",
      " #   Column                         Non-Null Count  Dtype  \n",
      "---  ------                         --------------  -----  \n",
      " 0   SimFinId                       5013 non-null   int64  \n",
      " 1   Company Name                   5013 non-null   object \n",
      " 2   IndustryId                     5013 non-null   float64\n",
      " 3   ISIN                           5013 non-null   object \n",
      " 4   End of financial year (month)  5013 non-null   float64\n",
      " 5   Number Employees               5013 non-null   float64\n",
      " 6   Business Summary               5013 non-null   object \n",
      " 7   Market                         5013 non-null   object \n",
      " 8   CIK                            5013 non-null   float64\n",
      " 9   Main Currency                  5013 non-null   object \n",
      "dtypes: float64(4), int64(1), object(5)\n",
      "memory usage: 391.8+ KB\n"
     ]
    }
   ],
   "source": [
    "key = \"us_companies\"\n",
    "data_comp = pd.read_csv(f\"data/{INPUT_FOLDER}/{key}.csv\")\n",
    "data_comp.info(show_counts=True)"
   ]
  },
  {
   "cell_type": "code",
   "execution_count": 15,
   "id": "f571e752",
   "metadata": {},
   "outputs": [
    {
     "ename": "NameError",
     "evalue": "name 'SimFinId' is not defined",
     "output_type": "error",
     "traceback": [
      "\u001b[31m---------------------------------------------------------------------------\u001b[39m",
      "\u001b[31mNameError\u001b[39m                                 Traceback (most recent call last)",
      "\u001b[36mCell\u001b[39m\u001b[36m \u001b[39m\u001b[32mIn[15]\u001b[39m\u001b[32m, line 1\u001b[39m\n\u001b[32m----> \u001b[39m\u001b[32m1\u001b[39m data=data_comp.join(on=\u001b[43mSimFinId\u001b[49m)\n",
      "\u001b[31mNameError\u001b[39m: name 'SimFinId' is not defined"
     ]
    }
   ],
   "source": [
    "\n",
    "data=data_comp.join(on=SimFinId)\n"
   ]
  },
  {
   "cell_type": "code",
   "execution_count": null,
   "id": "18ae4217",
   "metadata": {},
   "outputs": [],
   "source": []
  }
 ],
 "metadata": {
  "kernelspec": {
   "display_name": "Python 3",
   "language": "python",
   "name": "python3"
  },
  "language_info": {
   "codemirror_mode": {
    "name": "ipython",
    "version": 3
   },
   "file_extension": ".py",
   "mimetype": "text/x-python",
   "name": "python",
   "nbconvert_exporter": "python",
   "pygments_lexer": "ipython3",
   "version": "3.11.9"
  },
  "toc-autonumbering": true
 },
 "nbformat": 4,
 "nbformat_minor": 5
}
