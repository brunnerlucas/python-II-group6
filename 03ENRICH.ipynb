{
 "cells": [
  {
   "cell_type": "code",
   "execution_count": 2,
   "id": "0415cc56-035e-4517-a132-c95feeff8ddf",
   "metadata": {},
   "outputs": [],
   "source": [
    "import os\n",
    "import pandas as pd"
   ]
  },
  {
   "cell_type": "code",
   "execution_count": 3,
   "id": "6478a754",
   "metadata": {},
   "outputs": [],
   "source": [
    "INPUT_FOLDER = \"preproc\"\n",
    "OUTPUT_FOLDER = \"enrich\""
   ]
  },
  {
   "cell_type": "code",
   "execution_count": 4,
   "id": "f7e31678",
   "metadata": {},
   "outputs": [],
   "source": [
    "os.makedirs(\"data/enrich\", exist_ok=True)"
   ]
  },
  {
   "cell_type": "code",
   "execution_count": 6,
   "id": "aabfb119",
   "metadata": {},
   "outputs": [
    {
     "data": {
      "text/plain": [
       "['us_shareprices_daily.csv', 'us_companies.csv']"
      ]
     },
     "execution_count": 6,
     "metadata": {},
     "output_type": "execute_result"
    }
   ],
   "source": [
    "os.listdir('data/preproc/')"
   ]
  },
  {
   "cell_type": "code",
   "execution_count": null,
   "id": "fca986de",
   "metadata": {},
   "outputs": [
    {
     "name": "stdout",
     "output_type": "stream",
     "text": [
      "<class 'pandas.core.frame.DataFrame'>\n",
      "RangeIndex: 5011 entries, 0 to 5010\n",
      "Data columns (total 10 columns):\n",
      " #   Column                         Non-Null Count  Dtype  \n",
      "---  ------                         --------------  -----  \n",
      " 0   SimFinId                       5011 non-null   int64  \n",
      " 1   Company Name                   5011 non-null   object \n",
      " 2   IndustryId                     5011 non-null   float64\n",
      " 3   ISIN                           5011 non-null   object \n",
      " 4   End of financial year (month)  5011 non-null   float64\n",
      " 5   Number Employees               5011 non-null   float64\n",
      " 6   Business Summary               5011 non-null   object \n",
      " 7   Market                         5011 non-null   object \n",
      " 8   CIK                            5011 non-null   float64\n",
      " 9   Main Currency                  5011 non-null   object \n",
      "dtypes: float64(4), int64(1), object(5)\n",
      "memory usage: 391.6+ KB\n"
     ]
    }
   ],
   "source": [
    "key = \"us_companies\"\n",
    "data_comp = pd.read_csv(f\"data/{INPUT_FOLDER}/{key}.csv\")\n",
    "data_comp.info(show_counts=True)"
   ]
  },
  {
   "cell_type": "code",
   "execution_count": null,
   "id": "c3d50694",
   "metadata": {},
   "outputs": [],
   "source": [
    "key = \"us_companies\"\n",
    "data_comp = pd.read_csv(f\"data/{INPUT_FOLDER}/{key}.csv\")\n",
    "data_comp.info(show_counts=True)"
   ]
  },
  {
   "cell_type": "code",
   "execution_count": null,
   "id": "f571e752",
   "metadata": {},
   "outputs": [],
   "source": [
    "\n",
    "data=data.join(on=SimFinId)\n"
   ]
  }
 ],
 "metadata": {
  "kernelspec": {
   "display_name": "base",
   "language": "python",
   "name": "python3"
  },
  "language_info": {
   "codemirror_mode": {
    "name": "ipython",
    "version": 3
   },
   "file_extension": ".py",
   "mimetype": "text/x-python",
   "name": "python",
   "nbconvert_exporter": "python",
   "pygments_lexer": "ipython3",
   "version": "3.12.4"
  },
  "toc-autonumbering": true
 },
 "nbformat": 4,
 "nbformat_minor": 5
}
