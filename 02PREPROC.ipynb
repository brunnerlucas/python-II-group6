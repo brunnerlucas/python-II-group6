{
 "cells": [
  {
   "cell_type": "code",
   "execution_count": 75,
   "id": "0415cc56-035e-4517-a132-c95feeff8ddf",
   "metadata": {},
   "outputs": [],
   "source": [
    "import os\n",
    "import pandas as pd\n"
   ]
  },
  {
   "cell_type": "code",
   "execution_count": 76,
   "id": "c7cc59cb",
   "metadata": {},
   "outputs": [],
   "source": [
    "INPUT_FOLDER = \"raw\"\n",
    "OUTPUT_FOLDER = \"preproc\""
   ]
  },
  {
   "cell_type": "code",
   "execution_count": 77,
   "id": "97aa3412",
   "metadata": {},
   "outputs": [],
   "source": [
    "os.makedirs(\"data/preproc\", exist_ok=True)"
   ]
  },
  {
   "cell_type": "code",
   "execution_count": 78,
   "id": "630282d9",
   "metadata": {},
   "outputs": [
    {
     "data": {
      "text/plain": [
       "{'us_balance_quarterly.csv',\n",
       " 'us_cashflow_quarterly.csv',\n",
       " 'us_companies.csv',\n",
       " 'us_income_quarterly.csv',\n",
       " 'us_industries.csv',\n",
       " 'us_shareprices_daily.csv'}"
      ]
     },
     "execution_count": 78,
     "metadata": {},
     "output_type": "execute_result"
    }
   ],
   "source": [
    "datasources = {source for source in os.listdir(f\"data/{INPUT_FOLDER}\")}\n",
    "datasources"
   ]
  },
  {
   "cell_type": "markdown",
   "id": "4a866986",
   "metadata": {},
   "source": [
    "#### Table: `us-companies`"
   ]
  },
  {
   "cell_type": "code",
   "execution_count": 79,
   "id": "cd4910f1",
   "metadata": {},
   "outputs": [
    {
     "name": "stdout",
     "output_type": "stream",
     "text": [
      "<class 'pandas.core.frame.DataFrame'>\n",
      "RangeIndex: 6098 entries, 0 to 6097\n",
      "Data columns (total 10 columns):\n",
      " #   Column                         Non-Null Count  Dtype  \n",
      "---  ------                         --------------  -----  \n",
      " 0   SimFinId                       6098 non-null   int64  \n",
      " 1   Company Name                   6025 non-null   object \n",
      " 2   IndustryId                     5811 non-null   float64\n",
      " 3   ISIN                           5011 non-null   object \n",
      " 4   End of financial year (month)  6026 non-null   float64\n",
      " 5   Number Employees               5343 non-null   float64\n",
      " 6   Business Summary               5787 non-null   object \n",
      " 7   Market                         6098 non-null   object \n",
      " 8   CIK                            6086 non-null   float64\n",
      " 9   Main Currency                  6098 non-null   object \n",
      "dtypes: float64(4), int64(1), object(5)\n",
      "memory usage: 476.5+ KB\n"
     ]
    }
   ],
   "source": [
    "key = \"us_companies\"\n",
    "data = pd.read_csv(f\"data/{INPUT_FOLDER}/{key}.csv\")\n",
    "data.info(show_counts=True)"
   ]
  },
  {
   "cell_type": "code",
   "execution_count": 80,
   "id": "3ea3b65a",
   "metadata": {},
   "outputs": [
    {
     "data": {
      "text/html": [
       "<div>\n",
       "<style scoped>\n",
       "    .dataframe tbody tr th:only-of-type {\n",
       "        vertical-align: middle;\n",
       "    }\n",
       "\n",
       "    .dataframe tbody tr th {\n",
       "        vertical-align: top;\n",
       "    }\n",
       "\n",
       "    .dataframe thead th {\n",
       "        text-align: right;\n",
       "    }\n",
       "</style>\n",
       "<table border=\"1\" class=\"dataframe\">\n",
       "  <thead>\n",
       "    <tr style=\"text-align: right;\">\n",
       "      <th></th>\n",
       "      <th>SimFinId</th>\n",
       "      <th>Company Name</th>\n",
       "      <th>IndustryId</th>\n",
       "      <th>ISIN</th>\n",
       "      <th>End of financial year (month)</th>\n",
       "      <th>Number Employees</th>\n",
       "      <th>Business Summary</th>\n",
       "      <th>Market</th>\n",
       "      <th>CIK</th>\n",
       "      <th>Main Currency</th>\n",
       "    </tr>\n",
       "  </thead>\n",
       "  <tbody>\n",
       "    <tr>\n",
       "      <th>0</th>\n",
       "      <td>45846</td>\n",
       "      <td>AGILENT TECHNOLOGIES INC</td>\n",
       "      <td>106001.0</td>\n",
       "      <td>US00846U1016</td>\n",
       "      <td>10.0</td>\n",
       "      <td>16400.0</td>\n",
       "      <td>Agilent Technologies Inc is engaged in life sc...</td>\n",
       "      <td>us</td>\n",
       "      <td>1090872.0</td>\n",
       "      <td>USD</td>\n",
       "    </tr>\n",
       "    <tr>\n",
       "      <th>1</th>\n",
       "      <td>1333027</td>\n",
       "      <td>Li Auto Inc.</td>\n",
       "      <td>NaN</td>\n",
       "      <td>NaN</td>\n",
       "      <td>12.0</td>\n",
       "      <td>NaN</td>\n",
       "      <td>NaN</td>\n",
       "      <td>us</td>\n",
       "      <td>1791706.0</td>\n",
       "      <td>USD</td>\n",
       "    </tr>\n",
       "    <tr>\n",
       "      <th>2</th>\n",
       "      <td>367153</td>\n",
       "      <td>Alcoa Corp</td>\n",
       "      <td>110004.0</td>\n",
       "      <td>US0138721065</td>\n",
       "      <td>12.0</td>\n",
       "      <td>12900.0</td>\n",
       "      <td>Alcoa Corp is an integrated aluminum company. ...</td>\n",
       "      <td>us</td>\n",
       "      <td>1675149.0</td>\n",
       "      <td>USD</td>\n",
       "    </tr>\n",
       "    <tr>\n",
       "      <th>3</th>\n",
       "      <td>7962652</td>\n",
       "      <td>Ares Acquisition Corporation</td>\n",
       "      <td>104002.0</td>\n",
       "      <td>US0003071083</td>\n",
       "      <td>12.0</td>\n",
       "      <td>NaN</td>\n",
       "      <td>Ares Acquisition Corporation does not have sig...</td>\n",
       "      <td>us</td>\n",
       "      <td>1829432.0</td>\n",
       "      <td>USD</td>\n",
       "    </tr>\n",
       "    <tr>\n",
       "      <th>4</th>\n",
       "      <td>11820349</td>\n",
       "      <td>Armada Acquisition Corp. I</td>\n",
       "      <td>104002.0</td>\n",
       "      <td>US04208V1035</td>\n",
       "      <td>9.0</td>\n",
       "      <td>NaN</td>\n",
       "      <td>Armada Acquisition Corp. I focuses on effectin...</td>\n",
       "      <td>us</td>\n",
       "      <td>1844817.0</td>\n",
       "      <td>USD</td>\n",
       "    </tr>\n",
       "  </tbody>\n",
       "</table>\n",
       "</div>"
      ],
      "text/plain": [
       "   SimFinId                  Company Name  IndustryId          ISIN  \\\n",
       "0     45846      AGILENT TECHNOLOGIES INC    106001.0  US00846U1016   \n",
       "1   1333027                  Li Auto Inc.         NaN           NaN   \n",
       "2    367153                    Alcoa Corp    110004.0  US0138721065   \n",
       "3   7962652  Ares Acquisition Corporation    104002.0  US0003071083   \n",
       "4  11820349    Armada Acquisition Corp. I    104002.0  US04208V1035   \n",
       "\n",
       "   End of financial year (month)  Number Employees  \\\n",
       "0                           10.0           16400.0   \n",
       "1                           12.0               NaN   \n",
       "2                           12.0           12900.0   \n",
       "3                           12.0               NaN   \n",
       "4                            9.0               NaN   \n",
       "\n",
       "                                    Business Summary Market        CIK  \\\n",
       "0  Agilent Technologies Inc is engaged in life sc...     us  1090872.0   \n",
       "1                                                NaN     us  1791706.0   \n",
       "2  Alcoa Corp is an integrated aluminum company. ...     us  1675149.0   \n",
       "3  Ares Acquisition Corporation does not have sig...     us  1829432.0   \n",
       "4  Armada Acquisition Corp. I focuses on effectin...     us  1844817.0   \n",
       "\n",
       "  Main Currency  \n",
       "0           USD  \n",
       "1           USD  \n",
       "2           USD  \n",
       "3           USD  \n",
       "4           USD  "
      ]
     },
     "execution_count": 80,
     "metadata": {},
     "output_type": "execute_result"
    }
   ],
   "source": [
    "data.head()"
   ]
  },
  {
   "cell_type": "code",
   "execution_count": 81,
   "id": "6e44f9fd",
   "metadata": {},
   "outputs": [
    {
     "data": {
      "text/plain": [
       "91"
      ]
     },
     "execution_count": 81,
     "metadata": {},
     "output_type": "execute_result"
    }
   ],
   "source": [
    "data['Company Name'].duplicated().sum()\n"
   ]
  },
  {
   "cell_type": "code",
   "execution_count": 82,
   "id": "6258204d",
   "metadata": {},
   "outputs": [
    {
     "data": {
      "text/plain": [
       "1087"
      ]
     },
     "execution_count": 82,
     "metadata": {},
     "output_type": "execute_result"
    }
   ],
   "source": [
    "data['ISIN'].duplicated().sum()\n"
   ]
  },
  {
   "cell_type": "code",
   "execution_count": 83,
   "id": "2daa6a44",
   "metadata": {},
   "outputs": [
    {
     "data": {
      "text/plain": [
       "86"
      ]
     },
     "execution_count": 83,
     "metadata": {},
     "output_type": "execute_result"
    }
   ],
   "source": [
    "data['CIK'].duplicated().sum()\n"
   ]
  },
  {
   "cell_type": "code",
   "execution_count": null,
   "id": "cf98086f",
   "metadata": {},
   "outputs": [
    {
     "data": {
      "text/plain": [
       "SimFinId                           0\n",
       "Company Name                       0\n",
       "IndustryId                        16\n",
       "ISIN                               1\n",
       "End of financial year (month)      0\n",
       "Number Employees                 304\n",
       "Business Summary                   9\n",
       "Market                             0\n",
       "CIK                                1\n",
       "Main Currency                      0\n",
       "dtype: int64"
      ]
     },
     "execution_count": 84,
     "metadata": {},
     "output_type": "execute_result"
    }
   ],
   "source": [
    "data = data[~data['ISIN'].duplicated()]\n"
   ]
  },
  {
   "cell_type": "code",
   "execution_count": 90,
   "id": "f9f66b25",
   "metadata": {},
   "outputs": [
    {
     "data": {
      "text/plain": [
       "SimFinId                           0\n",
       "Company Name                       0\n",
       "IndustryId                         0\n",
       "ISIN                               0\n",
       "End of financial year (month)      0\n",
       "Number Employees                 304\n",
       "Business Summary                   9\n",
       "Market                             0\n",
       "CIK                                1\n",
       "Main Currency                      0\n",
       "dtype: int64"
      ]
     },
     "execution_count": 90,
     "metadata": {},
     "output_type": "execute_result"
    }
   ],
   "source": [
    "data.isnull().sum()"
   ]
  },
  {
   "cell_type": "code",
   "execution_count": 88,
   "id": "fcd8e064",
   "metadata": {},
   "outputs": [
    {
     "name": "stderr",
     "output_type": "stream",
     "text": [
      "/var/folders/nl/1mz19h4n1d920hbz6_952lk00000gn/T/ipykernel_6749/3260577247.py:1: FutureWarning: A value is trying to be set on a copy of a DataFrame or Series through chained assignment using an inplace method.\n",
      "The behavior will change in pandas 3.0. This inplace method will never work because the intermediate object on which we are setting values always behaves as a copy.\n",
      "\n",
      "For example, when doing 'df[col].method(value, inplace=True)', try using 'df.method({col: value}, inplace=True)' or df[col] = df[col].method(value) instead, to perform the operation inplace on the original object.\n",
      "\n",
      "\n",
      "  data['IndustryId'].fillna(0, inplace=True)\n",
      "/var/folders/nl/1mz19h4n1d920hbz6_952lk00000gn/T/ipykernel_6749/3260577247.py:2: FutureWarning: A value is trying to be set on a copy of a DataFrame or Series through chained assignment using an inplace method.\n",
      "The behavior will change in pandas 3.0. This inplace method will never work because the intermediate object on which we are setting values always behaves as a copy.\n",
      "\n",
      "For example, when doing 'df[col].method(value, inplace=True)', try using 'df.method({col: value}, inplace=True)' or df[col] = df[col].method(value) instead, to perform the operation inplace on the original object.\n",
      "\n",
      "\n",
      "  data['ISIN'].fillna(0, inplace=True)\n"
     ]
    }
   ],
   "source": [
    "data['IndustryId'].fillna(0, inplace=True)\n",
    "data['ISIN'].fillna(0, inplace=True)\n"
   ]
  },
  {
   "cell_type": "code",
   "execution_count": 91,
   "id": "e1e900ac",
   "metadata": {},
   "outputs": [],
   "source": [
    "data.to_csv(f\"data/{OUTPUT_FOLDER}/{key}.csv\", index=False)"
   ]
  },
  {
   "cell_type": "markdown",
   "id": "1711c1b4",
   "metadata": {},
   "source": [
    "We have to fill in the unknown company names"
   ]
  },
  {
   "cell_type": "code",
   "execution_count": 72,
   "id": "68733e94",
   "metadata": {},
   "outputs": [
    {
     "name": "stdout",
     "output_type": "stream",
     "text": [
      "<class 'pandas.core.frame.DataFrame'>\n",
      "RangeIndex: 74 entries, 0 to 73\n",
      "Data columns (total 2 columns):\n",
      " #   Column    Non-Null Count  Dtype \n",
      "---  ------    --------------  ----- \n",
      " 0   Industry  74 non-null     object\n",
      " 1   Sector    74 non-null     object\n",
      "dtypes: object(2)\n",
      "memory usage: 1.3+ KB\n"
     ]
    }
   ],
   "source": [
    "key = \"us_industries\"\n",
    "data = pd.read_csv(f\"data/{INPUT_FOLDER}/{key}.csv\")\n",
    "data.info(show_counts=True)\n"
   ]
  },
  {
   "cell_type": "code",
   "execution_count": 73,
   "id": "74772d99",
   "metadata": {},
   "outputs": [
    {
     "data": {
      "text/html": [
       "<div>\n",
       "<style scoped>\n",
       "    .dataframe tbody tr th:only-of-type {\n",
       "        vertical-align: middle;\n",
       "    }\n",
       "\n",
       "    .dataframe tbody tr th {\n",
       "        vertical-align: top;\n",
       "    }\n",
       "\n",
       "    .dataframe thead th {\n",
       "        text-align: right;\n",
       "    }\n",
       "</style>\n",
       "<table border=\"1\" class=\"dataframe\">\n",
       "  <thead>\n",
       "    <tr style=\"text-align: right;\">\n",
       "      <th></th>\n",
       "      <th>Industry</th>\n",
       "      <th>Sector</th>\n",
       "    </tr>\n",
       "  </thead>\n",
       "  <tbody>\n",
       "    <tr>\n",
       "      <th>0</th>\n",
       "      <td>Industrial Products</td>\n",
       "      <td>Industrials</td>\n",
       "    </tr>\n",
       "    <tr>\n",
       "      <th>1</th>\n",
       "      <td>Business Services</td>\n",
       "      <td>Industrials</td>\n",
       "    </tr>\n",
       "    <tr>\n",
       "      <th>2</th>\n",
       "      <td>Engineering &amp; Construction</td>\n",
       "      <td>Industrials</td>\n",
       "    </tr>\n",
       "    <tr>\n",
       "      <th>3</th>\n",
       "      <td>Waste Management</td>\n",
       "      <td>Industrials</td>\n",
       "    </tr>\n",
       "    <tr>\n",
       "      <th>4</th>\n",
       "      <td>Industrial Distribution</td>\n",
       "      <td>Industrials</td>\n",
       "    </tr>\n",
       "  </tbody>\n",
       "</table>\n",
       "</div>"
      ],
      "text/plain": [
       "                     Industry       Sector\n",
       "0         Industrial Products  Industrials\n",
       "1           Business Services  Industrials\n",
       "2  Engineering & Construction  Industrials\n",
       "3            Waste Management  Industrials\n",
       "4     Industrial Distribution  Industrials"
      ]
     },
     "execution_count": 73,
     "metadata": {},
     "output_type": "execute_result"
    }
   ],
   "source": [
    "data.head()"
   ]
  },
  {
   "cell_type": "code",
   "execution_count": null,
   "id": "9b110790",
   "metadata": {},
   "outputs": [],
   "source": []
  }
 ],
 "metadata": {
  "kernelspec": {
   "display_name": "base",
   "language": "python",
   "name": "python3"
  },
  "language_info": {
   "codemirror_mode": {
    "name": "ipython",
    "version": 3
   },
   "file_extension": ".py",
   "mimetype": "text/x-python",
   "name": "python",
   "nbconvert_exporter": "python",
   "pygments_lexer": "ipython3",
   "version": "3.12.4"
  },
  "toc-autonumbering": true
 },
 "nbformat": 4,
 "nbformat_minor": 5
}
