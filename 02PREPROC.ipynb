{
 "cells": [
  {
   "cell_type": "code",
   "execution_count": 9,
   "id": "0415cc56-035e-4517-a132-c95feeff8ddf",
   "metadata": {},
   "outputs": [],
   "source": [
    "import os\n",
    "import pandas as pd\n"
   ]
  },
  {
   "cell_type": "code",
   "execution_count": 10,
   "id": "c7cc59cb",
   "metadata": {},
   "outputs": [],
   "source": [
    "INPUT_FOLDER = \"raw\"\n",
    "OUTPUT_FOLDER = \"preproc\""
   ]
  },
  {
   "cell_type": "code",
   "execution_count": 11,
   "id": "97aa3412",
   "metadata": {},
   "outputs": [],
   "source": [
    "os.makedirs(\"data/preproc\", exist_ok=True)"
   ]
  },
  {
   "cell_type": "code",
   "execution_count": 12,
   "id": "630282d9",
   "metadata": {},
   "outputs": [
    {
     "data": {
      "text/plain": [
       "{'us-companies.csv'}"
      ]
     },
     "execution_count": 12,
     "metadata": {},
     "output_type": "execute_result"
    }
   ],
   "source": [
    "datasources = {source for source in os.listdir(f\"data/{INPUT_FOLDER}\")}\n",
    "datasources"
   ]
  },
  {
   "cell_type": "code",
   "execution_count": 15,
   "id": "cd4910f1",
   "metadata": {},
   "outputs": [
    {
     "name": "stdout",
     "output_type": "stream",
     "text": [
      "<class 'pandas.core.frame.DataFrame'>\n",
      "RangeIndex: 6098 entries, 0 to 6097\n",
      "Data columns (total 10 columns):\n",
      " #   Column                         Non-Null Count  Dtype  \n",
      "---  ------                         --------------  -----  \n",
      " 0   SimFinId                       6098 non-null   int64  \n",
      " 1   Company Name                   6025 non-null   object \n",
      " 2   IndustryId                     5811 non-null   float64\n",
      " 3   ISIN                           5011 non-null   object \n",
      " 4   End of financial year (month)  6026 non-null   float64\n",
      " 5   Number Employees               5343 non-null   float64\n",
      " 6   Business Summary               5787 non-null   object \n",
      " 7   Market                         6098 non-null   object \n",
      " 8   CIK                            6086 non-null   float64\n",
      " 9   Main Currency                  6098 non-null   object \n",
      "dtypes: float64(4), int64(1), object(5)\n",
      "memory usage: 476.5+ KB\n"
     ]
    }
   ],
   "source": [
    "key = \"us-companies\"\n",
    "data = pd.read_csv(f\"data/{INPUT_FOLDER}/{key}.csv\")\n",
    "data.info(show_counts=True)"
   ]
  },
  {
   "cell_type": "code",
   "execution_count": 20,
   "id": "3ea3b65a",
   "metadata": {},
   "outputs": [
    {
     "data": {
      "text/html": [
       "<div>\n",
       "<style scoped>\n",
       "    .dataframe tbody tr th:only-of-type {\n",
       "        vertical-align: middle;\n",
       "    }\n",
       "\n",
       "    .dataframe tbody tr th {\n",
       "        vertical-align: top;\n",
       "    }\n",
       "\n",
       "    .dataframe thead th {\n",
       "        text-align: right;\n",
       "    }\n",
       "</style>\n",
       "<table border=\"1\" class=\"dataframe\">\n",
       "  <thead>\n",
       "    <tr style=\"text-align: right;\">\n",
       "      <th></th>\n",
       "      <th>SimFinId</th>\n",
       "      <th>Company Name</th>\n",
       "      <th>IndustryId</th>\n",
       "      <th>ISIN</th>\n",
       "      <th>End of financial year (month)</th>\n",
       "      <th>Number Employees</th>\n",
       "      <th>Business Summary</th>\n",
       "      <th>Market</th>\n",
       "      <th>CIK</th>\n",
       "      <th>Main Currency</th>\n",
       "    </tr>\n",
       "  </thead>\n",
       "  <tbody>\n",
       "    <tr>\n",
       "      <th>0</th>\n",
       "      <td>45846</td>\n",
       "      <td>AGILENT TECHNOLOGIES INC</td>\n",
       "      <td>106001.0</td>\n",
       "      <td>US00846U1016</td>\n",
       "      <td>10.0</td>\n",
       "      <td>16400.0</td>\n",
       "      <td>Agilent Technologies Inc is engaged in life sc...</td>\n",
       "      <td>us</td>\n",
       "      <td>1090872.0</td>\n",
       "      <td>USD</td>\n",
       "    </tr>\n",
       "    <tr>\n",
       "      <th>1</th>\n",
       "      <td>1333027</td>\n",
       "      <td>Li Auto Inc.</td>\n",
       "      <td>NaN</td>\n",
       "      <td>NaN</td>\n",
       "      <td>12.0</td>\n",
       "      <td>NaN</td>\n",
       "      <td>NaN</td>\n",
       "      <td>us</td>\n",
       "      <td>1791706.0</td>\n",
       "      <td>USD</td>\n",
       "    </tr>\n",
       "    <tr>\n",
       "      <th>2</th>\n",
       "      <td>367153</td>\n",
       "      <td>Alcoa Corp</td>\n",
       "      <td>110004.0</td>\n",
       "      <td>US0138721065</td>\n",
       "      <td>12.0</td>\n",
       "      <td>12900.0</td>\n",
       "      <td>Alcoa Corp is an integrated aluminum company. ...</td>\n",
       "      <td>us</td>\n",
       "      <td>1675149.0</td>\n",
       "      <td>USD</td>\n",
       "    </tr>\n",
       "    <tr>\n",
       "      <th>3</th>\n",
       "      <td>7962652</td>\n",
       "      <td>Ares Acquisition Corporation</td>\n",
       "      <td>104002.0</td>\n",
       "      <td>US0003071083</td>\n",
       "      <td>12.0</td>\n",
       "      <td>NaN</td>\n",
       "      <td>Ares Acquisition Corporation does not have sig...</td>\n",
       "      <td>us</td>\n",
       "      <td>1829432.0</td>\n",
       "      <td>USD</td>\n",
       "    </tr>\n",
       "    <tr>\n",
       "      <th>4</th>\n",
       "      <td>11820349</td>\n",
       "      <td>Armada Acquisition Corp. I</td>\n",
       "      <td>104002.0</td>\n",
       "      <td>US04208V1035</td>\n",
       "      <td>9.0</td>\n",
       "      <td>NaN</td>\n",
       "      <td>Armada Acquisition Corp. I focuses on effectin...</td>\n",
       "      <td>us</td>\n",
       "      <td>1844817.0</td>\n",
       "      <td>USD</td>\n",
       "    </tr>\n",
       "  </tbody>\n",
       "</table>\n",
       "</div>"
      ],
      "text/plain": [
       "   SimFinId                  Company Name  IndustryId          ISIN  \\\n",
       "0     45846      AGILENT TECHNOLOGIES INC    106001.0  US00846U1016   \n",
       "1   1333027                  Li Auto Inc.         NaN           NaN   \n",
       "2    367153                    Alcoa Corp    110004.0  US0138721065   \n",
       "3   7962652  Ares Acquisition Corporation    104002.0  US0003071083   \n",
       "4  11820349    Armada Acquisition Corp. I    104002.0  US04208V1035   \n",
       "\n",
       "   End of financial year (month)  Number Employees  \\\n",
       "0                           10.0           16400.0   \n",
       "1                           12.0               NaN   \n",
       "2                           12.0           12900.0   \n",
       "3                           12.0               NaN   \n",
       "4                            9.0               NaN   \n",
       "\n",
       "                                    Business Summary Market        CIK  \\\n",
       "0  Agilent Technologies Inc is engaged in life sc...     us  1090872.0   \n",
       "1                                                NaN     us  1791706.0   \n",
       "2  Alcoa Corp is an integrated aluminum company. ...     us  1675149.0   \n",
       "3  Ares Acquisition Corporation does not have sig...     us  1829432.0   \n",
       "4  Armada Acquisition Corp. I focuses on effectin...     us  1844817.0   \n",
       "\n",
       "  Main Currency  \n",
       "0           USD  \n",
       "1           USD  \n",
       "2           USD  \n",
       "3           USD  \n",
       "4           USD  "
      ]
     },
     "execution_count": 20,
     "metadata": {},
     "output_type": "execute_result"
    }
   ],
   "source": [
    "data.head()"
   ]
  },
  {
   "cell_type": "code",
   "execution_count": 19,
   "id": "6e44f9fd",
   "metadata": {},
   "outputs": [
    {
     "data": {
      "text/plain": [
       "SimFinId                            0\n",
       "Company Name                       73\n",
       "IndustryId                        287\n",
       "ISIN                             1087\n",
       "End of financial year (month)      72\n",
       "Number Employees                  755\n",
       "Business Summary                  311\n",
       "Market                              0\n",
       "CIK                                12\n",
       "Main Currency                       0\n",
       "dtype: int64"
      ]
     },
     "execution_count": 19,
     "metadata": {},
     "output_type": "execute_result"
    }
   ],
   "source": [
    "data.isnull().sum()"
   ]
  },
  {
   "cell_type": "markdown",
   "id": "1711c1b4",
   "metadata": {},
   "source": [
    "GPT: How would you fill the unknown Company names"
   ]
  },
  {
   "cell_type": "code",
   "execution_count": null,
   "id": "68733e94",
   "metadata": {},
   "outputs": [],
   "source": [
    "def fetch_company_name(ticker):\n",
    "    \"\"\"Fetches company name from Yahoo Finance based on ticker\"\"\"\n",
    "    try:\n",
    "        stock = yf.Ticker(ticker)\n",
    "        return stock.info.get(\"longName\")  # Get full company name\n",
    "    except Exception as e:\n",
    "        print(f\"Error fetching {ticker}: {e}\")\n",
    "        return None\n",
    "\n",
    "# Assuming 'Ticker' column exists in the dataset\n",
    "for idx, row in data.iterrows():\n",
    "    if pd.isna(row[\"Company Name\"]) and pd.notna(row[\"Ticker\"]):  \n",
    "        company_name = fetch_company_name(row[\"Ticker\"])\n",
    "        if company_name:\n",
    "            data.at[idx, \"Company Name\"] = company_name\n",
    "\n",
    "# Fill remaining unknowns\n",
    "data[\"Company Name\"].fillna(\"Unknown\", inplace=True)"
   ]
  }
 ],
 "metadata": {
  "kernelspec": {
   "display_name": "base",
   "language": "python",
   "name": "python3"
  },
  "language_info": {
   "codemirror_mode": {
    "name": "ipython",
    "version": 3
   },
   "file_extension": ".py",
   "mimetype": "text/x-python",
   "name": "python",
   "nbconvert_exporter": "python",
   "pygments_lexer": "ipython3",
   "version": "3.12.4"
  },
  "toc-autonumbering": true
 },
 "nbformat": 4,
 "nbformat_minor": 5
}
