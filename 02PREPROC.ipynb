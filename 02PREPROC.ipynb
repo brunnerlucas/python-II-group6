{
 "cells": [
  {
   "cell_type": "code",
   "execution_count": 1,
   "id": "0415cc56-035e-4517-a132-c95feeff8ddf",
   "metadata": {},
   "outputs": [],
   "source": [
    "import os\n",
    "import pandas as pd"
   ]
  },
  {
   "cell_type": "code",
   "execution_count": 2,
   "id": "c7cc59cb",
   "metadata": {},
   "outputs": [],
   "source": [
    "INPUT_FOLDER = \"raw\"\n",
    "OUTPUT_FOLDER = \"preproc\""
   ]
  },
  {
   "cell_type": "code",
   "execution_count": 3,
   "id": "97aa3412",
   "metadata": {},
   "outputs": [],
   "source": [
    "os.makedirs(\"data/preproc\", exist_ok=True)"
   ]
  },
  {
   "cell_type": "code",
   "execution_count": 4,
   "id": "630282d9",
   "metadata": {},
   "outputs": [
    {
     "data": {
      "text/plain": [
       "{'us_balance_quarterly.csv',\n",
       " 'us_cashflow_quarterly.csv',\n",
       " 'us_companies.csv',\n",
       " 'us_income_quarterly.csv',\n",
       " 'us_industries.csv',\n",
       " 'us_shareprices_daily.csv'}"
      ]
     },
     "execution_count": 4,
     "metadata": {},
     "output_type": "execute_result"
    }
   ],
   "source": [
    "datasources = {source for source in os.listdir(f\"data/{INPUT_FOLDER}\")}\n",
    "datasources"
   ]
  },
  {
   "cell_type": "markdown",
   "id": "4a866986",
   "metadata": {},
   "source": [
    "#### Table: `us-companies`"
   ]
  },
  {
   "cell_type": "code",
   "execution_count": 5,
   "id": "cd4910f1",
   "metadata": {},
   "outputs": [
    {
     "name": "stdout",
     "output_type": "stream",
     "text": [
      "<class 'pandas.core.frame.DataFrame'>\n",
      "RangeIndex: 6098 entries, 0 to 6097\n",
      "Data columns (total 10 columns):\n",
      " #   Column                         Non-Null Count  Dtype  \n",
      "---  ------                         --------------  -----  \n",
      " 0   SimFinId                       6098 non-null   int64  \n",
      " 1   Company Name                   6025 non-null   object \n",
      " 2   IndustryId                     5811 non-null   float64\n",
      " 3   ISIN                           5011 non-null   object \n",
      " 4   End of financial year (month)  6026 non-null   float64\n",
      " 5   Number Employees               5343 non-null   float64\n",
      " 6   Business Summary               5787 non-null   object \n",
      " 7   Market                         6098 non-null   object \n",
      " 8   CIK                            6086 non-null   float64\n",
      " 9   Main Currency                  6098 non-null   object \n",
      "dtypes: float64(4), int64(1), object(5)\n",
      "memory usage: 476.5+ KB\n"
     ]
    }
   ],
   "source": [
    "key = \"us_companies\"\n",
    "data = pd.read_csv(f\"data/{INPUT_FOLDER}/{key}.csv\")\n",
    "data.info(show_counts=True)"
   ]
  },
  {
   "cell_type": "code",
   "execution_count": 6,
   "id": "3ea3b65a",
   "metadata": {},
   "outputs": [
    {
     "data": {
      "text/html": [
       "<div>\n",
       "<style scoped>\n",
       "    .dataframe tbody tr th:only-of-type {\n",
       "        vertical-align: middle;\n",
       "    }\n",
       "\n",
       "    .dataframe tbody tr th {\n",
       "        vertical-align: top;\n",
       "    }\n",
       "\n",
       "    .dataframe thead th {\n",
       "        text-align: right;\n",
       "    }\n",
       "</style>\n",
       "<table border=\"1\" class=\"dataframe\">\n",
       "  <thead>\n",
       "    <tr style=\"text-align: right;\">\n",
       "      <th></th>\n",
       "      <th>SimFinId</th>\n",
       "      <th>Company Name</th>\n",
       "      <th>IndustryId</th>\n",
       "      <th>ISIN</th>\n",
       "      <th>End of financial year (month)</th>\n",
       "      <th>Number Employees</th>\n",
       "      <th>Business Summary</th>\n",
       "      <th>Market</th>\n",
       "      <th>CIK</th>\n",
       "      <th>Main Currency</th>\n",
       "    </tr>\n",
       "  </thead>\n",
       "  <tbody>\n",
       "    <tr>\n",
       "      <th>0</th>\n",
       "      <td>45846</td>\n",
       "      <td>AGILENT TECHNOLOGIES INC</td>\n",
       "      <td>106001.0</td>\n",
       "      <td>US00846U1016</td>\n",
       "      <td>10.0</td>\n",
       "      <td>16400.0</td>\n",
       "      <td>Agilent Technologies Inc is engaged in life sc...</td>\n",
       "      <td>us</td>\n",
       "      <td>1090872.0</td>\n",
       "      <td>USD</td>\n",
       "    </tr>\n",
       "    <tr>\n",
       "      <th>1</th>\n",
       "      <td>1333027</td>\n",
       "      <td>Li Auto Inc.</td>\n",
       "      <td>NaN</td>\n",
       "      <td>NaN</td>\n",
       "      <td>12.0</td>\n",
       "      <td>NaN</td>\n",
       "      <td>NaN</td>\n",
       "      <td>us</td>\n",
       "      <td>1791706.0</td>\n",
       "      <td>USD</td>\n",
       "    </tr>\n",
       "    <tr>\n",
       "      <th>2</th>\n",
       "      <td>367153</td>\n",
       "      <td>Alcoa Corp</td>\n",
       "      <td>110004.0</td>\n",
       "      <td>US0138721065</td>\n",
       "      <td>12.0</td>\n",
       "      <td>12900.0</td>\n",
       "      <td>Alcoa Corp is an integrated aluminum company. ...</td>\n",
       "      <td>us</td>\n",
       "      <td>1675149.0</td>\n",
       "      <td>USD</td>\n",
       "    </tr>\n",
       "    <tr>\n",
       "      <th>3</th>\n",
       "      <td>7962652</td>\n",
       "      <td>Ares Acquisition Corporation</td>\n",
       "      <td>104002.0</td>\n",
       "      <td>US0003071083</td>\n",
       "      <td>12.0</td>\n",
       "      <td>NaN</td>\n",
       "      <td>Ares Acquisition Corporation does not have sig...</td>\n",
       "      <td>us</td>\n",
       "      <td>1829432.0</td>\n",
       "      <td>USD</td>\n",
       "    </tr>\n",
       "    <tr>\n",
       "      <th>4</th>\n",
       "      <td>11820349</td>\n",
       "      <td>Armada Acquisition Corp. I</td>\n",
       "      <td>104002.0</td>\n",
       "      <td>US04208V1035</td>\n",
       "      <td>9.0</td>\n",
       "      <td>NaN</td>\n",
       "      <td>Armada Acquisition Corp. I focuses on effectin...</td>\n",
       "      <td>us</td>\n",
       "      <td>1844817.0</td>\n",
       "      <td>USD</td>\n",
       "    </tr>\n",
       "  </tbody>\n",
       "</table>\n",
       "</div>"
      ],
      "text/plain": [
       "   SimFinId                  Company Name  IndustryId          ISIN  \\\n",
       "0     45846      AGILENT TECHNOLOGIES INC    106001.0  US00846U1016   \n",
       "1   1333027                  Li Auto Inc.         NaN           NaN   \n",
       "2    367153                    Alcoa Corp    110004.0  US0138721065   \n",
       "3   7962652  Ares Acquisition Corporation    104002.0  US0003071083   \n",
       "4  11820349    Armada Acquisition Corp. I    104002.0  US04208V1035   \n",
       "\n",
       "   End of financial year (month)  Number Employees  \\\n",
       "0                           10.0           16400.0   \n",
       "1                           12.0               NaN   \n",
       "2                           12.0           12900.0   \n",
       "3                           12.0               NaN   \n",
       "4                            9.0               NaN   \n",
       "\n",
       "                                    Business Summary Market        CIK  \\\n",
       "0  Agilent Technologies Inc is engaged in life sc...     us  1090872.0   \n",
       "1                                                NaN     us  1791706.0   \n",
       "2  Alcoa Corp is an integrated aluminum company. ...     us  1675149.0   \n",
       "3  Ares Acquisition Corporation does not have sig...     us  1829432.0   \n",
       "4  Armada Acquisition Corp. I focuses on effectin...     us  1844817.0   \n",
       "\n",
       "  Main Currency  \n",
       "0           USD  \n",
       "1           USD  \n",
       "2           USD  \n",
       "3           USD  \n",
       "4           USD  "
      ]
     },
     "execution_count": 6,
     "metadata": {},
     "output_type": "execute_result"
    }
   ],
   "source": [
    "data.head()"
   ]
  },
  {
   "cell_type": "code",
   "execution_count": 7,
   "id": "6e44f9fd",
   "metadata": {},
   "outputs": [
    {
     "data": {
      "text/plain": [
       "91"
      ]
     },
     "execution_count": 7,
     "metadata": {},
     "output_type": "execute_result"
    }
   ],
   "source": [
    "data['Company Name'].duplicated().sum()\n"
   ]
  },
  {
   "cell_type": "code",
   "execution_count": 8,
   "id": "6258204d",
   "metadata": {},
   "outputs": [
    {
     "data": {
      "text/plain": [
       "1087"
      ]
     },
     "execution_count": 8,
     "metadata": {},
     "output_type": "execute_result"
    }
   ],
   "source": [
    "data['ISIN'].duplicated().sum()\n"
   ]
  },
  {
   "cell_type": "code",
   "execution_count": 9,
   "id": "2daa6a44",
   "metadata": {},
   "outputs": [
    {
     "data": {
      "text/plain": [
       "86"
      ]
     },
     "execution_count": 9,
     "metadata": {},
     "output_type": "execute_result"
    }
   ],
   "source": [
    "data['CIK'].duplicated().sum()\n"
   ]
  },
  {
   "cell_type": "code",
   "execution_count": 37,
   "id": "ed123682",
   "metadata": {},
   "outputs": [
    {
     "data": {
      "text/plain": [
       "SimFinId                         0\n",
       "Company Name                     0\n",
       "IndustryId                       0\n",
       "ISIN                             0\n",
       "End of financial year (month)    0\n",
       "Number Employees                 0\n",
       "Business Summary                 0\n",
       "Market                           0\n",
       "CIK                              0\n",
       "Main Currency                    0\n",
       "dtype: int64"
      ]
     },
     "execution_count": 37,
     "metadata": {},
     "output_type": "execute_result"
    }
   ],
   "source": [
    "data.isnull().sum()"
   ]
  },
  {
   "cell_type": "code",
   "execution_count": 11,
   "id": "cf98086f",
   "metadata": {},
   "outputs": [],
   "source": [
    "data = data[~data['ISIN'].duplicated()]\n"
   ]
  },
  {
   "cell_type": "code",
   "execution_count": 36,
   "id": "24cf86ba",
   "metadata": {},
   "outputs": [
    {
     "name": "stderr",
     "output_type": "stream",
     "text": [
      "/var/folders/nl/1mz19h4n1d920hbz6_952lk00000gn/T/ipykernel_14570/3404093327.py:1: FutureWarning: A value is trying to be set on a copy of a DataFrame or Series through chained assignment using an inplace method.\n",
      "The behavior will change in pandas 3.0. This inplace method will never work because the intermediate object on which we are setting values always behaves as a copy.\n",
      "\n",
      "For example, when doing 'df[col].method(value, inplace=True)', try using 'df.method({col: value}, inplace=True)' or df[col] = df[col].method(value) instead, to perform the operation inplace on the original object.\n",
      "\n",
      "\n",
      "  data['IndustryId'].fillna(0,inplace=True)\n",
      "/var/folders/nl/1mz19h4n1d920hbz6_952lk00000gn/T/ipykernel_14570/3404093327.py:3: FutureWarning: A value is trying to be set on a copy of a DataFrame or Series through chained assignment using an inplace method.\n",
      "The behavior will change in pandas 3.0. This inplace method will never work because the intermediate object on which we are setting values always behaves as a copy.\n",
      "\n",
      "For example, when doing 'df[col].method(value, inplace=True)', try using 'df.method({col: value}, inplace=True)' or df[col] = df[col].method(value) instead, to perform the operation inplace on the original object.\n",
      "\n",
      "\n",
      "  data['CIK'].fillna(0,inplace=True)\n",
      "/var/folders/nl/1mz19h4n1d920hbz6_952lk00000gn/T/ipykernel_14570/3404093327.py:4: FutureWarning: A value is trying to be set on a copy of a DataFrame or Series through chained assignment using an inplace method.\n",
      "The behavior will change in pandas 3.0. This inplace method will never work because the intermediate object on which we are setting values always behaves as a copy.\n",
      "\n",
      "For example, when doing 'df[col].method(value, inplace=True)', try using 'df.method({col: value}, inplace=True)' or df[col] = df[col].method(value) instead, to perform the operation inplace on the original object.\n",
      "\n",
      "\n",
      "  data['Number Employees'].fillna(0,inplace=True)\n",
      "/var/folders/nl/1mz19h4n1d920hbz6_952lk00000gn/T/ipykernel_14570/3404093327.py:5: FutureWarning: A value is trying to be set on a copy of a DataFrame or Series through chained assignment using an inplace method.\n",
      "The behavior will change in pandas 3.0. This inplace method will never work because the intermediate object on which we are setting values always behaves as a copy.\n",
      "\n",
      "For example, when doing 'df[col].method(value, inplace=True)', try using 'df.method({col: value}, inplace=True)' or df[col] = df[col].method(value) instead, to perform the operation inplace on the original object.\n",
      "\n",
      "\n",
      "  data['Business Summary'].fillna('Unknown',inplace=True)\n"
     ]
    }
   ],
   "source": [
    "data['IndustryId'].fillna(0,inplace=True)\n",
    "data['ISIN'].fillna(0,inplace=True)\n",
    "data['CIK'].fillna(0,inplace=True)\n",
    "data['Number Employees'].fillna(0,inplace=True)\n",
    "data['Business Summary'].fillna('Unknown',inplace=True)\n",
    "\n"
   ]
  },
  {
   "cell_type": "code",
   "execution_count": 38,
   "id": "e1e900ac",
   "metadata": {},
   "outputs": [],
   "source": [
    "data.to_csv(f\"data/{OUTPUT_FOLDER}/{key}.csv\", index=False)"
   ]
  },
  {
   "cell_type": "markdown",
   "id": "1711c1b4",
   "metadata": {},
   "source": [
    "We have to fill in the unknown company names"
   ]
  },
  {
   "cell_type": "code",
   "execution_count": 40,
   "id": "68733e94",
   "metadata": {},
   "outputs": [
    {
     "name": "stdout",
     "output_type": "stream",
     "text": [
      "<class 'pandas.core.frame.DataFrame'>\n",
      "RangeIndex: 5799855 entries, 0 to 5799854\n",
      "Data columns (total 9 columns):\n",
      " #   Column              Non-Null Count    Dtype  \n",
      "---  ------              --------------    -----  \n",
      " 0   SimFinId            5799855 non-null  int64  \n",
      " 1   Open                5799855 non-null  float64\n",
      " 2   High                5799855 non-null  float64\n",
      " 3   Low                 5799855 non-null  float64\n",
      " 4   Close               5799855 non-null  float64\n",
      " 5   Adj. Close          5799855 non-null  float64\n",
      " 6   Volume              5799855 non-null  int64  \n",
      " 7   Dividend            35226 non-null    float64\n",
      " 8   Shares Outstanding  5274656 non-null  float64\n",
      "dtypes: float64(7), int64(2)\n",
      "memory usage: 398.2 MB\n"
     ]
    }
   ],
   "source": [
    "key = \"us_shareprices_daily\"\n",
    "data = pd.read_csv(f\"data/{INPUT_FOLDER}/{key}.csv\")\n",
    "data.info(show_counts=True)\n"
   ]
  },
  {
   "cell_type": "code",
   "execution_count": 43,
   "id": "74772d99",
   "metadata": {},
   "outputs": [
    {
     "data": {
      "text/html": [
       "<div>\n",
       "<style scoped>\n",
       "    .dataframe tbody tr th:only-of-type {\n",
       "        vertical-align: middle;\n",
       "    }\n",
       "\n",
       "    .dataframe tbody tr th {\n",
       "        vertical-align: top;\n",
       "    }\n",
       "\n",
       "    .dataframe thead th {\n",
       "        text-align: right;\n",
       "    }\n",
       "</style>\n",
       "<table border=\"1\" class=\"dataframe\">\n",
       "  <thead>\n",
       "    <tr style=\"text-align: right;\">\n",
       "      <th></th>\n",
       "      <th>SimFinId</th>\n",
       "      <th>Open</th>\n",
       "      <th>High</th>\n",
       "      <th>Low</th>\n",
       "      <th>Close</th>\n",
       "      <th>Adj. Close</th>\n",
       "      <th>Volume</th>\n",
       "      <th>Dividend</th>\n",
       "      <th>Shares Outstanding</th>\n",
       "    </tr>\n",
       "  </thead>\n",
       "  <tbody>\n",
       "    <tr>\n",
       "      <th>0</th>\n",
       "      <td>45846</td>\n",
       "      <td>81.57</td>\n",
       "      <td>81.71</td>\n",
       "      <td>80.58</td>\n",
       "      <td>81.69</td>\n",
       "      <td>78.46</td>\n",
       "      <td>783350</td>\n",
       "      <td>NaN</td>\n",
       "      <td>317515869.0</td>\n",
       "    </tr>\n",
       "    <tr>\n",
       "      <th>1</th>\n",
       "      <td>45846</td>\n",
       "      <td>81.56</td>\n",
       "      <td>81.72</td>\n",
       "      <td>81.27</td>\n",
       "      <td>81.42</td>\n",
       "      <td>78.20</td>\n",
       "      <td>1254742</td>\n",
       "      <td>NaN</td>\n",
       "      <td>317515869.0</td>\n",
       "    </tr>\n",
       "    <tr>\n",
       "      <th>2</th>\n",
       "      <td>45846</td>\n",
       "      <td>81.45</td>\n",
       "      <td>82.24</td>\n",
       "      <td>81.45</td>\n",
       "      <td>81.68</td>\n",
       "      <td>78.45</td>\n",
       "      <td>982886</td>\n",
       "      <td>NaN</td>\n",
       "      <td>317515869.0</td>\n",
       "    </tr>\n",
       "    <tr>\n",
       "      <th>3</th>\n",
       "      <td>45846</td>\n",
       "      <td>81.88</td>\n",
       "      <td>81.92</td>\n",
       "      <td>80.89</td>\n",
       "      <td>81.08</td>\n",
       "      <td>77.87</td>\n",
       "      <td>1071479</td>\n",
       "      <td>NaN</td>\n",
       "      <td>317515869.0</td>\n",
       "    </tr>\n",
       "    <tr>\n",
       "      <th>4</th>\n",
       "      <td>45846</td>\n",
       "      <td>81.43</td>\n",
       "      <td>82.06</td>\n",
       "      <td>80.90</td>\n",
       "      <td>80.98</td>\n",
       "      <td>77.77</td>\n",
       "      <td>1249295</td>\n",
       "      <td>NaN</td>\n",
       "      <td>317515869.0</td>\n",
       "    </tr>\n",
       "    <tr>\n",
       "      <th>5</th>\n",
       "      <td>45846</td>\n",
       "      <td>81.00</td>\n",
       "      <td>81.13</td>\n",
       "      <td>79.91</td>\n",
       "      <td>80.40</td>\n",
       "      <td>77.22</td>\n",
       "      <td>1627268</td>\n",
       "      <td>NaN</td>\n",
       "      <td>317515869.0</td>\n",
       "    </tr>\n",
       "    <tr>\n",
       "      <th>6</th>\n",
       "      <td>45846</td>\n",
       "      <td>80.82</td>\n",
       "      <td>80.96</td>\n",
       "      <td>77.19</td>\n",
       "      <td>77.55</td>\n",
       "      <td>74.48</td>\n",
       "      <td>3441597</td>\n",
       "      <td>NaN</td>\n",
       "      <td>317515869.0</td>\n",
       "    </tr>\n",
       "    <tr>\n",
       "      <th>7</th>\n",
       "      <td>45846</td>\n",
       "      <td>78.15</td>\n",
       "      <td>78.32</td>\n",
       "      <td>74.46</td>\n",
       "      <td>75.43</td>\n",
       "      <td>72.44</td>\n",
       "      <td>4471971</td>\n",
       "      <td>NaN</td>\n",
       "      <td>317515869.0</td>\n",
       "    </tr>\n",
       "    <tr>\n",
       "      <th>8</th>\n",
       "      <td>45846</td>\n",
       "      <td>75.73</td>\n",
       "      <td>76.54</td>\n",
       "      <td>75.31</td>\n",
       "      <td>76.17</td>\n",
       "      <td>73.16</td>\n",
       "      <td>2874195</td>\n",
       "      <td>NaN</td>\n",
       "      <td>317515869.0</td>\n",
       "    </tr>\n",
       "    <tr>\n",
       "      <th>9</th>\n",
       "      <td>45846</td>\n",
       "      <td>75.93</td>\n",
       "      <td>76.72</td>\n",
       "      <td>75.13</td>\n",
       "      <td>75.57</td>\n",
       "      <td>72.58</td>\n",
       "      <td>2016043</td>\n",
       "      <td>NaN</td>\n",
       "      <td>317515869.0</td>\n",
       "    </tr>\n",
       "  </tbody>\n",
       "</table>\n",
       "</div>"
      ],
      "text/plain": [
       "   SimFinId   Open   High    Low  Close  Adj. Close   Volume  Dividend  \\\n",
       "0     45846  81.57  81.71  80.58  81.69       78.46   783350       NaN   \n",
       "1     45846  81.56  81.72  81.27  81.42       78.20  1254742       NaN   \n",
       "2     45846  81.45  82.24  81.45  81.68       78.45   982886       NaN   \n",
       "3     45846  81.88  81.92  80.89  81.08       77.87  1071479       NaN   \n",
       "4     45846  81.43  82.06  80.90  80.98       77.77  1249295       NaN   \n",
       "5     45846  81.00  81.13  79.91  80.40       77.22  1627268       NaN   \n",
       "6     45846  80.82  80.96  77.19  77.55       74.48  3441597       NaN   \n",
       "7     45846  78.15  78.32  74.46  75.43       72.44  4471971       NaN   \n",
       "8     45846  75.73  76.54  75.31  76.17       73.16  2874195       NaN   \n",
       "9     45846  75.93  76.72  75.13  75.57       72.58  2016043       NaN   \n",
       "\n",
       "   Shares Outstanding  \n",
       "0         317515869.0  \n",
       "1         317515869.0  \n",
       "2         317515869.0  \n",
       "3         317515869.0  \n",
       "4         317515869.0  \n",
       "5         317515869.0  \n",
       "6         317515869.0  \n",
       "7         317515869.0  \n",
       "8         317515869.0  \n",
       "9         317515869.0  "
      ]
     },
     "execution_count": 43,
     "metadata": {},
     "output_type": "execute_result"
    }
   ],
   "source": [
    "data.head(10)"
   ]
  },
  {
   "cell_type": "code",
   "execution_count": 51,
   "id": "3c45a8e5",
   "metadata": {},
   "outputs": [
    {
     "data": {
      "text/plain": [
       "SimFinId              0\n",
       "Open                  0\n",
       "High                  0\n",
       "Low                   0\n",
       "Close                 0\n",
       "Adj. Close            0\n",
       "Volume                0\n",
       "Dividend              0\n",
       "Shares Outstanding    0\n",
       "dtype: int64"
      ]
     },
     "execution_count": 51,
     "metadata": {},
     "output_type": "execute_result"
    }
   ],
   "source": [
    "data.isnull().sum()"
   ]
  },
  {
   "cell_type": "markdown",
   "id": "df95b152",
   "metadata": {},
   "source": [
    "Filling the Dividend NA with 0 because either the company does not give any dividends or it is not due on this day\n"
   ]
  },
  {
   "cell_type": "code",
   "execution_count": null,
   "id": "08377687",
   "metadata": {},
   "outputs": [
    {
     "name": "stderr",
     "output_type": "stream",
     "text": [
      "/var/folders/nl/1mz19h4n1d920hbz6_952lk00000gn/T/ipykernel_14570/2573166529.py:1: FutureWarning: A value is trying to be set on a copy of a DataFrame or Series through chained assignment using an inplace method.\n",
      "The behavior will change in pandas 3.0. This inplace method will never work because the intermediate object on which we are setting values always behaves as a copy.\n",
      "\n",
      "For example, when doing 'df[col].method(value, inplace=True)', try using 'df.method({col: value}, inplace=True)' or df[col] = df[col].method(value) instead, to perform the operation inplace on the original object.\n",
      "\n",
      "\n",
      "  data['Dividend'].fillna(0,inplace=True)\n"
     ]
    }
   ],
   "source": [
    "data['Dividend'].fillna(0,inplace=True)\n",
    "\n"
   ]
  },
  {
   "cell_type": "code",
   "execution_count": 50,
   "id": "a8d30762",
   "metadata": {},
   "outputs": [
    {
     "name": "stderr",
     "output_type": "stream",
     "text": [
      "/var/folders/nl/1mz19h4n1d920hbz6_952lk00000gn/T/ipykernel_14570/601520146.py:1: FutureWarning: A value is trying to be set on a copy of a DataFrame or Series through chained assignment using an inplace method.\n",
      "The behavior will change in pandas 3.0. This inplace method will never work because the intermediate object on which we are setting values always behaves as a copy.\n",
      "\n",
      "For example, when doing 'df[col].method(value, inplace=True)', try using 'df.method({col: value}, inplace=True)' or df[col] = df[col].method(value) instead, to perform the operation inplace on the original object.\n",
      "\n",
      "\n",
      "  data['Shares Outstanding'].fillna(data['Shares Outstanding'].mean(), inplace=True)\n"
     ]
    }
   ],
   "source": [
    "data['Shares Outstanding'].fillna(data['Shares Outstanding'].mean(), inplace=True)\n"
   ]
  },
  {
   "cell_type": "code",
   "execution_count": 52,
   "id": "2d529642",
   "metadata": {},
   "outputs": [],
   "source": [
    "data.to_csv(f\"data/{OUTPUT_FOLDER}/{key}.csv\", index=False)"
   ]
  },
  {
   "cell_type": "code",
   "execution_count": null,
   "id": "581d0cce",
   "metadata": {},
   "outputs": [],
   "source": []
  }
 ],
 "metadata": {
  "kernelspec": {
   "display_name": "base",
   "language": "python",
   "name": "python3"
  },
  "language_info": {
   "codemirror_mode": {
    "name": "ipython",
    "version": 3
   },
   "file_extension": ".py",
   "mimetype": "text/x-python",
   "name": "python",
   "nbconvert_exporter": "python",
   "pygments_lexer": "ipython3",
   "version": "3.12.4"
  },
  "toc-autonumbering": true
 },
 "nbformat": 4,
 "nbformat_minor": 5
}
