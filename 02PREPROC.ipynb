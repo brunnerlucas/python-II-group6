{
 "cells": [
  {
   "cell_type": "code",
   "execution_count": 58,
   "id": "0415cc56-035e-4517-a132-c95feeff8ddf",
   "metadata": {},
   "outputs": [],
   "source": [
    "import os\n",
    "import pandas as pd"
   ]
  },
  {
   "cell_type": "code",
   "execution_count": 59,
   "id": "c7cc59cb",
   "metadata": {},
   "outputs": [],
   "source": [
    "INPUT_FOLDER = \"raw\"\n",
    "OUTPUT_FOLDER = \"preproc\""
   ]
  },
  {
   "cell_type": "code",
   "execution_count": 60,
   "id": "97aa3412",
   "metadata": {},
   "outputs": [],
   "source": [
    "os.makedirs(\"data/preproc\", exist_ok=True)"
   ]
  },
  {
   "cell_type": "code",
   "execution_count": 61,
   "id": "630282d9",
   "metadata": {},
   "outputs": [
    {
     "data": {
      "text/plain": [
       "{'cache',\n",
       " 'download',\n",
       " 'industries.csv',\n",
       " 'info',\n",
       " 'us-balance-quarterly.csv',\n",
       " 'us-cashflow-quarterly.csv',\n",
       " 'us-companies.csv',\n",
       " 'us-income-quarterly.csv',\n",
       " 'us-shareprices-daily.csv'}"
      ]
     },
     "execution_count": 61,
     "metadata": {},
     "output_type": "execute_result"
    }
   ],
   "source": [
    "datasources = {source for source in os.listdir(f\"data/{INPUT_FOLDER}\")}\n",
    "datasources"
   ]
  },
  {
   "cell_type": "markdown",
   "id": "4a866986",
   "metadata": {},
   "source": [
    "#### Table: `us-companies`"
   ]
  },
  {
   "cell_type": "code",
   "execution_count": 62,
   "id": "cd4910f1",
   "metadata": {},
   "outputs": [
    {
     "name": "stdout",
     "output_type": "stream",
     "text": [
      "<class 'pandas.core.frame.DataFrame'>\n",
      "RangeIndex: 6189 entries, 0 to 6188\n",
      "Data columns (total 11 columns):\n",
      " #   Column                         Non-Null Count  Dtype  \n",
      "---  ------                         --------------  -----  \n",
      " 0   Ticker                         6117 non-null   object \n",
      " 1   SimFinId                       6189 non-null   int64  \n",
      " 2   Company Name                   6119 non-null   object \n",
      " 3   IndustryId                     5898 non-null   float64\n",
      " 4   ISIN                           5091 non-null   object \n",
      " 5   End of financial year (month)  6120 non-null   float64\n",
      " 6   Number Employees               5427 non-null   float64\n",
      " 7   Business Summary               5879 non-null   object \n",
      " 8   Market                         6189 non-null   object \n",
      " 9   CIK                            6177 non-null   float64\n",
      " 10  Main Currency                  6189 non-null   object \n",
      "dtypes: float64(4), int64(1), object(6)\n",
      "memory usage: 532.0+ KB\n"
     ]
    }
   ],
   "source": [
    "key = \"us-companies\"\n",
    "data = pd.read_csv(f\"data/{INPUT_FOLDER}/{key}.csv\", delimiter=\";\")\n",
    "data.info(show_counts=True)"
   ]
  },
  {
   "cell_type": "code",
   "execution_count": 63,
   "id": "3ea3b65a",
   "metadata": {},
   "outputs": [
    {
     "data": {
      "text/html": [
       "<div>\n",
       "<style scoped>\n",
       "    .dataframe tbody tr th:only-of-type {\n",
       "        vertical-align: middle;\n",
       "    }\n",
       "\n",
       "    .dataframe tbody tr th {\n",
       "        vertical-align: top;\n",
       "    }\n",
       "\n",
       "    .dataframe thead th {\n",
       "        text-align: right;\n",
       "    }\n",
       "</style>\n",
       "<table border=\"1\" class=\"dataframe\">\n",
       "  <thead>\n",
       "    <tr style=\"text-align: right;\">\n",
       "      <th></th>\n",
       "      <th>Ticker</th>\n",
       "      <th>SimFinId</th>\n",
       "      <th>Company Name</th>\n",
       "      <th>IndustryId</th>\n",
       "      <th>ISIN</th>\n",
       "      <th>End of financial year (month)</th>\n",
       "      <th>Number Employees</th>\n",
       "      <th>Business Summary</th>\n",
       "      <th>Market</th>\n",
       "      <th>CIK</th>\n",
       "      <th>Main Currency</th>\n",
       "    </tr>\n",
       "  </thead>\n",
       "  <tbody>\n",
       "    <tr>\n",
       "      <th>0</th>\n",
       "      <td>NaN</td>\n",
       "      <td>18538670</td>\n",
       "      <td>NaN</td>\n",
       "      <td>NaN</td>\n",
       "      <td>NaN</td>\n",
       "      <td>NaN</td>\n",
       "      <td>NaN</td>\n",
       "      <td>NaN</td>\n",
       "      <td>us</td>\n",
       "      <td>1734107.0</td>\n",
       "      <td>USD</td>\n",
       "    </tr>\n",
       "    <tr>\n",
       "      <th>1</th>\n",
       "      <td>NaN</td>\n",
       "      <td>14159407</td>\n",
       "      <td>NaN</td>\n",
       "      <td>NaN</td>\n",
       "      <td>NaN</td>\n",
       "      <td>NaN</td>\n",
       "      <td>NaN</td>\n",
       "      <td>NaN</td>\n",
       "      <td>us</td>\n",
       "      <td>1823529.0</td>\n",
       "      <td>USD</td>\n",
       "    </tr>\n",
       "    <tr>\n",
       "      <th>2</th>\n",
       "      <td>NaN</td>\n",
       "      <td>14159427</td>\n",
       "      <td>NaN</td>\n",
       "      <td>NaN</td>\n",
       "      <td>NaN</td>\n",
       "      <td>NaN</td>\n",
       "      <td>NaN</td>\n",
       "      <td>NaN</td>\n",
       "      <td>us</td>\n",
       "      <td>1680367.0</td>\n",
       "      <td>USD</td>\n",
       "    </tr>\n",
       "    <tr>\n",
       "      <th>3</th>\n",
       "      <td>NaN</td>\n",
       "      <td>15112475</td>\n",
       "      <td>NaN</td>\n",
       "      <td>NaN</td>\n",
       "      <td>NaN</td>\n",
       "      <td>NaN</td>\n",
       "      <td>NaN</td>\n",
       "      <td>NaN</td>\n",
       "      <td>us</td>\n",
       "      <td>1841968.0</td>\n",
       "      <td>USD</td>\n",
       "    </tr>\n",
       "    <tr>\n",
       "      <th>4</th>\n",
       "      <td>NaN</td>\n",
       "      <td>13676402</td>\n",
       "      <td>NaN</td>\n",
       "      <td>NaN</td>\n",
       "      <td>NaN</td>\n",
       "      <td>NaN</td>\n",
       "      <td>NaN</td>\n",
       "      <td>NaN</td>\n",
       "      <td>us</td>\n",
       "      <td>1751788.0</td>\n",
       "      <td>USD</td>\n",
       "    </tr>\n",
       "  </tbody>\n",
       "</table>\n",
       "</div>"
      ],
      "text/plain": [
       "  Ticker  SimFinId Company Name  IndustryId ISIN  \\\n",
       "0    NaN  18538670          NaN         NaN  NaN   \n",
       "1    NaN  14159407          NaN         NaN  NaN   \n",
       "2    NaN  14159427          NaN         NaN  NaN   \n",
       "3    NaN  15112475          NaN         NaN  NaN   \n",
       "4    NaN  13676402          NaN         NaN  NaN   \n",
       "\n",
       "   End of financial year (month)  Number Employees Business Summary Market  \\\n",
       "0                            NaN               NaN              NaN     us   \n",
       "1                            NaN               NaN              NaN     us   \n",
       "2                            NaN               NaN              NaN     us   \n",
       "3                            NaN               NaN              NaN     us   \n",
       "4                            NaN               NaN              NaN     us   \n",
       "\n",
       "         CIK Main Currency  \n",
       "0  1734107.0           USD  \n",
       "1  1823529.0           USD  \n",
       "2  1680367.0           USD  \n",
       "3  1841968.0           USD  \n",
       "4  1751788.0           USD  "
      ]
     },
     "execution_count": 63,
     "metadata": {},
     "output_type": "execute_result"
    }
   ],
   "source": [
    "data.head()"
   ]
  },
  {
   "cell_type": "code",
   "execution_count": 64,
   "id": "6e44f9fd",
   "metadata": {},
   "outputs": [
    {
     "data": {
      "text/plain": [
       "88"
      ]
     },
     "execution_count": 64,
     "metadata": {},
     "output_type": "execute_result"
    }
   ],
   "source": [
    "data['Company Name'].duplicated().sum()\n"
   ]
  },
  {
   "cell_type": "code",
   "execution_count": 65,
   "id": "6258204d",
   "metadata": {},
   "outputs": [
    {
     "data": {
      "text/plain": [
       "1098"
      ]
     },
     "execution_count": 65,
     "metadata": {},
     "output_type": "execute_result"
    }
   ],
   "source": [
    "data['ISIN'].duplicated().sum()\n"
   ]
  },
  {
   "cell_type": "code",
   "execution_count": 66,
   "id": "2daa6a44",
   "metadata": {},
   "outputs": [
    {
     "data": {
      "text/plain": [
       "86"
      ]
     },
     "execution_count": 66,
     "metadata": {},
     "output_type": "execute_result"
    }
   ],
   "source": [
    "data['CIK'].duplicated().sum()\n"
   ]
  },
  {
   "cell_type": "code",
   "execution_count": 67,
   "id": "ed123682",
   "metadata": {},
   "outputs": [
    {
     "data": {
      "text/plain": [
       "Ticker                             72\n",
       "SimFinId                            0\n",
       "Company Name                       70\n",
       "IndustryId                        291\n",
       "ISIN                             1098\n",
       "End of financial year (month)      69\n",
       "Number Employees                  762\n",
       "Business Summary                  310\n",
       "Market                              0\n",
       "CIK                                12\n",
       "Main Currency                       0\n",
       "dtype: int64"
      ]
     },
     "execution_count": 67,
     "metadata": {},
     "output_type": "execute_result"
    }
   ],
   "source": [
    "data.isnull().sum()"
   ]
  },
  {
   "cell_type": "code",
   "execution_count": 68,
   "id": "cf98086f",
   "metadata": {},
   "outputs": [],
   "source": [
    "data = data[~data['ISIN'].duplicated()]\n"
   ]
  },
  {
   "cell_type": "code",
   "execution_count": 69,
   "id": "24cf86ba",
   "metadata": {},
   "outputs": [
    {
     "name": "stderr",
     "output_type": "stream",
     "text": [
      "/var/folders/nl/1mz19h4n1d920hbz6_952lk00000gn/T/ipykernel_78911/3404093327.py:1: FutureWarning: A value is trying to be set on a copy of a DataFrame or Series through chained assignment using an inplace method.\n",
      "The behavior will change in pandas 3.0. This inplace method will never work because the intermediate object on which we are setting values always behaves as a copy.\n",
      "\n",
      "For example, when doing 'df[col].method(value, inplace=True)', try using 'df.method({col: value}, inplace=True)' or df[col] = df[col].method(value) instead, to perform the operation inplace on the original object.\n",
      "\n",
      "\n",
      "  data['IndustryId'].fillna(0,inplace=True)\n",
      "/var/folders/nl/1mz19h4n1d920hbz6_952lk00000gn/T/ipykernel_78911/3404093327.py:2: FutureWarning: A value is trying to be set on a copy of a DataFrame or Series through chained assignment using an inplace method.\n",
      "The behavior will change in pandas 3.0. This inplace method will never work because the intermediate object on which we are setting values always behaves as a copy.\n",
      "\n",
      "For example, when doing 'df[col].method(value, inplace=True)', try using 'df.method({col: value}, inplace=True)' or df[col] = df[col].method(value) instead, to perform the operation inplace on the original object.\n",
      "\n",
      "\n",
      "  data['ISIN'].fillna(0,inplace=True)\n",
      "/var/folders/nl/1mz19h4n1d920hbz6_952lk00000gn/T/ipykernel_78911/3404093327.py:3: FutureWarning: A value is trying to be set on a copy of a DataFrame or Series through chained assignment using an inplace method.\n",
      "The behavior will change in pandas 3.0. This inplace method will never work because the intermediate object on which we are setting values always behaves as a copy.\n",
      "\n",
      "For example, when doing 'df[col].method(value, inplace=True)', try using 'df.method({col: value}, inplace=True)' or df[col] = df[col].method(value) instead, to perform the operation inplace on the original object.\n",
      "\n",
      "\n",
      "  data['CIK'].fillna(0,inplace=True)\n",
      "/var/folders/nl/1mz19h4n1d920hbz6_952lk00000gn/T/ipykernel_78911/3404093327.py:4: FutureWarning: A value is trying to be set on a copy of a DataFrame or Series through chained assignment using an inplace method.\n",
      "The behavior will change in pandas 3.0. This inplace method will never work because the intermediate object on which we are setting values always behaves as a copy.\n",
      "\n",
      "For example, when doing 'df[col].method(value, inplace=True)', try using 'df.method({col: value}, inplace=True)' or df[col] = df[col].method(value) instead, to perform the operation inplace on the original object.\n",
      "\n",
      "\n",
      "  data['Number Employees'].fillna(0,inplace=True)\n",
      "/var/folders/nl/1mz19h4n1d920hbz6_952lk00000gn/T/ipykernel_78911/3404093327.py:5: FutureWarning: A value is trying to be set on a copy of a DataFrame or Series through chained assignment using an inplace method.\n",
      "The behavior will change in pandas 3.0. This inplace method will never work because the intermediate object on which we are setting values always behaves as a copy.\n",
      "\n",
      "For example, when doing 'df[col].method(value, inplace=True)', try using 'df.method({col: value}, inplace=True)' or df[col] = df[col].method(value) instead, to perform the operation inplace on the original object.\n",
      "\n",
      "\n",
      "  data['Business Summary'].fillna('Unknown',inplace=True)\n"
     ]
    }
   ],
   "source": [
    "data['IndustryId'].fillna(0,inplace=True)\n",
    "data['ISIN'].fillna(0,inplace=True)\n",
    "data['CIK'].fillna(0,inplace=True)\n",
    "data['Number Employees'].fillna(0,inplace=True)\n",
    "data['Business Summary'].fillna('Unknown',inplace=True)\n",
    "\n"
   ]
  },
  {
   "cell_type": "code",
   "execution_count": 70,
   "id": "e1e900ac",
   "metadata": {},
   "outputs": [],
   "source": [
    "data.to_csv(f\"data/{OUTPUT_FOLDER}/{key}.csv\", index=False)"
   ]
  },
  {
   "cell_type": "markdown",
   "id": "1711c1b4",
   "metadata": {},
   "source": [
    "We have to fill in the unknown company names"
   ]
  },
  {
   "cell_type": "code",
   "execution_count": 71,
   "id": "68733e94",
   "metadata": {},
   "outputs": [
    {
     "name": "stdout",
     "output_type": "stream",
     "text": [
      "<class 'pandas.core.frame.DataFrame'>\n",
      "RangeIndex: 5898046 entries, 0 to 5898045\n",
      "Data columns (total 11 columns):\n",
      " #   Column              Non-Null Count    Dtype  \n",
      "---  ------              --------------    -----  \n",
      " 0   Ticker              5898046 non-null  object \n",
      " 1   SimFinId            5898046 non-null  int64  \n",
      " 2   Date                5898046 non-null  object \n",
      " 3   Open                5898046 non-null  float64\n",
      " 4   High                5898046 non-null  float64\n",
      " 5   Low                 5898046 non-null  float64\n",
      " 6   Close               5898046 non-null  float64\n",
      " 7   Adj. Close          5898046 non-null  float64\n",
      " 8   Volume              5898046 non-null  int64  \n",
      " 9   Dividend            35968 non-null    float64\n",
      " 10  Shares Outstanding  5341425 non-null  float64\n",
      "dtypes: float64(7), int64(2), object(2)\n",
      "memory usage: 495.0+ MB\n"
     ]
    }
   ],
   "source": [
    "key = \"us-shareprices-daily\"\n",
    "data = pd.read_csv(f\"data/{INPUT_FOLDER}/{key}.csv\",delimiter=\";\")\n",
    "data.info(show_counts=True)\n"
   ]
  },
  {
   "cell_type": "code",
   "execution_count": 72,
   "id": "74772d99",
   "metadata": {},
   "outputs": [
    {
     "data": {
      "text/html": [
       "<div>\n",
       "<style scoped>\n",
       "    .dataframe tbody tr th:only-of-type {\n",
       "        vertical-align: middle;\n",
       "    }\n",
       "\n",
       "    .dataframe tbody tr th {\n",
       "        vertical-align: top;\n",
       "    }\n",
       "\n",
       "    .dataframe thead th {\n",
       "        text-align: right;\n",
       "    }\n",
       "</style>\n",
       "<table border=\"1\" class=\"dataframe\">\n",
       "  <thead>\n",
       "    <tr style=\"text-align: right;\">\n",
       "      <th></th>\n",
       "      <th>Ticker</th>\n",
       "      <th>SimFinId</th>\n",
       "      <th>Date</th>\n",
       "      <th>Open</th>\n",
       "      <th>High</th>\n",
       "      <th>Low</th>\n",
       "      <th>Close</th>\n",
       "      <th>Adj. Close</th>\n",
       "      <th>Volume</th>\n",
       "      <th>Dividend</th>\n",
       "      <th>Shares Outstanding</th>\n",
       "    </tr>\n",
       "  </thead>\n",
       "  <tbody>\n",
       "    <tr>\n",
       "      <th>0</th>\n",
       "      <td>A</td>\n",
       "      <td>45846</td>\n",
       "      <td>2019-04-29</td>\n",
       "      <td>77.47</td>\n",
       "      <td>78.44</td>\n",
       "      <td>77.32</td>\n",
       "      <td>77.33</td>\n",
       "      <td>74.27</td>\n",
       "      <td>2177700</td>\n",
       "      <td>NaN</td>\n",
       "      <td>317515869.0</td>\n",
       "    </tr>\n",
       "    <tr>\n",
       "      <th>1</th>\n",
       "      <td>A</td>\n",
       "      <td>45846</td>\n",
       "      <td>2019-04-30</td>\n",
       "      <td>77.44</td>\n",
       "      <td>78.59</td>\n",
       "      <td>77.38</td>\n",
       "      <td>78.50</td>\n",
       "      <td>75.39</td>\n",
       "      <td>1726239</td>\n",
       "      <td>NaN</td>\n",
       "      <td>317000000.0</td>\n",
       "    </tr>\n",
       "    <tr>\n",
       "      <th>2</th>\n",
       "      <td>A</td>\n",
       "      <td>45846</td>\n",
       "      <td>2019-05-01</td>\n",
       "      <td>78.49</td>\n",
       "      <td>78.92</td>\n",
       "      <td>77.28</td>\n",
       "      <td>77.47</td>\n",
       "      <td>74.40</td>\n",
       "      <td>1078572</td>\n",
       "      <td>NaN</td>\n",
       "      <td>317000000.0</td>\n",
       "    </tr>\n",
       "    <tr>\n",
       "      <th>3</th>\n",
       "      <td>A</td>\n",
       "      <td>45846</td>\n",
       "      <td>2019-05-02</td>\n",
       "      <td>77.41</td>\n",
       "      <td>78.34</td>\n",
       "      <td>77.15</td>\n",
       "      <td>78.20</td>\n",
       "      <td>75.10</td>\n",
       "      <td>946764</td>\n",
       "      <td>NaN</td>\n",
       "      <td>317000000.0</td>\n",
       "    </tr>\n",
       "    <tr>\n",
       "      <th>4</th>\n",
       "      <td>A</td>\n",
       "      <td>45846</td>\n",
       "      <td>2019-05-03</td>\n",
       "      <td>78.58</td>\n",
       "      <td>79.56</td>\n",
       "      <td>78.58</td>\n",
       "      <td>79.29</td>\n",
       "      <td>76.15</td>\n",
       "      <td>1303198</td>\n",
       "      <td>NaN</td>\n",
       "      <td>317000000.0</td>\n",
       "    </tr>\n",
       "    <tr>\n",
       "      <th>5</th>\n",
       "      <td>A</td>\n",
       "      <td>45846</td>\n",
       "      <td>2019-05-06</td>\n",
       "      <td>77.62</td>\n",
       "      <td>79.41</td>\n",
       "      <td>77.21</td>\n",
       "      <td>79.35</td>\n",
       "      <td>76.21</td>\n",
       "      <td>1624324</td>\n",
       "      <td>NaN</td>\n",
       "      <td>317000000.0</td>\n",
       "    </tr>\n",
       "    <tr>\n",
       "      <th>6</th>\n",
       "      <td>A</td>\n",
       "      <td>45846</td>\n",
       "      <td>2019-05-07</td>\n",
       "      <td>78.59</td>\n",
       "      <td>78.77</td>\n",
       "      <td>76.03</td>\n",
       "      <td>76.67</td>\n",
       "      <td>73.64</td>\n",
       "      <td>1732161</td>\n",
       "      <td>NaN</td>\n",
       "      <td>317000000.0</td>\n",
       "    </tr>\n",
       "    <tr>\n",
       "      <th>7</th>\n",
       "      <td>A</td>\n",
       "      <td>45846</td>\n",
       "      <td>2019-05-08</td>\n",
       "      <td>76.78</td>\n",
       "      <td>77.30</td>\n",
       "      <td>76.13</td>\n",
       "      <td>76.61</td>\n",
       "      <td>73.58</td>\n",
       "      <td>2243580</td>\n",
       "      <td>NaN</td>\n",
       "      <td>317000000.0</td>\n",
       "    </tr>\n",
       "    <tr>\n",
       "      <th>8</th>\n",
       "      <td>A</td>\n",
       "      <td>45846</td>\n",
       "      <td>2019-05-09</td>\n",
       "      <td>75.67</td>\n",
       "      <td>77.06</td>\n",
       "      <td>74.85</td>\n",
       "      <td>77.00</td>\n",
       "      <td>73.95</td>\n",
       "      <td>1717541</td>\n",
       "      <td>NaN</td>\n",
       "      <td>317000000.0</td>\n",
       "    </tr>\n",
       "    <tr>\n",
       "      <th>9</th>\n",
       "      <td>A</td>\n",
       "      <td>45846</td>\n",
       "      <td>2019-05-10</td>\n",
       "      <td>76.64</td>\n",
       "      <td>77.14</td>\n",
       "      <td>74.09</td>\n",
       "      <td>77.10</td>\n",
       "      <td>74.05</td>\n",
       "      <td>2849795</td>\n",
       "      <td>NaN</td>\n",
       "      <td>317000000.0</td>\n",
       "    </tr>\n",
       "  </tbody>\n",
       "</table>\n",
       "</div>"
      ],
      "text/plain": [
       "  Ticker  SimFinId        Date   Open   High    Low  Close  Adj. Close  \\\n",
       "0      A     45846  2019-04-29  77.47  78.44  77.32  77.33       74.27   \n",
       "1      A     45846  2019-04-30  77.44  78.59  77.38  78.50       75.39   \n",
       "2      A     45846  2019-05-01  78.49  78.92  77.28  77.47       74.40   \n",
       "3      A     45846  2019-05-02  77.41  78.34  77.15  78.20       75.10   \n",
       "4      A     45846  2019-05-03  78.58  79.56  78.58  79.29       76.15   \n",
       "5      A     45846  2019-05-06  77.62  79.41  77.21  79.35       76.21   \n",
       "6      A     45846  2019-05-07  78.59  78.77  76.03  76.67       73.64   \n",
       "7      A     45846  2019-05-08  76.78  77.30  76.13  76.61       73.58   \n",
       "8      A     45846  2019-05-09  75.67  77.06  74.85  77.00       73.95   \n",
       "9      A     45846  2019-05-10  76.64  77.14  74.09  77.10       74.05   \n",
       "\n",
       "    Volume  Dividend  Shares Outstanding  \n",
       "0  2177700       NaN         317515869.0  \n",
       "1  1726239       NaN         317000000.0  \n",
       "2  1078572       NaN         317000000.0  \n",
       "3   946764       NaN         317000000.0  \n",
       "4  1303198       NaN         317000000.0  \n",
       "5  1624324       NaN         317000000.0  \n",
       "6  1732161       NaN         317000000.0  \n",
       "7  2243580       NaN         317000000.0  \n",
       "8  1717541       NaN         317000000.0  \n",
       "9  2849795       NaN         317000000.0  "
      ]
     },
     "execution_count": 72,
     "metadata": {},
     "output_type": "execute_result"
    }
   ],
   "source": [
    "data.head(10)"
   ]
  },
  {
   "cell_type": "code",
   "execution_count": 73,
   "id": "3c45a8e5",
   "metadata": {},
   "outputs": [
    {
     "data": {
      "text/plain": [
       "Ticker                      0\n",
       "SimFinId                    0\n",
       "Date                        0\n",
       "Open                        0\n",
       "High                        0\n",
       "Low                         0\n",
       "Close                       0\n",
       "Adj. Close                  0\n",
       "Volume                      0\n",
       "Dividend              5862078\n",
       "Shares Outstanding     556621\n",
       "dtype: int64"
      ]
     },
     "execution_count": 73,
     "metadata": {},
     "output_type": "execute_result"
    }
   ],
   "source": [
    "data.isnull().sum()"
   ]
  },
  {
   "cell_type": "markdown",
   "id": "df95b152",
   "metadata": {},
   "source": [
    "Filling the Dividend NA with 0 because either the company does not give any dividends or it is not due on this day\n"
   ]
  },
  {
   "cell_type": "code",
   "execution_count": 74,
   "id": "08377687",
   "metadata": {},
   "outputs": [
    {
     "name": "stderr",
     "output_type": "stream",
     "text": [
      "/var/folders/nl/1mz19h4n1d920hbz6_952lk00000gn/T/ipykernel_78911/3462244355.py:1: FutureWarning: A value is trying to be set on a copy of a DataFrame or Series through chained assignment using an inplace method.\n",
      "The behavior will change in pandas 3.0. This inplace method will never work because the intermediate object on which we are setting values always behaves as a copy.\n",
      "\n",
      "For example, when doing 'df[col].method(value, inplace=True)', try using 'df.method({col: value}, inplace=True)' or df[col] = df[col].method(value) instead, to perform the operation inplace on the original object.\n",
      "\n",
      "\n",
      "  data['Dividend'].fillna(0,inplace=True)\n"
     ]
    }
   ],
   "source": [
    "data['Dividend'].fillna(0,inplace=True)\n",
    "\n"
   ]
  },
  {
   "cell_type": "code",
   "execution_count": 75,
   "id": "a8d30762",
   "metadata": {},
   "outputs": [
    {
     "name": "stderr",
     "output_type": "stream",
     "text": [
      "/var/folders/nl/1mz19h4n1d920hbz6_952lk00000gn/T/ipykernel_78911/601520146.py:1: FutureWarning: A value is trying to be set on a copy of a DataFrame or Series through chained assignment using an inplace method.\n",
      "The behavior will change in pandas 3.0. This inplace method will never work because the intermediate object on which we are setting values always behaves as a copy.\n",
      "\n",
      "For example, when doing 'df[col].method(value, inplace=True)', try using 'df.method({col: value}, inplace=True)' or df[col] = df[col].method(value) instead, to perform the operation inplace on the original object.\n",
      "\n",
      "\n",
      "  data['Shares Outstanding'].fillna(data['Shares Outstanding'].mean(), inplace=True)\n"
     ]
    }
   ],
   "source": [
    "data['Shares Outstanding'].fillna(data['Shares Outstanding'].mean(), inplace=True)\n"
   ]
  },
  {
   "cell_type": "code",
   "execution_count": 76,
   "id": "2d529642",
   "metadata": {},
   "outputs": [],
   "source": [
    "data.to_csv(f\"data/{OUTPUT_FOLDER}/{key}.csv\", index=False)"
   ]
  },
  {
   "cell_type": "code",
   "execution_count": 77,
   "id": "9b77d2d3",
   "metadata": {},
   "outputs": [
    {
     "name": "stdout",
     "output_type": "stream",
     "text": [
      "<class 'pandas.core.frame.DataFrame'>\n",
      "RangeIndex: 74 entries, 0 to 73\n",
      "Data columns (total 3 columns):\n",
      " #   Column      Non-Null Count  Dtype \n",
      "---  ------      --------------  ----- \n",
      " 0   IndustryId  74 non-null     int64 \n",
      " 1   Industry    74 non-null     object\n",
      " 2   Sector      74 non-null     object\n",
      "dtypes: int64(1), object(2)\n",
      "memory usage: 1.9+ KB\n"
     ]
    }
   ],
   "source": [
    "key = \"industries\"\n",
    "data = pd.read_csv(f\"data/{INPUT_FOLDER}/{key}.csv\", delimiter=\";\")\n",
    "data.info(show_counts=True)\n",
    "data.to_csv(f\"data/{OUTPUT_FOLDER}/{key}.csv\", index=False)"
   ]
  }
 ],
 "metadata": {
  "kernelspec": {
   "display_name": "base",
   "language": "python",
   "name": "python3"
  },
  "language_info": {
   "codemirror_mode": {
    "name": "ipython",
    "version": 3
   },
   "file_extension": ".py",
   "mimetype": "text/x-python",
   "name": "python",
   "nbconvert_exporter": "python",
   "pygments_lexer": "ipython3",
   "version": "3.12.4"
  },
  "toc-autonumbering": true
 },
 "nbformat": 4,
 "nbformat_minor": 5
}
