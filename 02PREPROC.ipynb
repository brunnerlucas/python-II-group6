{
 "cells": [
  {
   "cell_type": "code",
   "execution_count": 188,
   "id": "0415cc56-035e-4517-a132-c95feeff8ddf",
   "metadata": {},
   "outputs": [],
   "source": [
    "import os\n",
    "import pandas as pd\n"
   ]
  },
  {
   "cell_type": "code",
   "execution_count": 189,
   "id": "c7cc59cb",
   "metadata": {},
   "outputs": [],
   "source": [
    "INPUT_FOLDER = \"raw\"\n",
    "OUTPUT_FOLDER = \"preproc\""
   ]
  },
  {
   "cell_type": "code",
   "execution_count": 190,
   "id": "97aa3412",
   "metadata": {},
   "outputs": [],
   "source": [
    "os.makedirs(\"data/preproc\", exist_ok=True)"
   ]
  }
 ]
}
