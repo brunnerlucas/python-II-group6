{
 "cells": [
  {
   "cell_type": "markdown",
   "metadata": {},
   "source": [
    "## Import Data"
   ]
  },
  {
   "cell_type": "code",
   "execution_count": 20,
   "metadata": {},
   "outputs": [],
   "source": [
    "import os\n",
    "import pandas as pd\n",
    "import numpy as np\n",
    "import matplotlib.pyplot as plt\n",
    "import seaborn as sns\n",
    "from sklearn.preprocessing import StandardScaler\n",
    "from sklearn.model_selection import train_test_split\n",
    "from sklearn.linear_model import LogisticRegression\n",
    "from sklearn.metrics import confusion_matrix, classification_report\n",
    "\n",
    "        "
   ]
  },
  {
   "cell_type": "code",
   "execution_count": 21,
   "metadata": {},
   "outputs": [],
   "source": [
    "INPUT_FOLDER = \"preproc\"\n",
    "OUTPUT_FOLDER = \"enrich\""
   ]
  },
  {
   "cell_type": "code",
   "execution_count": 22,
   "metadata": {},
   "outputs": [
    {
     "name": "stdout",
     "output_type": "stream",
     "text": [
      "<class 'pandas.core.frame.DataFrame'>\n",
      "RangeIndex: 5020 entries, 0 to 5019\n",
      "Data columns (total 10 columns):\n",
      " #   Column                         Non-Null Count  Dtype  \n",
      "---  ------                         --------------  -----  \n",
      " 0   SimFinId                       5020 non-null   int64  \n",
      " 1   Company Name                   5020 non-null   object \n",
      " 2   IndustryId                     5020 non-null   float64\n",
      " 3   ISIN                           5020 non-null   object \n",
      " 4   End of financial year (month)  5020 non-null   float64\n",
      " 5   Number Employees               5020 non-null   float64\n",
      " 6   Business Summary               5020 non-null   object \n",
      " 7   Market                         5020 non-null   object \n",
      " 8   CIK                            5020 non-null   float64\n",
      " 9   Main Currency                  5020 non-null   object \n",
      "dtypes: float64(4), int64(1), object(5)\n",
      "memory usage: 392.3+ KB\n"
     ]
    }
   ],
   "source": [
    "key = \"us_companies\"\n",
    "df_us_companies = pd.read_csv(f\"data/{INPUT_FOLDER}/{key}.csv\")\n",
    "df_us_companies.info(show_counts=True)"
   ]
  },
  {
   "cell_type": "code",
   "execution_count": 23,
   "metadata": {},
   "outputs": [
    {
     "name": "stdout",
     "output_type": "stream",
     "text": [
      "<class 'pandas.core.frame.DataFrame'>\n",
      "RangeIndex: 5815913 entries, 0 to 5815912\n",
      "Data columns (total 11 columns):\n",
      " #   Column              Non-Null Count    Dtype         \n",
      "---  ------              --------------    -----         \n",
      " 0   Ticker              5815913 non-null  object        \n",
      " 1   SimFinId            5815913 non-null  int64         \n",
      " 2   Date                5815913 non-null  datetime64[ns]\n",
      " 3   Open                5815913 non-null  float64       \n",
      " 4   High                5815913 non-null  float64       \n",
      " 5   Low                 5815913 non-null  float64       \n",
      " 6   Close               5815913 non-null  float64       \n",
      " 7   Adj. Close          5815913 non-null  float64       \n",
      " 8   Volume              5815913 non-null  int64         \n",
      " 9   Dividend            5815913 non-null  float64       \n",
      " 10  Shares Outstanding  5815913 non-null  float64       \n",
      "dtypes: datetime64[ns](1), float64(7), int64(2), object(1)\n",
      "memory usage: 488.1+ MB\n"
     ]
    }
   ],
   "source": [
    "key = \"us-shareprices-daily\"\n",
    "df_us_share_price = pd.read_csv(f\"data/{INPUT_FOLDER}/{key}.csv\", parse_dates=[\"Date\"])\n",
    "df_us_share_price.info(show_counts=True)"
   ]
  },
  {
   "cell_type": "code",
   "execution_count": 24,
   "metadata": {},
   "outputs": [
    {
     "data": {
      "text/html": [
       "<div>\n",
       "<style scoped>\n",
       "    .dataframe tbody tr th:only-of-type {\n",
       "        vertical-align: middle;\n",
       "    }\n",
       "\n",
       "    .dataframe tbody tr th {\n",
       "        vertical-align: top;\n",
       "    }\n",
       "\n",
       "    .dataframe thead th {\n",
       "        text-align: right;\n",
       "    }\n",
       "</style>\n",
       "<table border=\"1\" class=\"dataframe\">\n",
       "  <thead>\n",
       "    <tr style=\"text-align: right;\">\n",
       "      <th></th>\n",
       "      <th>Ticker</th>\n",
       "      <th>SimFinId</th>\n",
       "      <th>Date</th>\n",
       "      <th>Open</th>\n",
       "      <th>High</th>\n",
       "      <th>Low</th>\n",
       "      <th>Close</th>\n",
       "      <th>Adj. Close</th>\n",
       "      <th>Volume</th>\n",
       "      <th>Dividend</th>\n",
       "      <th>Shares Outstanding</th>\n",
       "      <th>Company Name</th>\n",
       "      <th>IndustryId</th>\n",
       "      <th>ISIN</th>\n",
       "      <th>End of financial year (month)</th>\n",
       "      <th>Number Employees</th>\n",
       "      <th>Business Summary</th>\n",
       "      <th>Market</th>\n",
       "      <th>CIK</th>\n",
       "      <th>Main Currency</th>\n",
       "    </tr>\n",
       "  </thead>\n",
       "  <tbody>\n",
       "    <tr>\n",
       "      <th>0</th>\n",
       "      <td>A</td>\n",
       "      <td>45846</td>\n",
       "      <td>2019-04-12</td>\n",
       "      <td>81.43</td>\n",
       "      <td>82.06</td>\n",
       "      <td>80.90</td>\n",
       "      <td>80.98</td>\n",
       "      <td>77.77</td>\n",
       "      <td>1249295</td>\n",
       "      <td>0.0</td>\n",
       "      <td>317515869.0</td>\n",
       "      <td>AGILENT TECHNOLOGIES INC</td>\n",
       "      <td>106001.0</td>\n",
       "      <td>US00846U1016</td>\n",
       "      <td>10.0</td>\n",
       "      <td>16400.0</td>\n",
       "      <td>Agilent Technologies Inc is engaged in life sc...</td>\n",
       "      <td>us</td>\n",
       "      <td>1090872.0</td>\n",
       "      <td>USD</td>\n",
       "    </tr>\n",
       "    <tr>\n",
       "      <th>1</th>\n",
       "      <td>A</td>\n",
       "      <td>45846</td>\n",
       "      <td>2019-04-15</td>\n",
       "      <td>81.00</td>\n",
       "      <td>81.13</td>\n",
       "      <td>79.91</td>\n",
       "      <td>80.40</td>\n",
       "      <td>77.22</td>\n",
       "      <td>1627268</td>\n",
       "      <td>0.0</td>\n",
       "      <td>317515869.0</td>\n",
       "      <td>AGILENT TECHNOLOGIES INC</td>\n",
       "      <td>106001.0</td>\n",
       "      <td>US00846U1016</td>\n",
       "      <td>10.0</td>\n",
       "      <td>16400.0</td>\n",
       "      <td>Agilent Technologies Inc is engaged in life sc...</td>\n",
       "      <td>us</td>\n",
       "      <td>1090872.0</td>\n",
       "      <td>USD</td>\n",
       "    </tr>\n",
       "    <tr>\n",
       "      <th>2</th>\n",
       "      <td>A</td>\n",
       "      <td>45846</td>\n",
       "      <td>2019-04-16</td>\n",
       "      <td>80.82</td>\n",
       "      <td>80.96</td>\n",
       "      <td>77.19</td>\n",
       "      <td>77.55</td>\n",
       "      <td>74.48</td>\n",
       "      <td>3441597</td>\n",
       "      <td>0.0</td>\n",
       "      <td>317515869.0</td>\n",
       "      <td>AGILENT TECHNOLOGIES INC</td>\n",
       "      <td>106001.0</td>\n",
       "      <td>US00846U1016</td>\n",
       "      <td>10.0</td>\n",
       "      <td>16400.0</td>\n",
       "      <td>Agilent Technologies Inc is engaged in life sc...</td>\n",
       "      <td>us</td>\n",
       "      <td>1090872.0</td>\n",
       "      <td>USD</td>\n",
       "    </tr>\n",
       "    <tr>\n",
       "      <th>3</th>\n",
       "      <td>A</td>\n",
       "      <td>45846</td>\n",
       "      <td>2019-04-17</td>\n",
       "      <td>78.15</td>\n",
       "      <td>78.32</td>\n",
       "      <td>74.46</td>\n",
       "      <td>75.43</td>\n",
       "      <td>72.44</td>\n",
       "      <td>4471971</td>\n",
       "      <td>0.0</td>\n",
       "      <td>317515869.0</td>\n",
       "      <td>AGILENT TECHNOLOGIES INC</td>\n",
       "      <td>106001.0</td>\n",
       "      <td>US00846U1016</td>\n",
       "      <td>10.0</td>\n",
       "      <td>16400.0</td>\n",
       "      <td>Agilent Technologies Inc is engaged in life sc...</td>\n",
       "      <td>us</td>\n",
       "      <td>1090872.0</td>\n",
       "      <td>USD</td>\n",
       "    </tr>\n",
       "    <tr>\n",
       "      <th>4</th>\n",
       "      <td>A</td>\n",
       "      <td>45846</td>\n",
       "      <td>2019-04-18</td>\n",
       "      <td>75.73</td>\n",
       "      <td>76.54</td>\n",
       "      <td>75.31</td>\n",
       "      <td>76.17</td>\n",
       "      <td>73.16</td>\n",
       "      <td>2874195</td>\n",
       "      <td>0.0</td>\n",
       "      <td>317515869.0</td>\n",
       "      <td>AGILENT TECHNOLOGIES INC</td>\n",
       "      <td>106001.0</td>\n",
       "      <td>US00846U1016</td>\n",
       "      <td>10.0</td>\n",
       "      <td>16400.0</td>\n",
       "      <td>Agilent Technologies Inc is engaged in life sc...</td>\n",
       "      <td>us</td>\n",
       "      <td>1090872.0</td>\n",
       "      <td>USD</td>\n",
       "    </tr>\n",
       "  </tbody>\n",
       "</table>\n",
       "</div>"
      ],
      "text/plain": [
       "  Ticker  SimFinId       Date   Open   High    Low  Close  Adj. Close  \\\n",
       "0      A     45846 2019-04-12  81.43  82.06  80.90  80.98       77.77   \n",
       "1      A     45846 2019-04-15  81.00  81.13  79.91  80.40       77.22   \n",
       "2      A     45846 2019-04-16  80.82  80.96  77.19  77.55       74.48   \n",
       "3      A     45846 2019-04-17  78.15  78.32  74.46  75.43       72.44   \n",
       "4      A     45846 2019-04-18  75.73  76.54  75.31  76.17       73.16   \n",
       "\n",
       "    Volume  Dividend  Shares Outstanding              Company Name  \\\n",
       "0  1249295       0.0         317515869.0  AGILENT TECHNOLOGIES INC   \n",
       "1  1627268       0.0         317515869.0  AGILENT TECHNOLOGIES INC   \n",
       "2  3441597       0.0         317515869.0  AGILENT TECHNOLOGIES INC   \n",
       "3  4471971       0.0         317515869.0  AGILENT TECHNOLOGIES INC   \n",
       "4  2874195       0.0         317515869.0  AGILENT TECHNOLOGIES INC   \n",
       "\n",
       "   IndustryId          ISIN  End of financial year (month)  Number Employees  \\\n",
       "0    106001.0  US00846U1016                           10.0           16400.0   \n",
       "1    106001.0  US00846U1016                           10.0           16400.0   \n",
       "2    106001.0  US00846U1016                           10.0           16400.0   \n",
       "3    106001.0  US00846U1016                           10.0           16400.0   \n",
       "4    106001.0  US00846U1016                           10.0           16400.0   \n",
       "\n",
       "                                    Business Summary Market        CIK  \\\n",
       "0  Agilent Technologies Inc is engaged in life sc...     us  1090872.0   \n",
       "1  Agilent Technologies Inc is engaged in life sc...     us  1090872.0   \n",
       "2  Agilent Technologies Inc is engaged in life sc...     us  1090872.0   \n",
       "3  Agilent Technologies Inc is engaged in life sc...     us  1090872.0   \n",
       "4  Agilent Technologies Inc is engaged in life sc...     us  1090872.0   \n",
       "\n",
       "  Main Currency  \n",
       "0           USD  \n",
       "1           USD  \n",
       "2           USD  \n",
       "3           USD  \n",
       "4           USD  "
      ]
     },
     "execution_count": 24,
     "metadata": {},
     "output_type": "execute_result"
    }
   ],
   "source": [
    "#join df_us_share_price with df_us_companies on SimFinId\n",
    "df = pd.merge(df_us_share_price, df_us_companies, on=\"SimFinId\", how=\"left\")\n",
    "\n",
    "df.head()"
   ]
  },
  {
   "cell_type": "markdown",
   "metadata": {},
   "source": [
    "## Import Function"
   ]
  },
  {
   "cell_type": "code",
   "execution_count": null,
   "metadata": {},
   "outputs": [],
   "source": [
    "#function\n",
    "import pandas as pd\n",
    "from sklearn.model_selection import train_test_split\n",
    "import xgboost as xgb\n",
    "from sklearn.metrics import mean_squared_error\n",
    "\n",
    "def train_xgboost_model(data, simfin_id, last_date):\n",
    "    # Filter the DataFrame to get the last 60 days of data\n",
    "    data = data[['SimFinId', 'Date', 'Close']]\n",
    "    data = data.set_index(['SimFinId', 'Date'])\n",
    "    last_date = pd.to_datetime(last_date)\n",
    "    sixty_days_prior = last_date - pd.DateOffset(days=60)\n",
    "    data = data[(data.index.get_level_values('Date') > sixty_days_prior) & (data.index.get_level_values('Date') <= last_date)]\n",
    "\n",
    "    # Rename close to target\n",
    "    data = data.rename(columns={'Close': 'target'})\n",
    "    # Filter the DataFrame based on the provided SimFinId\n",
    "    data_filtered = data[data.index.get_level_values('SimFinId') == simfin_id]\n",
    "    \n",
    "    # Extract useful features from the Date column\n",
    "    data_filtered['year'] = data_filtered.index.get_level_values('Date').year\n",
    "    data_filtered['month'] = data_filtered.index.get_level_values('Date').month\n",
    "    data_filtered['day'] = data_filtered.index.get_level_values('Date').day\n",
    "    data_filtered['dayofweek'] = data_filtered.index.get_level_values('Date').dayofweek\n",
    "    data_filtered['lag1'] = data_filtered['target'].shift(1)\n",
    "    \n",
    "\n",
    "    # Prepare the data\n",
    "    X = data_filtered.drop(columns=['target'])\n",
    "    y = data_filtered['target']\n",
    "    \n",
    "    # Split the data into training and testing sets\n",
    "    X_train, X_test, y_train, y_test = train_test_split(X, y, test_size=0.2, random_state=42)\n",
    "    \n",
    "    # Train an XGBoost model\n",
    "    model = xgb.XGBRegressor(objective='reg:squarederror', n_estimators=100, learning_rate=0.1, max_depth=5)\n",
    "    model.fit(X_train, y_train)\n",
    "    \n",
    "    # Make predictions\n",
    "    y_train_pred = model.predict(X_train)\n",
    "    y_test_pred = model.predict(X_test)\n",
    "    \n",
    "    # Evaluate the model\n",
    "    train_mse = mean_squared_error(y_train, y_train_pred)\n",
    "    test_mse = mean_squared_error(y_test, y_test_pred)\n",
    "    \n",
    "    # Predict the next 15 days\n",
    "    future_dates = pd.date_range(start=last_date + pd.DateOffset(days=1), periods=1, freq='B')  # Business days\n",
    "    future_data = pd.DataFrame(index=pd.MultiIndex.from_product([[simfin_id], future_dates], names=['SimFinId', 'Date']))\n",
    "    future_data['year'] = future_data.index.get_level_values('Date').year\n",
    "    future_data['month'] = future_data.index.get_level_values('Date').month\n",
    "    future_data['day'] = future_data.index.get_level_values('Date').day\n",
    "    future_data['dayofweek'] = future_data.index.get_level_values('Date').dayofweek\n",
    "    future_data['lag1'] = data_filtered['target'].iloc[-1]\n",
    "    \n",
    "    future_predictions = model.predict(future_data)\n",
    "    future_predictions_df = pd.DataFrame({'Date': future_dates, 'Predicted_Close': future_predictions})\n",
    "    \n",
    "    return future_predictions_df\n",
    "\n",
    "# Example usage\n",
    "# Assuming 'data' is your DataFrame and 'SimFinId' is part of the index\n",
    "# simfin_id = 59265\n",
    "# date_for_model = pd.to_datetime('2024-03-04')  # Convert string to datetime\n",
    "# model, train_mse, test_mse, future_predictions = train_xgboost_model(data, simfin_id, date_for_model)\n",
    "# print(f\"Train Mean Squared Error: {train_mse}\")\n",
    "# print(f\"Test Mean Squared Error: {test_mse}\")\n",
    "# print(f\"Future Predictions: {future_predictions}\")"
   ]
  },
  {
   "cell_type": "code",
   "execution_count": 26,
   "metadata": {},
   "outputs": [
    {
     "data": {
      "text/plain": [
       "'# Function trading strategy\\ndef trading_strategy (future_predictions_df):\\n    low = prediction_df[\\'Predicted_Close\\'].min()\\n    date_low = prediction_df[\\'Date\\'][prediction_df[\\'Predicted_Close\\'].idxmin()].strftime(\\'%Y-%m-%d\\')\\n    high_after_date_low = prediction_df[prediction_df[\\'Date\\'] > date_low][\\'Predicted_Close\\'].max()\\n    date_high_after_date_low = prediction_df[\\'Date\\'][prediction_df[\\'Predicted_Close\\'] == high_after_date_low].values[0]\\n    date_high_after_date_low = pd.to_datetime(date_high_after_date_low).strftime(\\'%Y-%m-%d\\')\\n    percentual_change = (high_after_date_low - low) / low * 100\\n    days_from_low_to_high = (pd.to_datetime(date_high_after_date_low) - pd.to_datetime(date_low)).days\\n\\n    if low == high_after_date_low or percentual_change < 0 or days_from_low_to_high < 0 or percentual_change < 0.5: \\n        result = \"Don\\'t buy this stock, it\\'s going nowhere!\"\\n    else:\\n        result = f\\'Buy the stock on {date_low} and sell it on {date_high_after_date_low}, earnings up to {percentual_change:.2f}%\\'\\n    return result'"
      ]
     },
     "execution_count": 26,
     "metadata": {},
     "output_type": "execute_result"
    }
   ],
   "source": [
    "\"\"\"# Function trading strategy\n",
    "def trading_strategy (future_predictions_df):\n",
    "    low = prediction_df['Predicted_Close'].min()\n",
    "    date_low = prediction_df['Date'][prediction_df['Predicted_Close'].idxmin()].strftime('%Y-%m-%d')\n",
    "    high_after_date_low = prediction_df[prediction_df['Date'] > date_low]['Predicted_Close'].max()\n",
    "    date_high_after_date_low = prediction_df['Date'][prediction_df['Predicted_Close'] == high_after_date_low].values[0]\n",
    "    date_high_after_date_low = pd.to_datetime(date_high_after_date_low).strftime('%Y-%m-%d')\n",
    "    percentual_change = (high_after_date_low - low) / low * 100\n",
    "    days_from_low_to_high = (pd.to_datetime(date_high_after_date_low) - pd.to_datetime(date_low)).days\n",
    "\n",
    "    if low == high_after_date_low or percentual_change < 0 or days_from_low_to_high < 0 or percentual_change < 0.5: \n",
    "        result = \"Don't buy this stock, it's going nowhere!\"\n",
    "    else:\n",
    "        result = f'Buy the stock on {date_low} and sell it on {date_high_after_date_low}, earnings up to {percentual_change:.2f}%'\n",
    "    return result\"\"\""
   ]
  },
  {
   "cell_type": "markdown",
   "metadata": {},
   "source": [
    "## Test"
   ]
  },
  {
   "cell_type": "code",
   "execution_count": 27,
   "metadata": {},
   "outputs": [
    {
     "name": "stderr",
     "output_type": "stream",
     "text": [
      "/var/folders/0z/4yrpt4m15ps8kzs2ljkgk40r0000gn/T/ipykernel_87413/3423054321.py:21: SettingWithCopyWarning: \n",
      "A value is trying to be set on a copy of a slice from a DataFrame.\n",
      "Try using .loc[row_indexer,col_indexer] = value instead\n",
      "\n",
      "See the caveats in the documentation: https://pandas.pydata.org/pandas-docs/stable/user_guide/indexing.html#returning-a-view-versus-a-copy\n",
      "  data_filtered['year'] = data_filtered.index.get_level_values('Date').year\n",
      "/var/folders/0z/4yrpt4m15ps8kzs2ljkgk40r0000gn/T/ipykernel_87413/3423054321.py:22: SettingWithCopyWarning: \n",
      "A value is trying to be set on a copy of a slice from a DataFrame.\n",
      "Try using .loc[row_indexer,col_indexer] = value instead\n",
      "\n",
      "See the caveats in the documentation: https://pandas.pydata.org/pandas-docs/stable/user_guide/indexing.html#returning-a-view-versus-a-copy\n",
      "  data_filtered['month'] = data_filtered.index.get_level_values('Date').month\n",
      "/var/folders/0z/4yrpt4m15ps8kzs2ljkgk40r0000gn/T/ipykernel_87413/3423054321.py:23: SettingWithCopyWarning: \n",
      "A value is trying to be set on a copy of a slice from a DataFrame.\n",
      "Try using .loc[row_indexer,col_indexer] = value instead\n",
      "\n",
      "See the caveats in the documentation: https://pandas.pydata.org/pandas-docs/stable/user_guide/indexing.html#returning-a-view-versus-a-copy\n",
      "  data_filtered['day'] = data_filtered.index.get_level_values('Date').day\n",
      "/var/folders/0z/4yrpt4m15ps8kzs2ljkgk40r0000gn/T/ipykernel_87413/3423054321.py:24: SettingWithCopyWarning: \n",
      "A value is trying to be set on a copy of a slice from a DataFrame.\n",
      "Try using .loc[row_indexer,col_indexer] = value instead\n",
      "\n",
      "See the caveats in the documentation: https://pandas.pydata.org/pandas-docs/stable/user_guide/indexing.html#returning-a-view-versus-a-copy\n",
      "  data_filtered['dayofweek'] = data_filtered.index.get_level_values('Date').dayofweek\n",
      "/var/folders/0z/4yrpt4m15ps8kzs2ljkgk40r0000gn/T/ipykernel_87413/3423054321.py:25: SettingWithCopyWarning: \n",
      "A value is trying to be set on a copy of a slice from a DataFrame.\n",
      "Try using .loc[row_indexer,col_indexer] = value instead\n",
      "\n",
      "See the caveats in the documentation: https://pandas.pydata.org/pandas-docs/stable/user_guide/indexing.html#returning-a-view-versus-a-copy\n",
      "  data_filtered['lag1'] = data_filtered['target'].shift(1)\n"
     ]
    },
    {
     "data": {
      "text/html": [
       "<div>\n",
       "<style scoped>\n",
       "    .dataframe tbody tr th:only-of-type {\n",
       "        vertical-align: middle;\n",
       "    }\n",
       "\n",
       "    .dataframe tbody tr th {\n",
       "        vertical-align: top;\n",
       "    }\n",
       "\n",
       "    .dataframe thead th {\n",
       "        text-align: right;\n",
       "    }\n",
       "</style>\n",
       "<table border=\"1\" class=\"dataframe\">\n",
       "  <thead>\n",
       "    <tr style=\"text-align: right;\">\n",
       "      <th></th>\n",
       "      <th>Date</th>\n",
       "      <th>Predicted_Close</th>\n",
       "    </tr>\n",
       "  </thead>\n",
       "  <tbody>\n",
       "    <tr>\n",
       "      <th>0</th>\n",
       "      <td>2024-02-05</td>\n",
       "      <td>411.075256</td>\n",
       "    </tr>\n",
       "  </tbody>\n",
       "</table>\n",
       "</div>"
      ],
      "text/plain": [
       "        Date  Predicted_Close\n",
       "0 2024-02-05       411.075256"
      ]
     },
     "execution_count": 27,
     "metadata": {},
     "output_type": "execute_result"
    }
   ],
   "source": [
    "prediction_df = train_xgboost_model(df, 59265, '2024-02-04')\n",
    "prediction_df"
   ]
  },
  {
   "cell_type": "code",
   "execution_count": 28,
   "metadata": {},
   "outputs": [],
   "source": [
    "#trading_strategy(prediction_df)"
   ]
  },
  {
   "cell_type": "code",
   "execution_count": 35,
   "metadata": {},
   "outputs": [
    {
     "data": {
      "text/html": [
       "<div>\n",
       "<style scoped>\n",
       "    .dataframe tbody tr th:only-of-type {\n",
       "        vertical-align: middle;\n",
       "    }\n",
       "\n",
       "    .dataframe tbody tr th {\n",
       "        vertical-align: top;\n",
       "    }\n",
       "\n",
       "    .dataframe thead th {\n",
       "        text-align: right;\n",
       "    }\n",
       "</style>\n",
       "<table border=\"1\" class=\"dataframe\">\n",
       "  <thead>\n",
       "    <tr style=\"text-align: right;\">\n",
       "      <th></th>\n",
       "      <th>Date</th>\n",
       "      <th>Close</th>\n",
       "    </tr>\n",
       "  </thead>\n",
       "  <tbody>\n",
       "    <tr>\n",
       "      <th>0</th>\n",
       "      <td>2024-02-05</td>\n",
       "      <td>405.65</td>\n",
       "    </tr>\n",
       "    <tr>\n",
       "      <th>1</th>\n",
       "      <td>2024-02-06</td>\n",
       "      <td>405.49</td>\n",
       "    </tr>\n",
       "  </tbody>\n",
       "</table>\n",
       "</div>"
      ],
      "text/plain": [
       "        Date   Close\n",
       "0 2024-02-05  405.65\n",
       "1 2024-02-06  405.49"
      ]
     },
     "execution_count": 35,
     "metadata": {},
     "output_type": "execute_result"
    }
   ],
   "source": [
    "real_data = df[df['SimFinId'] == 59265]\n",
    "real_data = real_data[(real_data['Date'] > '2024-02-04') & (real_data['Date'] <= pd.to_datetime('2024-02-05') + pd.DateOffset(days=1))]\n",
    "real_data = real_data.reset_index(drop=True)\n",
    "real_data = real_data[['Date', 'Close']]\n",
    "\n",
    "real_data\n"
   ]
  },
  {
   "cell_type": "code",
   "execution_count": 36,
   "metadata": {},
   "outputs": [
    {
     "data": {
      "image/png": "[encoded data removed]",
      "text/plain": [
       "<Figure size 1000x600 with 1 Axes>"
      ]
     },
     "metadata": {},
     "output_type": "display_data"
    }
   ],
   "source": [
    "predictions_df = pd.merge(prediction_df, real_data, on='Date')\n",
    "\n",
    "plt.figure(figsize=(10, 6))\n",
    "plt.plot(predictions_df['Date'], predictions_df['Predicted_Close'], marker='o', linestyle='-', color='b', label='Predicted Close')\n",
    "plt.plot(predictions_df['Date'], predictions_df['Close'], marker='x', linestyle='-', color='r', label='Real Close')\n",
    "plt.title('Predicted vs Real Close Prices')\n",
    "plt.xlabel('Date')\n",
    "plt.ylabel('Close Price')\n",
    "plt.legend()\n",
    "plt.grid(True)\n",
    "plt.xticks(rotation=45)\n",
    "plt.tight_layout()\n",
    "plt.show()"
   ]
  },
  {
   "cell_type": "code",
   "execution_count": 37,
   "metadata": {},
   "outputs": [
    {
     "data": {
      "text/html": [
       "<div>\n",
       "<style scoped>\n",
       "    .dataframe tbody tr th:only-of-type {\n",
       "        vertical-align: middle;\n",
       "    }\n",
       "\n",
       "    .dataframe tbody tr th {\n",
       "        vertical-align: top;\n",
       "    }\n",
       "\n",
       "    .dataframe thead th {\n",
       "        text-align: right;\n",
       "    }\n",
       "</style>\n",
       "<table border=\"1\" class=\"dataframe\">\n",
       "  <thead>\n",
       "    <tr style=\"text-align: right;\">\n",
       "      <th></th>\n",
       "      <th>Date</th>\n",
       "      <th>Predicted_Close</th>\n",
       "      <th>Close</th>\n",
       "    </tr>\n",
       "  </thead>\n",
       "  <tbody>\n",
       "    <tr>\n",
       "      <th>0</th>\n",
       "      <td>2024-02-05</td>\n",
       "      <td>411.075256</td>\n",
       "      <td>405.65</td>\n",
       "    </tr>\n",
       "  </tbody>\n",
       "</table>\n",
       "</div>"
      ],
      "text/plain": [
       "        Date  Predicted_Close   Close\n",
       "0 2024-02-05       411.075256  405.65"
      ]
     },
     "execution_count": 37,
     "metadata": {},
     "output_type": "execute_result"
    }
   ],
   "source": [
    "predictions_df"
   ]
  },
  {
   "cell_type": "code",
   "execution_count": 38,
   "metadata": {},
   "outputs": [
    {
     "name": "stdout",
     "output_type": "stream",
     "text": [
      "Mean Absolute Error (MAE): 5.425256347656273\n",
      "Mean Squared Error (MSE): 29.43340643778468\n",
      "R² Score: nan\n"
     ]
    },
    {
     "name": "stderr",
     "output_type": "stream",
     "text": [
      "/Users/pablocamacho/Library/Python/3.9/lib/python/site-packages/sklearn/metrics/_regression.py:1266: UndefinedMetricWarning: R^2 score is not well-defined with less than two samples.\n",
      "  warnings.warn(msg, UndefinedMetricWarning)\n"
     ]
    }
   ],
   "source": [
    "import pandas as pd\n",
    "from sklearn.metrics import mean_absolute_error, mean_squared_error, r2_score\n",
    "\n",
    "# Assuming predictions_df is your DataFrame with 'Predicted_Close' and 'Close' columns\n",
    "\n",
    "# Calculate Mean Absolute Error (MAE)\n",
    "mae = mean_absolute_error(predictions_df['Close'], predictions_df['Predicted_Close'])\n",
    "print(f\"Mean Absolute Error (MAE): {mae}\")\n",
    "\n",
    "# Calculate Mean Squared Error (MSE)\n",
    "mse = mean_squared_error(predictions_df['Close'], predictions_df['Predicted_Close'])\n",
    "print(f\"Mean Squared Error (MSE): {mse}\")\n",
    "\n",
    "# Calculate R² Score\n",
    "r2 = r2_score(predictions_df['Close'], predictions_df['Predicted_Close'])\n",
    "print(f\"R² Score: {r2}\")"
   ]
  },
  {
   "cell_type": "markdown",
   "metadata": {},
   "source": [
    "## SARIMA\n"
   ]
  },
  {
   "cell_type": "code",
   "execution_count": null,
   "metadata": {},
   "outputs": [
    {
     "name": "stdout",
     "output_type": "stream",
     "text": [
      "RUNNING THE L-BFGS-B CODE\n",
      "\n",
      "           * * *\n",
      "\n",
      "Machine precision = 2.220D-16\n",
      " N =            5     M =           10\n",
      "\n",
      "At X0         0 variables are exactly at the bounds\n",
      "\n",
      "At iterate    0    f=  3.03657D+00    |proj g|=  6.30710D-02\n"
     ]
    },
    {
     "name": "stderr",
     "output_type": "stream",
     "text": [
      "/Users/pablocamacho/Library/Python/3.9/lib/python/site-packages/statsmodels/tsa/base/tsa_model.py:473: ValueWarning: A date index has been provided, but it has no associated frequency information and so will be ignored when e.g. forecasting.\n",
      "  self._init_dates(dates, freq)\n",
      "/Users/pablocamacho/Library/Python/3.9/lib/python/site-packages/statsmodels/tsa/base/tsa_model.py:473: ValueWarning: A date index has been provided, but it has no associated frequency information and so will be ignored when e.g. forecasting.\n",
      "  self._init_dates(dates, freq)\n",
      " This problem is unconstrained.\n"
     ]
    },
    {
     "name": "stdout",
     "output_type": "stream",
     "text": [
      "\n",
      "At iterate    5    f=  2.92085D+00    |proj g|=  1.23072D-02\n",
      "\n",
      "At iterate   10    f=  2.91097D+00    |proj g|=  1.51870D-03\n",
      "\n",
      "At iterate   15    f=  2.91023D+00    |proj g|=  1.84022D-03\n",
      "\n",
      "At iterate   20    f=  2.91015D+00    |proj g|=  4.93209D-04\n",
      "\n",
      "At iterate   25    f=  2.91013D+00    |proj g|=  1.58360D-04\n",
      "\n",
      "At iterate   30    f=  2.91013D+00    |proj g|=  6.93874D-05\n",
      "\n",
      "At iterate   35    f=  2.91012D+00    |proj g|=  3.21584D-05\n",
      "\n",
      "           * * *\n",
      "\n",
      "Tit   = total number of iterations\n",
      "Tnf   = total number of function evaluations\n",
      "Tnint = total number of segments explored during Cauchy searches\n",
      "Skip  = number of BFGS updates skipped\n",
      "Nact  = number of active bounds at final generalized Cauchy point\n",
      "Projg = norm of the final projected gradient\n",
      "F     = final function value\n",
      "\n",
      "           * * *\n",
      "\n",
      "   N    Tit     Tnf  Tnint  Skip  Nact     Projg        F\n",
      "    5     36     43      1     0     0   1.932D-05   2.910D+00\n",
      "  F =   2.9101247857924286     \n",
      "\n",
      "CONVERGENCE: REL_REDUCTION_OF_F_<=_FACTR*EPSMCH             \n"
     ]
    },
    {
     "name": "stderr",
     "output_type": "stream",
     "text": [
      "/Users/pablocamacho/Library/Python/3.9/lib/python/site-packages/statsmodels/tsa/base/tsa_model.py:837: ValueWarning: No supported index is available. Prediction results will be given with an integer index beginning at `start`.\n",
      "  return get_prediction_index(\n",
      "/Users/pablocamacho/Library/Python/3.9/lib/python/site-packages/statsmodels/tsa/base/tsa_model.py:837: FutureWarning: No supported index is available. In the next version, calling this method in a model without a supported index will result in an exception.\n",
      "  return get_prediction_index(\n"
     ]
    },
    {
     "data": {
      "text/html": [
       "<div>\n",
       "<style scoped>\n",
       "    .dataframe tbody tr th:only-of-type {\n",
       "        vertical-align: middle;\n",
       "    }\n",
       "\n",
       "    .dataframe tbody tr th {\n",
       "        vertical-align: top;\n",
       "    }\n",
       "\n",
       "    .dataframe thead th {\n",
       "        text-align: right;\n",
       "    }\n",
       "</style>\n",
       "<table border=\"1\" class=\"dataframe\">\n",
       "  <thead>\n",
       "    <tr style=\"text-align: right;\">\n",
       "      <th></th>\n",
       "      <th>predicted_value</th>\n",
       "    </tr>\n",
       "  </thead>\n",
       "  <tbody>\n",
       "  </tbody>\n",
       "</table>\n",
       "</div>"
      ],
      "text/plain": [
       "Empty DataFrame\n",
       "Columns: [predicted_value]\n",
       "Index: []"
      ]
     },
     "execution_count": 71,
     "metadata": {},
     "output_type": "execute_result"
    }
   ],
   "source": [
    "import statsmodels.api as sm\n",
    "from statsmodels.tsa.statespace.sarimax import SARIMAX\n",
    "\n",
    "# Filter the dataframe for SimFinId = 59265\n",
    "df_filtered = df[df['SimFinId'] == 59265]\n",
    "\n",
    "# Ensure the dataframe is sorted by date\n",
    "df_filtered = df_filtered.sort_values(by='Date')\n",
    "\n",
    "# Set the date column as the index\n",
    "df_filtered.set_index('Date', inplace=True)\n",
    "\n",
    "# Split the data into training and testing sets\n",
    "train_data = df_filtered[:'2024-01-03']\n",
    "test_data = df_filtered['2024-01-04':]\n",
    "\n",
    "# Fit the SARIMA model\n",
    "sarima_model = SARIMAX(train_data['Close'], order=(1, 1, 1), seasonal_order=(1, 1, 1, 12))\n",
    "sarima_result = sarima_model.fit()\n",
    "\n",
    "# Make predictions\n",
    "predictions = sarima_result.get_forecast(steps=len(test_data))\n",
    "predicted_mean = predictions.predicted_mean\n",
    "\n",
    "# Create a dataframe for the predictions\n",
    "prediction_df_sarima = pd.DataFrame(predicted_mean, columns=['predicted_value'])\n",
    "\n",
    "# Display the predictions\n",
    "prediction_df_sarima\n"
   ]
  },
  {
   "cell_type": "code",
   "execution_count": null,
   "metadata": {},
   "outputs": [],
   "source": [
    "#help"
   ]
  },
  {
   "cell_type": "markdown",
   "metadata": {},
   "source": [
    "## ARIMA"
   ]
  },
  {
   "cell_type": "code",
   "execution_count": null,
   "metadata": {},
   "outputs": [
    {
     "name": "stderr",
     "output_type": "stream",
     "text": [
      "/Users/pablocamacho/Library/Python/3.9/lib/python/site-packages/pandas/core/arraylike.py:399: RuntimeWarning: divide by zero encountered in log\n",
      "  result = getattr(ufunc, method)(*inputs, **kwargs)\n"
     ]
    }
   ],
   "source": [
    "df['log_return'] = np.log(df['Close'] / df['Close'].shift(1))"
   ]
  },
  {
   "cell_type": "code",
   "execution_count": null,
   "metadata": {},
   "outputs": [
    {
     "name": "stderr",
     "output_type": "stream",
     "text": [
      "/Users/pablocamacho/Library/Python/3.9/lib/python/site-packages/statsmodels/tsa/statespace/sarimax.py:866: UserWarning: Too few observations to estimate starting parameters for ARMA and trend. All parameters except for variances will be set to zeros.\n",
      "  warn('Too few observations to estimate starting parameters%s.'\n"
     ]
    }
   ],
   "source": [
    "from statsmodels.tsa.arima.model import ARIMA\n",
    "\n",
    "# Fit AR(p) models for p = 1 to 10 and store BIC values and fitted results\n",
    "bic_values = {}\n",
    "models = {}\n",
    "for p in range(1, 11):\n",
    "    model = ARIMA(df['log_return'], order=(p, 0, 0))\n",
    "    results = model.fit()\n",
    "    bic_values[p] = results.bic\n",
    "    models[p] = results\n",
    "\n",
    "# Select the model with the minimum BIC\n",
    "best_p = min(bic_values, key=bic_values.get)\n",
    "best_model = models[best_p]\n",
    "\n",
    "print(f\"Best AR model order: AR({best_p}) with BIC: {bic_values[best_p]:.2f}\\n\")\n",
    "print(best_model.summary())\n"
   ]
  }
 ],
 "metadata": {
  "kernelspec": {
   "display_name": "Python 3",
   "language": "python",
   "name": "python3"
  },
  "language_info": {
   "codemirror_mode": {
    "name": "ipython",
    "version": 3
   },
   "file_extension": ".py",
   "mimetype": "text/x-python",
   "name": "python",
   "nbconvert_exporter": "python",
   "pygments_lexer": "ipython3",
   "version": "3.9.6"
  }
 },
 "nbformat": 4,
 "nbformat_minor": 2
}
