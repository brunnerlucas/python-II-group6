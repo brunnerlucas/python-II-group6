{
 "cells": [
  {
   "cell_type": "markdown",
   "metadata": {},
   "source": [
    "## Import Data"
   ]
  },
  {
   "cell_type": "code",
   "execution_count": 137,
   "metadata": {},
   "outputs": [],
   "source": [
    "import os\n",
    "import pandas as pd\n",
    "import numpy as np\n",
    "import matplotlib.pyplot as plt\n",
    "import seaborn as sns\n",
    "from sklearn.preprocessing import StandardScaler\n",
    "from sklearn.model_selection import train_test_split\n",
    "from sklearn.linear_model import LogisticRegression\n",
    "from sklearn.metrics import confusion_matrix, classification_report\n",
    "\n",
    "        "
   ]
  },
  {
   "cell_type": "code",
   "execution_count": 138,
   "metadata": {},
   "outputs": [],
   "source": [
    "INPUT_FOLDER = \"preproc\"\n",
    "OUTPUT_FOLDER = \"enrich\""
   ]
  },
  {
   "cell_type": "code",
   "execution_count": 139,
   "metadata": {},
   "outputs": [
    {
     "name": "stdout",
     "output_type": "stream",
     "text": [
      "<class 'pandas.core.frame.DataFrame'>\n",
      "RangeIndex: 5020 entries, 0 to 5019\n",
      "Data columns (total 10 columns):\n",
      " #   Column                         Non-Null Count  Dtype  \n",
      "---  ------                         --------------  -----  \n",
      " 0   SimFinId                       5020 non-null   int64  \n",
      " 1   Company Name                   5020 non-null   object \n",
      " 2   IndustryId                     5020 non-null   float64\n",
      " 3   ISIN                           5020 non-null   object \n",
      " 4   End of financial year (month)  5020 non-null   float64\n",
      " 5   Number Employees               5020 non-null   float64\n",
      " 6   Business Summary               5020 non-null   object \n",
      " 7   Market                         5020 non-null   object \n",
      " 8   CIK                            5020 non-null   float64\n",
      " 9   Main Currency                  5020 non-null   object \n",
      "dtypes: float64(4), int64(1), object(5)\n",
      "memory usage: 392.3+ KB\n"
     ]
    }
   ],
   "source": [
    "key = \"us_companies\"\n",
    "df_us_companies = pd.read_csv(f\"data/{INPUT_FOLDER}/{key}.csv\")\n",
    "df_us_companies.info(show_counts=True)"
   ]
  },
  {
   "cell_type": "code",
   "execution_count": 140,
   "metadata": {},
   "outputs": [
    {
     "name": "stdout",
     "output_type": "stream",
     "text": [
      "<class 'pandas.core.frame.DataFrame'>\n",
      "RangeIndex: 5815913 entries, 0 to 5815912\n",
      "Data columns (total 11 columns):\n",
      " #   Column              Non-Null Count    Dtype         \n",
      "---  ------              --------------    -----         \n",
      " 0   Ticker              5815913 non-null  object        \n",
      " 1   SimFinId            5815913 non-null  int64         \n",
      " 2   Date                5815913 non-null  datetime64[ns]\n",
      " 3   Open                5815913 non-null  float64       \n",
      " 4   High                5815913 non-null  float64       \n",
      " 5   Low                 5815913 non-null  float64       \n",
      " 6   Close               5815913 non-null  float64       \n",
      " 7   Adj. Close          5815913 non-null  float64       \n",
      " 8   Volume              5815913 non-null  int64         \n",
      " 9   Dividend            5815913 non-null  float64       \n",
      " 10  Shares Outstanding  5815913 non-null  float64       \n",
      "dtypes: datetime64[ns](1), float64(7), int64(2), object(1)\n",
      "memory usage: 488.1+ MB\n"
     ]
    }
   ],
   "source": [
    "key = \"us-shareprices-daily\"\n",
    "df_us_share_price = pd.read_csv(f\"data/{INPUT_FOLDER}/{key}.csv\", parse_dates=[\"Date\"])\n",
    "df_us_share_price.info(show_counts=True)"
   ]
  },
  {
   "cell_type": "code",
   "execution_count": 141,
   "metadata": {},
   "outputs": [
    {
     "data": {
      "text/html": [
       "<div>\n",
       "<style scoped>\n",
       "    .dataframe tbody tr th:only-of-type {\n",
       "        vertical-align: middle;\n",
       "    }\n",
       "\n",
       "    .dataframe tbody tr th {\n",
       "        vertical-align: top;\n",
       "    }\n",
       "\n",
       "    .dataframe thead th {\n",
       "        text-align: right;\n",
       "    }\n",
       "</style>\n",
       "<table border=\"1\" class=\"dataframe\">\n",
       "  <thead>\n",
       "    <tr style=\"text-align: right;\">\n",
       "      <th></th>\n",
       "      <th>Ticker</th>\n",
       "      <th>SimFinId</th>\n",
       "      <th>Date</th>\n",
       "      <th>Open</th>\n",
       "      <th>High</th>\n",
       "      <th>Low</th>\n",
       "      <th>Close</th>\n",
       "      <th>Adj. Close</th>\n",
       "      <th>Volume</th>\n",
       "      <th>Dividend</th>\n",
       "      <th>Shares Outstanding</th>\n",
       "      <th>Company Name</th>\n",
       "      <th>IndustryId</th>\n",
       "      <th>ISIN</th>\n",
       "      <th>End of financial year (month)</th>\n",
       "      <th>Number Employees</th>\n",
       "      <th>Business Summary</th>\n",
       "      <th>Market</th>\n",
       "      <th>CIK</th>\n",
       "      <th>Main Currency</th>\n",
       "    </tr>\n",
       "  </thead>\n",
       "  <tbody>\n",
       "    <tr>\n",
       "      <th>0</th>\n",
       "      <td>A</td>\n",
       "      <td>45846</td>\n",
       "      <td>2019-04-12</td>\n",
       "      <td>81.43</td>\n",
       "      <td>82.06</td>\n",
       "      <td>80.90</td>\n",
       "      <td>80.98</td>\n",
       "      <td>77.77</td>\n",
       "      <td>1249295</td>\n",
       "      <td>0.0</td>\n",
       "      <td>317515869.0</td>\n",
       "      <td>AGILENT TECHNOLOGIES INC</td>\n",
       "      <td>106001.0</td>\n",
       "      <td>US00846U1016</td>\n",
       "      <td>10.0</td>\n",
       "      <td>16400.0</td>\n",
       "      <td>Agilent Technologies Inc is engaged in life sc...</td>\n",
       "      <td>us</td>\n",
       "      <td>1090872.0</td>\n",
       "      <td>USD</td>\n",
       "    </tr>\n",
       "    <tr>\n",
       "      <th>1</th>\n",
       "      <td>A</td>\n",
       "      <td>45846</td>\n",
       "      <td>2019-04-15</td>\n",
       "      <td>81.00</td>\n",
       "      <td>81.13</td>\n",
       "      <td>79.91</td>\n",
       "      <td>80.40</td>\n",
       "      <td>77.22</td>\n",
       "      <td>1627268</td>\n",
       "      <td>0.0</td>\n",
       "      <td>317515869.0</td>\n",
       "      <td>AGILENT TECHNOLOGIES INC</td>\n",
       "      <td>106001.0</td>\n",
       "      <td>US00846U1016</td>\n",
       "      <td>10.0</td>\n",
       "      <td>16400.0</td>\n",
       "      <td>Agilent Technologies Inc is engaged in life sc...</td>\n",
       "      <td>us</td>\n",
       "      <td>1090872.0</td>\n",
       "      <td>USD</td>\n",
       "    </tr>\n",
       "    <tr>\n",
       "      <th>2</th>\n",
       "      <td>A</td>\n",
       "      <td>45846</td>\n",
       "      <td>2019-04-16</td>\n",
       "      <td>80.82</td>\n",
       "      <td>80.96</td>\n",
       "      <td>77.19</td>\n",
       "      <td>77.55</td>\n",
       "      <td>74.48</td>\n",
       "      <td>3441597</td>\n",
       "      <td>0.0</td>\n",
       "      <td>317515869.0</td>\n",
       "      <td>AGILENT TECHNOLOGIES INC</td>\n",
       "      <td>106001.0</td>\n",
       "      <td>US00846U1016</td>\n",
       "      <td>10.0</td>\n",
       "      <td>16400.0</td>\n",
       "      <td>Agilent Technologies Inc is engaged in life sc...</td>\n",
       "      <td>us</td>\n",
       "      <td>1090872.0</td>\n",
       "      <td>USD</td>\n",
       "    </tr>\n",
       "    <tr>\n",
       "      <th>3</th>\n",
       "      <td>A</td>\n",
       "      <td>45846</td>\n",
       "      <td>2019-04-17</td>\n",
       "      <td>78.15</td>\n",
       "      <td>78.32</td>\n",
       "      <td>74.46</td>\n",
       "      <td>75.43</td>\n",
       "      <td>72.44</td>\n",
       "      <td>4471971</td>\n",
       "      <td>0.0</td>\n",
       "      <td>317515869.0</td>\n",
       "      <td>AGILENT TECHNOLOGIES INC</td>\n",
       "      <td>106001.0</td>\n",
       "      <td>US00846U1016</td>\n",
       "      <td>10.0</td>\n",
       "      <td>16400.0</td>\n",
       "      <td>Agilent Technologies Inc is engaged in life sc...</td>\n",
       "      <td>us</td>\n",
       "      <td>1090872.0</td>\n",
       "      <td>USD</td>\n",
       "    </tr>\n",
       "    <tr>\n",
       "      <th>4</th>\n",
       "      <td>A</td>\n",
       "      <td>45846</td>\n",
       "      <td>2019-04-18</td>\n",
       "      <td>75.73</td>\n",
       "      <td>76.54</td>\n",
       "      <td>75.31</td>\n",
       "      <td>76.17</td>\n",
       "      <td>73.16</td>\n",
       "      <td>2874195</td>\n",
       "      <td>0.0</td>\n",
       "      <td>317515869.0</td>\n",
       "      <td>AGILENT TECHNOLOGIES INC</td>\n",
       "      <td>106001.0</td>\n",
       "      <td>US00846U1016</td>\n",
       "      <td>10.0</td>\n",
       "      <td>16400.0</td>\n",
       "      <td>Agilent Technologies Inc is engaged in life sc...</td>\n",
       "      <td>us</td>\n",
       "      <td>1090872.0</td>\n",
       "      <td>USD</td>\n",
       "    </tr>\n",
       "  </tbody>\n",
       "</table>\n",
       "</div>"
      ],
      "text/plain": [
       "  Ticker  SimFinId       Date   Open   High    Low  Close  Adj. Close  \\\n",
       "0      A     45846 2019-04-12  81.43  82.06  80.90  80.98       77.77   \n",
       "1      A     45846 2019-04-15  81.00  81.13  79.91  80.40       77.22   \n",
       "2      A     45846 2019-04-16  80.82  80.96  77.19  77.55       74.48   \n",
       "3      A     45846 2019-04-17  78.15  78.32  74.46  75.43       72.44   \n",
       "4      A     45846 2019-04-18  75.73  76.54  75.31  76.17       73.16   \n",
       "\n",
       "    Volume  Dividend  Shares Outstanding              Company Name  \\\n",
       "0  1249295       0.0         317515869.0  AGILENT TECHNOLOGIES INC   \n",
       "1  1627268       0.0         317515869.0  AGILENT TECHNOLOGIES INC   \n",
       "2  3441597       0.0         317515869.0  AGILENT TECHNOLOGIES INC   \n",
       "3  4471971       0.0         317515869.0  AGILENT TECHNOLOGIES INC   \n",
       "4  2874195       0.0         317515869.0  AGILENT TECHNOLOGIES INC   \n",
       "\n",
       "   IndustryId          ISIN  End of financial year (month)  Number Employees  \\\n",
       "0    106001.0  US00846U1016                           10.0           16400.0   \n",
       "1    106001.0  US00846U1016                           10.0           16400.0   \n",
       "2    106001.0  US00846U1016                           10.0           16400.0   \n",
       "3    106001.0  US00846U1016                           10.0           16400.0   \n",
       "4    106001.0  US00846U1016                           10.0           16400.0   \n",
       "\n",
       "                                    Business Summary Market        CIK  \\\n",
       "0  Agilent Technologies Inc is engaged in life sc...     us  1090872.0   \n",
       "1  Agilent Technologies Inc is engaged in life sc...     us  1090872.0   \n",
       "2  Agilent Technologies Inc is engaged in life sc...     us  1090872.0   \n",
       "3  Agilent Technologies Inc is engaged in life sc...     us  1090872.0   \n",
       "4  Agilent Technologies Inc is engaged in life sc...     us  1090872.0   \n",
       "\n",
       "  Main Currency  \n",
       "0           USD  \n",
       "1           USD  \n",
       "2           USD  \n",
       "3           USD  \n",
       "4           USD  "
      ]
     },
     "execution_count": 141,
     "metadata": {},
     "output_type": "execute_result"
    }
   ],
   "source": [
    "#join df_us_share_price with df_us_companies on SimFinId\n",
    "df = pd.merge(df_us_share_price, df_us_companies, on=\"SimFinId\", how=\"left\")\n",
    "\n",
    "df.head()"
   ]
  },
  {
   "cell_type": "markdown",
   "metadata": {},
   "source": [
    "## New Features\n"
   ]
  },
  {
   "cell_type": "code",
   "execution_count": 142,
   "metadata": {},
   "outputs": [
    {
     "data": {
      "text/plain": [
       "\"# --- Step 1: Clean financial statement data ---\\n# Rename columns to simplify\\nfin_df = fin_df.rename(columns={\\n    'Operating Income (Loss)': 'Operating_Income',\\n    'Net Income': 'Net_Income',\\n    'Operating Expenses': 'Operating_Expenses',\\n    'Depreciation & Amortization': 'Depreciation_Amortization',\\n    'Research & Development': 'R&D',\\n    'Interest Expense, net': 'Interest_Expense',\\n    'Interest Income': 'Interest_Income',\\n    'Abnormal Gains (Losses)': 'Abnormal_Gains_Losses',\\n    'Asset Write-Down': 'Asset_Write_Down',\\n    'Legal Settlement': 'Legal_Settlement'\\n})\\n\\n# --- Step 2: Compute derived ratios ---\\n# Avoid division by zero\\nfin_df['Gross_Margin'] = fin_df['Gross Profit'] / fin_df['Revenue'].replace(0, np.nan)\\nfin_df['Operating_Margin'] = fin_df['Operating_Income'] / fin_df['Revenue'].replace(0, np.nan)\\nfin_df['Net_Margin'] = fin_df['Net_Income'] / fin_df['Revenue'].replace(0, np.nan)\\n\\n# Convert date to datetime\\nfin_df['Report Date'] = pd.to_datetime(fin_df['Report Date'])\\nprice_df['Date'] = pd.to_datetime(price_df['Date'])\\n\\n# --- Step 3: Merge financials with daily data ---\\n# Sort both DataFrames\\nfin_df = fin_df.sort_values(by=['Ticker', 'Report Date'])\\nprice_df = price_df.sort_values(by=['Ticker', 'Date'])\\n\\n# Forward-fill the most recent financial statement to each trading day\\n# (Assumes 1 record per quarter per ticker)\\nmerged_df = pd.merge_asof(\\n    price_df,\\n    fin_df,\\n    by='Ticker',\\n    left_on='Date',\\n    right_on='Report Date',\\n    direction='backward'\\n)\\n\\n# --- Step 4: Create binary flags for abnormal items ---\\nmerged_df['Abnormal_Gain_Flag'] = (merged_df['Abnormal_Gains_Losses'].fillna(0) != 0).astype(int)\\nmerged_df['Write_Down_Flag'] = (merged_df['Asset_Write_Down'].fillna(0) != 0).astype(int)\\nmerged_df['Legal_Settlement_Flag'] = (merged_df['Legal_Settlement'].fillna(0) != 0).astype(int)\\n\\n# --- Step 5: Select final feature columns ---\\nfinal_features = [\\n    'Date', 'Ticker', 'Open', 'High', 'Low', 'Close', 'Volume',\\n    'Revenue', 'Gross Profit', 'Operating_Income', 'Net_Income',\\n    'Operating_Expenses', 'Depreciation_Amortization', 'R&D',\\n    'Interest_Expense', 'Interest_Income',\\n    'Gross_Margin', 'Operating_Margin', 'Net_Margin',\\n    'Abnormal_Gain_Flag', 'Write_Down_Flag', 'Legal_Settlement_Flag'\\n]\\n\\nfinal_df = merged_df[final_features].copy()\""
      ]
     },
     "execution_count": 142,
     "metadata": {},
     "output_type": "execute_result"
    }
   ],
   "source": [
    "\"\"\"# --- Step 1: Clean financial statement data ---\n",
    "# Rename columns to simplify\n",
    "fin_df = fin_df.rename(columns={\n",
    "    'Operating Income (Loss)': 'Operating_Income',\n",
    "    'Net Income': 'Net_Income',\n",
    "    'Operating Expenses': 'Operating_Expenses',\n",
    "    'Depreciation & Amortization': 'Depreciation_Amortization',\n",
    "    'Research & Development': 'R&D',\n",
    "    'Interest Expense, net': 'Interest_Expense',\n",
    "    'Interest Income': 'Interest_Income',\n",
    "    'Abnormal Gains (Losses)': 'Abnormal_Gains_Losses',\n",
    "    'Asset Write-Down': 'Asset_Write_Down',\n",
    "    'Legal Settlement': 'Legal_Settlement'\n",
    "})\n",
    "\n",
    "# --- Step 2: Compute derived ratios ---\n",
    "# Avoid division by zero\n",
    "fin_df['Gross_Margin'] = fin_df['Gross Profit'] / fin_df['Revenue'].replace(0, np.nan)\n",
    "fin_df['Operating_Margin'] = fin_df['Operating_Income'] / fin_df['Revenue'].replace(0, np.nan)\n",
    "fin_df['Net_Margin'] = fin_df['Net_Income'] / fin_df['Revenue'].replace(0, np.nan)\n",
    "\n",
    "# Convert date to datetime\n",
    "fin_df['Report Date'] = pd.to_datetime(fin_df['Report Date'])\n",
    "price_df['Date'] = pd.to_datetime(price_df['Date'])\n",
    "\n",
    "# --- Step 3: Merge financials with daily data ---\n",
    "# Sort both DataFrames\n",
    "fin_df = fin_df.sort_values(by=['Ticker', 'Report Date'])\n",
    "price_df = price_df.sort_values(by=['Ticker', 'Date'])\n",
    "\n",
    "# Forward-fill the most recent financial statement to each trading day\n",
    "# (Assumes 1 record per quarter per ticker)\n",
    "merged_df = pd.merge_asof(\n",
    "    price_df,\n",
    "    fin_df,\n",
    "    by='Ticker',\n",
    "    left_on='Date',\n",
    "    right_on='Report Date',\n",
    "    direction='backward'\n",
    ")\n",
    "\n",
    "# --- Step 4: Create binary flags for abnormal items ---\n",
    "merged_df['Abnormal_Gain_Flag'] = (merged_df['Abnormal_Gains_Losses'].fillna(0) != 0).astype(int)\n",
    "merged_df['Write_Down_Flag'] = (merged_df['Asset_Write_Down'].fillna(0) != 0).astype(int)\n",
    "merged_df['Legal_Settlement_Flag'] = (merged_df['Legal_Settlement'].fillna(0) != 0).astype(int)\n",
    "\n",
    "# --- Step 5: Select final feature columns ---\n",
    "final_features = [\n",
    "    'Date', 'Ticker', 'Open', 'High', 'Low', 'Close', 'Volume',\n",
    "    'Revenue', 'Gross Profit', 'Operating_Income', 'Net_Income',\n",
    "    'Operating_Expenses', 'Depreciation_Amortization', 'R&D',\n",
    "    'Interest_Expense', 'Interest_Income',\n",
    "    'Gross_Margin', 'Operating_Margin', 'Net_Margin',\n",
    "    'Abnormal_Gain_Flag', 'Write_Down_Flag', 'Legal_Settlement_Flag'\n",
    "]\n",
    "\n",
    "final_df = merged_df[final_features].copy()\"\"\""
   ]
  },
  {
   "cell_type": "markdown",
   "metadata": {},
   "source": [
    "## Import Function"
   ]
  },
  {
   "cell_type": "code",
   "execution_count": 143,
   "metadata": {},
   "outputs": [],
   "source": [
    "#function\n",
    "import pandas as pd\n",
    "from sklearn.model_selection import train_test_split\n",
    "import xgboost as xgb\n",
    "from sklearn.metrics import mean_squared_error\n",
    "\n",
    "def train_xgboost_model(data, simfin_id, last_date):\n",
    "    # Filter the DataFrame to get the last 60 days of data\n",
    "    data = data[['SimFinId', 'Date', 'Close']]\n",
    "    data = data.set_index(['SimFinId', 'Date'])\n",
    "    last_date = pd.to_datetime(last_date)\n",
    "    sixty_days_prior = last_date - pd.DateOffset(days=60)\n",
    "    data = data[(data.index.get_level_values('Date') > sixty_days_prior) & (data.index.get_level_values('Date') <= last_date)]\n",
    "\n",
    "    # Rename close to target\n",
    "    data = data.rename(columns={'Close': 'target'})\n",
    "    # Filter the DataFrame based on the provided SimFinId\n",
    "    data_filtered = data[data.index.get_level_values('SimFinId') == simfin_id]\n",
    "    \n",
    "    # Extract useful features from the Date column\n",
    "    data_filtered['year'] = data_filtered.index.get_level_values('Date').year\n",
    "    data_filtered['month'] = data_filtered.index.get_level_values('Date').month\n",
    "    data_filtered['day'] = data_filtered.index.get_level_values('Date').day\n",
    "    data_filtered['dayofweek'] = data_filtered.index.get_level_values('Date').dayofweek\n",
    "    data_filtered['lag1'] = data_filtered['target'].shift(1)\n",
    "    data_filtered['log_return'] = np.log(data_filtered['target'] / data_filtered['target'].shift(1))\n",
    "\n",
    "    # Moving Averages (Trend Indicators)\n",
    "    data_filtered['MA_10'] = data_filtered.groupby('SimFinId')['target'].transform(lambda x: x.rolling(10).mean())\n",
    "    data_filtered['MA_50'] = data_filtered.groupby('SimFinId')['target'].transform(lambda x: x.rolling(50).mean())\n",
    "\n",
    "    # Volatility Indicator\n",
    "    data_filtered['Volatility'] = data_filtered.groupby('SimFinId')['target'].transform(lambda x: x.rolling(10).std())\n",
    "\n",
    "    # Relative Strength Index (Momentum Indicator)\n",
    "    def compute_rsi(series, window=14):\n",
    "        delta = series.diff()\n",
    "        gain = delta.where(delta > 0, 0).rolling(window=window).mean()\n",
    "        loss = -delta.where(delta < 0, 0).rolling(window=window).mean()\n",
    "        rs = gain / (loss + 1e-10)  # Avoid division by zero\n",
    "        return 100 - (100 / (1 + rs))\n",
    "\n",
    "    data_filtered['RSI'] = data_filtered.groupby('SimFinId')['target'].transform(lambda x: compute_rsi(x))\n",
    "\n",
    "    # Bollinger Bands (Market Volatility)\n",
    "    data_filtered['BB_Upper'] = data_filtered['MA_10'] + (2 * data_filtered['Volatility'])\n",
    "    data_filtered['BB_Lower'] = data_filtered['MA_10'] - (2 * data_filtered['Volatility'])\n",
    "\n",
    "    #data_filtered.dropna(inplace=True)\n",
    "\n",
    "\n",
    "\n",
    "\n",
    "    # Prepare the data\n",
    "    X = data_filtered.drop(columns=['target'])\n",
    "    y = data_filtered['target']\n",
    "    \n",
    "    # Split the data into training and testing sets\n",
    "    X_train, X_test, y_train, y_test = train_test_split(X, y, test_size=0.2, random_state=42)\n",
    "    \n",
    "    # Train an XGBoost model\n",
    "    model = xgb.XGBRegressor(objective='reg:squarederror', n_estimators=100, learning_rate=0.1, max_depth=5)\n",
    "    model.fit(X_train, y_train)\n",
    "    \n",
    "    # Make predictions\n",
    "    y_train_pred = model.predict(X_train)\n",
    "    y_test_pred = model.predict(X_test)\n",
    "    \n",
    "    # Evaluate the model\n",
    "    train_mse = mean_squared_error(y_train, y_train_pred)\n",
    "    test_mse = mean_squared_error(y_test, y_test_pred)\n",
    "    \n",
    "    # Predict the next 15 days\n",
    "    future_dates = pd.date_range(start=last_date + pd.DateOffset(days=1), periods=1, freq='B')  # Business days\n",
    "    future_data = pd.DataFrame(index=pd.MultiIndex.from_product([[simfin_id], future_dates], names=['SimFinId', 'Date']))\n",
    "    future_data['year'] = future_data.index.get_level_values('Date').year\n",
    "    future_data['month'] = future_data.index.get_level_values('Date').month\n",
    "    future_data['day'] = future_data.index.get_level_values('Date').day\n",
    "    future_data['dayofweek'] = future_data.index.get_level_values('Date').dayofweek\n",
    "    future_data['lag1'] = data_filtered['target'].iloc[-1]\n",
    "    future_data['log_return'] = data_filtered['log_return'].iloc[-1]\n",
    "    future_data['MA_10'] = data_filtered['MA_10'].iloc[-1]\n",
    "    future_data['MA_50'] = data_filtered['MA_50'].iloc[-1]\n",
    "    future_data['Volatility'] = data_filtered['Volatility'].iloc[-1]\n",
    "    future_data['RSI'] = data_filtered['RSI'].iloc[-1]\n",
    "    future_data['BB_Upper'] = data_filtered['BB_Upper'].iloc[-1]\n",
    "    future_data['BB_Lower'] = data_filtered['BB_Lower'].iloc[-1]\n",
    "\n",
    "    \n",
    "    \n",
    "    future_predictions = model.predict(future_data)\n",
    "    future_predictions_df = pd.DataFrame({'Date': future_dates, 'Predicted_Close': future_predictions})\n",
    "    \n",
    "    return future_predictions_df\n",
    "\n",
    "# Example usage\n",
    "# Assuming 'data' is your DataFrame and 'SimFinId' is part of the index\n",
    "# simfin_id = 59265\n",
    "# date_for_model = pd.to_datetime('2024-03-04')  # Convert string to datetime\n",
    "# model, train_mse, test_mse, future_predictions = train_xgboost_model(data, simfin_id, date_for_model)\n",
    "# print(f\"Train Mean Squared Error: {train_mse}\")\n",
    "# print(f\"Test Mean Squared Error: {test_mse}\")\n",
    "# print(f\"Future Predictions: {future_predictions}\")"
   ]
  },
  {
   "cell_type": "code",
   "execution_count": null,
   "metadata": {},
   "outputs": [],
   "source": []
  },
  {
   "cell_type": "code",
   "execution_count": 144,
   "metadata": {},
   "outputs": [
    {
     "data": {
      "text/plain": [
       "'# Function trading strategy\\ndef trading_strategy (future_predictions_df):\\n    low = prediction_df[\\'Predicted_Close\\'].min()\\n    date_low = prediction_df[\\'Date\\'][prediction_df[\\'Predicted_Close\\'].idxmin()].strftime(\\'%Y-%m-%d\\')\\n    high_after_date_low = prediction_df[prediction_df[\\'Date\\'] > date_low][\\'Predicted_Close\\'].max()\\n    date_high_after_date_low = prediction_df[\\'Date\\'][prediction_df[\\'Predicted_Close\\'] == high_after_date_low].values[0]\\n    date_high_after_date_low = pd.to_datetime(date_high_after_date_low).strftime(\\'%Y-%m-%d\\')\\n    percentual_change = (high_after_date_low - low) / low * 100\\n    days_from_low_to_high = (pd.to_datetime(date_high_after_date_low) - pd.to_datetime(date_low)).days\\n\\n    if low == high_after_date_low or percentual_change < 0 or days_from_low_to_high < 0 or percentual_change < 0.5: \\n        result = \"Don\\'t buy this stock, it\\'s going nowhere!\"\\n    else:\\n        result = f\\'Buy the stock on {date_low} and sell it on {date_high_after_date_low}, earnings up to {percentual_change:.2f}%\\'\\n    return result'"
      ]
     },
     "execution_count": 144,
     "metadata": {},
     "output_type": "execute_result"
    }
   ],
   "source": [
    "\"\"\"# Function trading strategy\n",
    "def trading_strategy (future_predictions_df):\n",
    "    low = prediction_df['Predicted_Close'].min()\n",
    "    date_low = prediction_df['Date'][prediction_df['Predicted_Close'].idxmin()].strftime('%Y-%m-%d')\n",
    "    high_after_date_low = prediction_df[prediction_df['Date'] > date_low]['Predicted_Close'].max()\n",
    "    date_high_after_date_low = prediction_df['Date'][prediction_df['Predicted_Close'] == high_after_date_low].values[0]\n",
    "    date_high_after_date_low = pd.to_datetime(date_high_after_date_low).strftime('%Y-%m-%d')\n",
    "    percentual_change = (high_after_date_low - low) / low * 100\n",
    "    days_from_low_to_high = (pd.to_datetime(date_high_after_date_low) - pd.to_datetime(date_low)).days\n",
    "\n",
    "    if low == high_after_date_low or percentual_change < 0 or days_from_low_to_high < 0 or percentual_change < 0.5: \n",
    "        result = \"Don't buy this stock, it's going nowhere!\"\n",
    "    else:\n",
    "        result = f'Buy the stock on {date_low} and sell it on {date_high_after_date_low}, earnings up to {percentual_change:.2f}%'\n",
    "    return result\"\"\""
   ]
  },
  {
   "cell_type": "markdown",
   "metadata": {},
   "source": [
    "## Test"
   ]
  },
  {
   "cell_type": "code",
   "execution_count": 145,
   "metadata": {},
   "outputs": [
    {
     "name": "stderr",
     "output_type": "stream",
     "text": [
      "/var/folders/0z/4yrpt4m15ps8kzs2ljkgk40r0000gn/T/ipykernel_89028/612834307.py:21: SettingWithCopyWarning: \n",
      "A value is trying to be set on a copy of a slice from a DataFrame.\n",
      "Try using .loc[row_indexer,col_indexer] = value instead\n",
      "\n",
      "See the caveats in the documentation: https://pandas.pydata.org/pandas-docs/stable/user_guide/indexing.html#returning-a-view-versus-a-copy\n",
      "  data_filtered['year'] = data_filtered.index.get_level_values('Date').year\n",
      "/var/folders/0z/4yrpt4m15ps8kzs2ljkgk40r0000gn/T/ipykernel_89028/612834307.py:22: SettingWithCopyWarning: \n",
      "A value is trying to be set on a copy of a slice from a DataFrame.\n",
      "Try using .loc[row_indexer,col_indexer] = value instead\n",
      "\n",
      "See the caveats in the documentation: https://pandas.pydata.org/pandas-docs/stable/user_guide/indexing.html#returning-a-view-versus-a-copy\n",
      "  data_filtered['month'] = data_filtered.index.get_level_values('Date').month\n",
      "/var/folders/0z/4yrpt4m15ps8kzs2ljkgk40r0000gn/T/ipykernel_89028/612834307.py:23: SettingWithCopyWarning: \n",
      "A value is trying to be set on a copy of a slice from a DataFrame.\n",
      "Try using .loc[row_indexer,col_indexer] = value instead\n",
      "\n",
      "See the caveats in the documentation: https://pandas.pydata.org/pandas-docs/stable/user_guide/indexing.html#returning-a-view-versus-a-copy\n",
      "  data_filtered['day'] = data_filtered.index.get_level_values('Date').day\n",
      "/var/folders/0z/4yrpt4m15ps8kzs2ljkgk40r0000gn/T/ipykernel_89028/612834307.py:24: SettingWithCopyWarning: \n",
      "A value is trying to be set on a copy of a slice from a DataFrame.\n",
      "Try using .loc[row_indexer,col_indexer] = value instead\n",
      "\n",
      "See the caveats in the documentation: https://pandas.pydata.org/pandas-docs/stable/user_guide/indexing.html#returning-a-view-versus-a-copy\n",
      "  data_filtered['dayofweek'] = data_filtered.index.get_level_values('Date').dayofweek\n",
      "/var/folders/0z/4yrpt4m15ps8kzs2ljkgk40r0000gn/T/ipykernel_89028/612834307.py:25: SettingWithCopyWarning: \n",
      "A value is trying to be set on a copy of a slice from a DataFrame.\n",
      "Try using .loc[row_indexer,col_indexer] = value instead\n",
      "\n",
      "See the caveats in the documentation: https://pandas.pydata.org/pandas-docs/stable/user_guide/indexing.html#returning-a-view-versus-a-copy\n",
      "  data_filtered['lag1'] = data_filtered['target'].shift(1)\n",
      "/var/folders/0z/4yrpt4m15ps8kzs2ljkgk40r0000gn/T/ipykernel_89028/612834307.py:26: SettingWithCopyWarning: \n",
      "A value is trying to be set on a copy of a slice from a DataFrame.\n",
      "Try using .loc[row_indexer,col_indexer] = value instead\n",
      "\n",
      "See the caveats in the documentation: https://pandas.pydata.org/pandas-docs/stable/user_guide/indexing.html#returning-a-view-versus-a-copy\n",
      "  data_filtered['log_return'] = np.log(data_filtered['target'] / data_filtered['target'].shift(1))\n",
      "/var/folders/0z/4yrpt4m15ps8kzs2ljkgk40r0000gn/T/ipykernel_89028/612834307.py:29: SettingWithCopyWarning: \n",
      "A value is trying to be set on a copy of a slice from a DataFrame.\n",
      "Try using .loc[row_indexer,col_indexer] = value instead\n",
      "\n",
      "See the caveats in the documentation: https://pandas.pydata.org/pandas-docs/stable/user_guide/indexing.html#returning-a-view-versus-a-copy\n",
      "  data_filtered['MA_10'] = data_filtered.groupby('SimFinId')['target'].transform(lambda x: x.rolling(10).mean())\n",
      "/var/folders/0z/4yrpt4m15ps8kzs2ljkgk40r0000gn/T/ipykernel_89028/612834307.py:30: SettingWithCopyWarning: \n",
      "A value is trying to be set on a copy of a slice from a DataFrame.\n",
      "Try using .loc[row_indexer,col_indexer] = value instead\n",
      "\n",
      "See the caveats in the documentation: https://pandas.pydata.org/pandas-docs/stable/user_guide/indexing.html#returning-a-view-versus-a-copy\n",
      "  data_filtered['MA_50'] = data_filtered.groupby('SimFinId')['target'].transform(lambda x: x.rolling(50).mean())\n",
      "/var/folders/0z/4yrpt4m15ps8kzs2ljkgk40r0000gn/T/ipykernel_89028/612834307.py:33: SettingWithCopyWarning: \n",
      "A value is trying to be set on a copy of a slice from a DataFrame.\n",
      "Try using .loc[row_indexer,col_indexer] = value instead\n",
      "\n",
      "See the caveats in the documentation: https://pandas.pydata.org/pandas-docs/stable/user_guide/indexing.html#returning-a-view-versus-a-copy\n",
      "  data_filtered['Volatility'] = data_filtered.groupby('SimFinId')['target'].transform(lambda x: x.rolling(10).std())\n",
      "/var/folders/0z/4yrpt4m15ps8kzs2ljkgk40r0000gn/T/ipykernel_89028/612834307.py:43: SettingWithCopyWarning: \n",
      "A value is trying to be set on a copy of a slice from a DataFrame.\n",
      "Try using .loc[row_indexer,col_indexer] = value instead\n",
      "\n",
      "See the caveats in the documentation: https://pandas.pydata.org/pandas-docs/stable/user_guide/indexing.html#returning-a-view-versus-a-copy\n",
      "  data_filtered['RSI'] = data_filtered.groupby('SimFinId')['target'].transform(lambda x: compute_rsi(x))\n",
      "/var/folders/0z/4yrpt4m15ps8kzs2ljkgk40r0000gn/T/ipykernel_89028/612834307.py:46: SettingWithCopyWarning: \n",
      "A value is trying to be set on a copy of a slice from a DataFrame.\n",
      "Try using .loc[row_indexer,col_indexer] = value instead\n",
      "\n",
      "See the caveats in the documentation: https://pandas.pydata.org/pandas-docs/stable/user_guide/indexing.html#returning-a-view-versus-a-copy\n",
      "  data_filtered['BB_Upper'] = data_filtered['MA_10'] + (2 * data_filtered['Volatility'])\n",
      "/var/folders/0z/4yrpt4m15ps8kzs2ljkgk40r0000gn/T/ipykernel_89028/612834307.py:47: SettingWithCopyWarning: \n",
      "A value is trying to be set on a copy of a slice from a DataFrame.\n",
      "Try using .loc[row_indexer,col_indexer] = value instead\n",
      "\n",
      "See the caveats in the documentation: https://pandas.pydata.org/pandas-docs/stable/user_guide/indexing.html#returning-a-view-versus-a-copy\n",
      "  data_filtered['BB_Lower'] = data_filtered['MA_10'] - (2 * data_filtered['Volatility'])\n"
     ]
    },
    {
     "data": {
      "text/html": [
       "<div>\n",
       "<style scoped>\n",
       "    .dataframe tbody tr th:only-of-type {\n",
       "        vertical-align: middle;\n",
       "    }\n",
       "\n",
       "    .dataframe tbody tr th {\n",
       "        vertical-align: top;\n",
       "    }\n",
       "\n",
       "    .dataframe thead th {\n",
       "        text-align: right;\n",
       "    }\n",
       "</style>\n",
       "<table border=\"1\" class=\"dataframe\">\n",
       "  <thead>\n",
       "    <tr style=\"text-align: right;\">\n",
       "      <th></th>\n",
       "      <th>Date</th>\n",
       "      <th>Predicted_Close</th>\n",
       "    </tr>\n",
       "  </thead>\n",
       "  <tbody>\n",
       "    <tr>\n",
       "      <th>0</th>\n",
       "      <td>2024-02-05</td>\n",
       "      <td>411.098694</td>\n",
       "    </tr>\n",
       "  </tbody>\n",
       "</table>\n",
       "</div>"
      ],
      "text/plain": [
       "        Date  Predicted_Close\n",
       "0 2024-02-05       411.098694"
      ]
     },
     "execution_count": 145,
     "metadata": {},
     "output_type": "execute_result"
    }
   ],
   "source": [
    "prediction_df = train_xgboost_model(df, 59265, '2024-02-04')\n",
    "prediction_df"
   ]
  },
  {
   "cell_type": "code",
   "execution_count": 146,
   "metadata": {},
   "outputs": [],
   "source": [
    "#trading_strategy(prediction_df)"
   ]
  },
  {
   "cell_type": "code",
   "execution_count": 147,
   "metadata": {},
   "outputs": [
    {
     "data": {
      "text/html": [
       "<div>\n",
       "<style scoped>\n",
       "    .dataframe tbody tr th:only-of-type {\n",
       "        vertical-align: middle;\n",
       "    }\n",
       "\n",
       "    .dataframe tbody tr th {\n",
       "        vertical-align: top;\n",
       "    }\n",
       "\n",
       "    .dataframe thead th {\n",
       "        text-align: right;\n",
       "    }\n",
       "</style>\n",
       "<table border=\"1\" class=\"dataframe\">\n",
       "  <thead>\n",
       "    <tr style=\"text-align: right;\">\n",
       "      <th></th>\n",
       "      <th>Date</th>\n",
       "      <th>Close</th>\n",
       "    </tr>\n",
       "  </thead>\n",
       "  <tbody>\n",
       "    <tr>\n",
       "      <th>0</th>\n",
       "      <td>2024-02-05</td>\n",
       "      <td>405.65</td>\n",
       "    </tr>\n",
       "    <tr>\n",
       "      <th>1</th>\n",
       "      <td>2024-02-06</td>\n",
       "      <td>405.49</td>\n",
       "    </tr>\n",
       "  </tbody>\n",
       "</table>\n",
       "</div>"
      ],
      "text/plain": [
       "        Date   Close\n",
       "0 2024-02-05  405.65\n",
       "1 2024-02-06  405.49"
      ]
     },
     "execution_count": 147,
     "metadata": {},
     "output_type": "execute_result"
    }
   ],
   "source": [
    "real_data = df[df['SimFinId'] == 59265]\n",
    "real_data = real_data[(real_data['Date'] > '2024-02-04') & (real_data['Date'] <= pd.to_datetime('2024-02-05') + pd.DateOffset(days=1))]\n",
    "real_data = real_data.reset_index(drop=True)\n",
    "real_data = real_data[['Date', 'Close']]\n",
    "\n",
    "real_data\n"
   ]
  },
  {
   "cell_type": "code",
   "execution_count": 148,
   "metadata": {},
   "outputs": [
    {
     "data": {
      "image/png": "[encoded data removed]",
      "text/plain": [
       "<Figure size 1000x600 with 1 Axes>"
      ]
     },
     "metadata": {},
     "output_type": "display_data"
    }
   ],
   "source": [
    "predictions_df = pd.merge(prediction_df, real_data, on='Date')\n",
    "\n",
    "plt.figure(figsize=(10, 6))\n",
    "plt.plot(predictions_df['Date'], predictions_df['Predicted_Close'], marker='o', linestyle='-', color='b', label='Predicted Close')\n",
    "plt.plot(predictions_df['Date'], predictions_df['Close'], marker='x', linestyle='-', color='r', label='Real Close')\n",
    "plt.title('Predicted vs Real Close Prices')\n",
    "plt.xlabel('Date')\n",
    "plt.ylabel('Close Price')\n",
    "plt.legend()\n",
    "plt.grid(True)\n",
    "plt.xticks(rotation=45)\n",
    "plt.tight_layout()\n",
    "plt.show()"
   ]
  },
  {
   "cell_type": "code",
   "execution_count": 149,
   "metadata": {},
   "outputs": [
    {
     "data": {
      "text/html": [
       "<div>\n",
       "<style scoped>\n",
       "    .dataframe tbody tr th:only-of-type {\n",
       "        vertical-align: middle;\n",
       "    }\n",
       "\n",
       "    .dataframe tbody tr th {\n",
       "        vertical-align: top;\n",
       "    }\n",
       "\n",
       "    .dataframe thead th {\n",
       "        text-align: right;\n",
       "    }\n",
       "</style>\n",
       "<table border=\"1\" class=\"dataframe\">\n",
       "  <thead>\n",
       "    <tr style=\"text-align: right;\">\n",
       "      <th></th>\n",
       "      <th>Date</th>\n",
       "      <th>Predicted_Close</th>\n",
       "      <th>Close</th>\n",
       "    </tr>\n",
       "  </thead>\n",
       "  <tbody>\n",
       "    <tr>\n",
       "      <th>0</th>\n",
       "      <td>2024-02-05</td>\n",
       "      <td>411.098694</td>\n",
       "      <td>405.65</td>\n",
       "    </tr>\n",
       "  </tbody>\n",
       "</table>\n",
       "</div>"
      ],
      "text/plain": [
       "        Date  Predicted_Close   Close\n",
       "0 2024-02-05       411.098694  405.65"
      ]
     },
     "execution_count": 149,
     "metadata": {},
     "output_type": "execute_result"
    }
   ],
   "source": [
    "predictions_df"
   ]
  },
  {
   "cell_type": "code",
   "execution_count": 150,
   "metadata": {},
   "outputs": [
    {
     "name": "stdout",
     "output_type": "stream",
     "text": [
      "Mean Absolute Error (MAE): 5.448693847656273\n",
      "Mean Squared Error (MSE): 29.68826464548732\n",
      "R² Score: nan\n"
     ]
    },
    {
     "name": "stderr",
     "output_type": "stream",
     "text": [
      "/Users/pablocamacho/Library/Python/3.9/lib/python/site-packages/sklearn/metrics/_regression.py:1266: UndefinedMetricWarning: R^2 score is not well-defined with less than two samples.\n",
      "  warnings.warn(msg, UndefinedMetricWarning)\n"
     ]
    }
   ],
   "source": [
    "import pandas as pd\n",
    "from sklearn.metrics import mean_absolute_error, mean_squared_error, r2_score\n",
    "\n",
    "# Assuming predictions_df is your DataFrame with 'Predicted_Close' and 'Close' columns\n",
    "\n",
    "# Calculate Mean Absolute Error (MAE)\n",
    "mae = mean_absolute_error(predictions_df['Close'], predictions_df['Predicted_Close'])\n",
    "print(f\"Mean Absolute Error (MAE): {mae}\")\n",
    "\n",
    "# Calculate Mean Squared Error (MSE)\n",
    "mse = mean_squared_error(predictions_df['Close'], predictions_df['Predicted_Close'])\n",
    "print(f\"Mean Squared Error (MSE): {mse}\")\n",
    "\n",
    "# Calculate R² Score\n",
    "r2 = r2_score(predictions_df['Close'], predictions_df['Predicted_Close'])\n",
    "print(f\"R² Score: {r2}\")"
   ]
  },
  {
   "cell_type": "markdown",
   "metadata": {},
   "source": [
    "## SARIMA\n"
   ]
  },
  {
   "cell_type": "code",
   "execution_count": 151,
   "metadata": {},
   "outputs": [
    {
     "data": {
      "text/plain": [
       "\"import statsmodels.api as sm\\nfrom statsmodels.tsa.statespace.sarimax import SARIMAX\\n\\n# Filter the dataframe for SimFinId = 59265\\ndf_filtered = df[df['SimFinId'] == 59265]\\n\\n# Ensure the dataframe is sorted by date\\ndf_filtered = df_filtered.sort_values(by='Date')\\n\\n# Set the date column as the index\\ndf_filtered.set_index('Date', inplace=True)\\n\\n# Split the data into training and testing sets\\ntrain_data = df_filtered[:'2024-01-03']\\ntest_data = df_filtered['2024-01-04':]\\n\\n# Fit the SARIMA model\\nsarima_model = SARIMAX(train_data['Close'], order=(1, 1, 1), seasonal_order=(1, 1, 1, 12))\\nsarima_result = sarima_model.fit()\\n\\n# Make predictions\\npredictions = sarima_result.get_forecast(steps=len(test_data))\\npredicted_mean = predictions.predicted_mean\\n\\n# Create a dataframe for the predictions\\nprediction_df_sarima = pd.DataFrame(predicted_mean, columns=['predicted_value'])\\n\\n# Display the predictions\\nprediction_df_sarima\\n\""
      ]
     },
     "execution_count": 151,
     "metadata": {},
     "output_type": "execute_result"
    }
   ],
   "source": [
    "\"\"\"import statsmodels.api as sm\n",
    "from statsmodels.tsa.statespace.sarimax import SARIMAX\n",
    "\n",
    "# Filter the dataframe for SimFinId = 59265\n",
    "df_filtered = df[df['SimFinId'] == 59265]\n",
    "\n",
    "# Ensure the dataframe is sorted by date\n",
    "df_filtered = df_filtered.sort_values(by='Date')\n",
    "\n",
    "# Set the date column as the index\n",
    "df_filtered.set_index('Date', inplace=True)\n",
    "\n",
    "# Split the data into training and testing sets\n",
    "train_data = df_filtered[:'2024-01-03']\n",
    "test_data = df_filtered['2024-01-04':]\n",
    "\n",
    "# Fit the SARIMA model\n",
    "sarima_model = SARIMAX(train_data['Close'], order=(1, 1, 1), seasonal_order=(1, 1, 1, 12))\n",
    "sarima_result = sarima_model.fit()\n",
    "\n",
    "# Make predictions\n",
    "predictions = sarima_result.get_forecast(steps=len(test_data))\n",
    "predicted_mean = predictions.predicted_mean\n",
    "\n",
    "# Create a dataframe for the predictions\n",
    "prediction_df_sarima = pd.DataFrame(predicted_mean, columns=['predicted_value'])\n",
    "\n",
    "# Display the predictions\n",
    "prediction_df_sarima\n",
    "\"\"\""
   ]
  },
  {
   "cell_type": "code",
   "execution_count": 152,
   "metadata": {},
   "outputs": [],
   "source": [
    "#help"
   ]
  },
  {
   "cell_type": "markdown",
   "metadata": {},
   "source": [
    "## ARIMA"
   ]
  },
  {
   "cell_type": "code",
   "execution_count": 153,
   "metadata": {},
   "outputs": [],
   "source": [
    "#df['log_return'] = np.log(df['Close'] / df['Close'].shift(1))"
   ]
  },
  {
   "cell_type": "code",
   "execution_count": 154,
   "metadata": {},
   "outputs": [
    {
     "data": {
      "text/plain": [
       "'from statsmodels.tsa.arima.model import ARIMA\\n\\n# Fit AR(p) models for p = 1 to 10 and store BIC values and fitted results\\nbic_values = {}\\nmodels = {}\\nfor p in range(1, 11):\\n    model = ARIMA(df[\\'log_return\\'], order=(p, 0, 0))\\n    results = model.fit()\\n    bic_values[p] = results.bic\\n    models[p] = results\\n\\n# Select the model with the minimum BIC\\nbest_p = min(bic_values, key=bic_values.get)\\nbest_model = models[best_p]\\n\\nprint(f\"Best AR model order: AR({best_p}) with BIC: {bic_values[best_p]:.2f}\\n\")\\nprint(best_model.summary())\\n'"
      ]
     },
     "execution_count": 154,
     "metadata": {},
     "output_type": "execute_result"
    }
   ],
   "source": [
    "\"\"\"from statsmodels.tsa.arima.model import ARIMA\n",
    "\n",
    "# Fit AR(p) models for p = 1 to 10 and store BIC values and fitted results\n",
    "bic_values = {}\n",
    "models = {}\n",
    "for p in range(1, 11):\n",
    "    model = ARIMA(df['log_return'], order=(p, 0, 0))\n",
    "    results = model.fit()\n",
    "    bic_values[p] = results.bic\n",
    "    models[p] = results\n",
    "\n",
    "# Select the model with the minimum BIC\n",
    "best_p = min(bic_values, key=bic_values.get)\n",
    "best_model = models[best_p]\n",
    "\n",
    "print(f\"Best AR model order: AR({best_p}) with BIC: {bic_values[best_p]:.2f}\\n\")\n",
    "print(best_model.summary())\n",
    "\"\"\""
   ]
  }
 ],
 "metadata": {
  "kernelspec": {
   "display_name": "Python 3",
   "language": "python",
   "name": "python3"
  },
  "language_info": {
   "codemirror_mode": {
    "name": "ipython",
    "version": 3
   },
   "file_extension": ".py",
   "mimetype": "text/x-python",
   "name": "python",
   "nbconvert_exporter": "python",
   "pygments_lexer": "ipython3",
   "version": "3.9.6"
  }
 },
 "nbformat": 4,
 "nbformat_minor": 2
}
