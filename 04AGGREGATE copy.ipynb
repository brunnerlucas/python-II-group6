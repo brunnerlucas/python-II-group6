{
 "cells": [
  {
   "cell_type": "code",
   "execution_count": 96,
   "id": "0415cc56-035e-4517-a132-c95feeff8ddf",
   "metadata": {},
   "outputs": [],
   "source": [
    "import os\n",
    "import numpy as np\n",
    "import pandas as pd\n",
    "\n"
   ]
  },
  {
   "cell_type": "code",
   "execution_count": null,
   "id": "27c4ec4d",
   "metadata": {},
   "outputs": [],
   "source": []
  },
  {
   "cell_type": "code",
   "execution_count": 97,
   "id": "bf40ae47",
   "metadata": {},
   "outputs": [],
   "source": [
    "INPUT_FOLDER = \"enrich\"\n",
    "OUTPUT_FOLDER = \"\""
   ]
  },
  {
   "cell_type": "code",
   "execution_count": 98,
   "id": "6ee4e156",
   "metadata": {},
   "outputs": [
    {
     "name": "stdout",
     "output_type": "stream",
     "text": [
      "<class 'pandas.core.frame.DataFrame'>\n",
      "RangeIndex: 5380108 entries, 0 to 5380107\n",
      "Data columns (total 11 columns):\n",
      " #   Column        Non-Null Count    Dtype  \n",
      "---  ------        --------------    -----  \n",
      " 0   Date          5380108 non-null  object \n",
      " 1   Industry      5380108 non-null  object \n",
      " 2   Sector        5380108 non-null  object \n",
      " 3   Ticker        5380108 non-null  object \n",
      " 4   Open          5380108 non-null  float64\n",
      " 5   High          5380108 non-null  float64\n",
      " 6   Low           5380108 non-null  float64\n",
      " 7   Close         5380108 non-null  float64\n",
      " 8   Volume        5380108 non-null  int64  \n",
      " 9   Dividend      5380108 non-null  float64\n",
      " 10  Company Name  5380108 non-null  object \n",
      "dtypes: float64(5), int64(1), object(5)\n",
      "memory usage: 451.5+ MB\n"
     ]
    }
   ],
   "source": [
    "key = \"us_shareproce_joined_companies\"\n",
    "\n",
    "data = pd.read_csv(f\"data/{INPUT_FOLDER}/{key}.csv\")\n",
    "data.info(show_counts=True)\n",
    "data['Date'] = pd.to_datetime(data['Date'])\n",
    "\n",
    "data.set_index('Date', inplace=True)  # Set Date as the index\n"
   ]
  },
  {
   "cell_type": "code",
   "execution_count": 99,
   "id": "65e44359",
   "metadata": {},
   "outputs": [
    {
     "data": {
      "text/html": [
       "<div>\n",
       "<style scoped>\n",
       "    .dataframe tbody tr th:only-of-type {\n",
       "        vertical-align: middle;\n",
       "    }\n",
       "\n",
       "    .dataframe tbody tr th {\n",
       "        vertical-align: top;\n",
       "    }\n",
       "\n",
       "    .dataframe thead th {\n",
       "        text-align: right;\n",
       "    }\n",
       "</style>\n",
       "<table border=\"1\" class=\"dataframe\">\n",
       "  <thead>\n",
       "    <tr style=\"text-align: right;\">\n",
       "      <th></th>\n",
       "      <th>Industry</th>\n",
       "      <th>Sector</th>\n",
       "      <th>Ticker</th>\n",
       "      <th>Open</th>\n",
       "      <th>High</th>\n",
       "      <th>Low</th>\n",
       "      <th>Close</th>\n",
       "      <th>Volume</th>\n",
       "      <th>Dividend</th>\n",
       "      <th>Company Name</th>\n",
       "    </tr>\n",
       "    <tr>\n",
       "      <th>Date</th>\n",
       "      <th></th>\n",
       "      <th></th>\n",
       "      <th></th>\n",
       "      <th></th>\n",
       "      <th></th>\n",
       "      <th></th>\n",
       "      <th></th>\n",
       "      <th></th>\n",
       "      <th></th>\n",
       "      <th></th>\n",
       "    </tr>\n",
       "  </thead>\n",
       "  <tbody>\n",
       "    <tr>\n",
       "      <th>2019-04-11</th>\n",
       "      <td>Industrial Products</td>\n",
       "      <td>Industrials</td>\n",
       "      <td>AAON</td>\n",
       "      <td>29.90</td>\n",
       "      <td>30.27</td>\n",
       "      <td>29.75</td>\n",
       "      <td>30.08</td>\n",
       "      <td>164812</td>\n",
       "      <td>0.0</td>\n",
       "      <td>AAON INC</td>\n",
       "    </tr>\n",
       "    <tr>\n",
       "      <th>2019-04-11</th>\n",
       "      <td>REITs</td>\n",
       "      <td>Real Estate</td>\n",
       "      <td>ESRT</td>\n",
       "      <td>15.89</td>\n",
       "      <td>15.94</td>\n",
       "      <td>15.74</td>\n",
       "      <td>15.83</td>\n",
       "      <td>354551</td>\n",
       "      <td>0.0</td>\n",
       "      <td>Empire State Realty Trust, Inc.</td>\n",
       "    </tr>\n",
       "    <tr>\n",
       "      <th>2019-04-11</th>\n",
       "      <td>Banks</td>\n",
       "      <td>Financial Services</td>\n",
       "      <td>HWC</td>\n",
       "      <td>42.81</td>\n",
       "      <td>43.09</td>\n",
       "      <td>42.24</td>\n",
       "      <td>42.59</td>\n",
       "      <td>337095</td>\n",
       "      <td>0.0</td>\n",
       "      <td>HANCOCK WHITNEY CORP</td>\n",
       "    </tr>\n",
       "    <tr>\n",
       "      <th>2019-04-11</th>\n",
       "      <td>Banks</td>\n",
       "      <td>Financial Services</td>\n",
       "      <td>IBCP</td>\n",
       "      <td>22.15</td>\n",
       "      <td>22.34</td>\n",
       "      <td>22.05</td>\n",
       "      <td>22.09</td>\n",
       "      <td>45879</td>\n",
       "      <td>0.0</td>\n",
       "      <td>Independent Bank Corporation</td>\n",
       "    </tr>\n",
       "    <tr>\n",
       "      <th>2019-04-11</th>\n",
       "      <td>Banks</td>\n",
       "      <td>Financial Services</td>\n",
       "      <td>IBN</td>\n",
       "      <td>11.25</td>\n",
       "      <td>11.25</td>\n",
       "      <td>11.16</td>\n",
       "      <td>11.19</td>\n",
       "      <td>3291052</td>\n",
       "      <td>0.0</td>\n",
       "      <td>ICICI Bank Limited</td>\n",
       "    </tr>\n",
       "  </tbody>\n",
       "</table>\n",
       "</div>"
      ],
      "text/plain": [
       "                       Industry              Sector Ticker   Open   High  \\\n",
       "Date                                                                       \n",
       "2019-04-11  Industrial Products         Industrials   AAON  29.90  30.27   \n",
       "2019-04-11                REITs         Real Estate   ESRT  15.89  15.94   \n",
       "2019-04-11                Banks  Financial Services    HWC  42.81  43.09   \n",
       "2019-04-11                Banks  Financial Services   IBCP  22.15  22.34   \n",
       "2019-04-11                Banks  Financial Services    IBN  11.25  11.25   \n",
       "\n",
       "              Low  Close   Volume  Dividend                     Company Name  \n",
       "Date                                                                          \n",
       "2019-04-11  29.75  30.08   164812       0.0                         AAON INC  \n",
       "2019-04-11  15.74  15.83   354551       0.0  Empire State Realty Trust, Inc.  \n",
       "2019-04-11  42.24  42.59   337095       0.0             HANCOCK WHITNEY CORP  \n",
       "2019-04-11  22.05  22.09    45879       0.0     Independent Bank Corporation  \n",
       "2019-04-11  11.16  11.19  3291052       0.0               ICICI Bank Limited  "
      ]
     },
     "execution_count": 99,
     "metadata": {},
     "output_type": "execute_result"
    }
   ],
   "source": [
    "data.head()"
   ]
  },
  {
   "cell_type": "code",
   "execution_count": 100,
   "id": "782526ad",
   "metadata": {},
   "outputs": [
    {
     "data": {
      "text/plain": [
       "array(['Industrials', 'Real Estate', 'Financial Services', 'Technology',\n",
       "       'Basic Materials', 'Utilities', 'Business Services', 'Energy',\n",
       "       'Healthcare', 'Consumer Defensive', 'Consumer Cyclical', 'Other'],\n",
       "      dtype=object)"
      ]
     },
     "execution_count": 100,
     "metadata": {},
     "output_type": "execute_result"
    }
   ],
   "source": [
    "data['Sector'].unique()"
   ]
  },
  {
   "cell_type": "code",
   "execution_count": 101,
   "id": "f1828111",
   "metadata": {},
   "outputs": [],
   "source": [
    "data=data[data['Sector']=='Technology']"
   ]
  },
  {
   "cell_type": "code",
   "execution_count": 102,
   "id": "f2ef5dbf",
   "metadata": {},
   "outputs": [],
   "source": [
    "data=data[data['Volume']>100000000]"
   ]
  },
  {
   "cell_type": "code",
   "execution_count": 103,
   "id": "1b155498",
   "metadata": {},
   "outputs": [
    {
     "data": {
      "text/plain": [
       "array(['NVDA', 'AAPL', 'QCOM', 'TWTR', 'SNAP', 'GOOG', 'AMD', 'AVGO',\n",
       "       'MU', 'CSCO', 'WHEN', 'DPLS', 'HMNY', 'NOK', 'ANET', 'MVIS',\n",
       "       'HYSR', 'INTC', 'SCKT', 'PINS', 'ADT', 'SUNW', 'PLTR', 'PPSI',\n",
       "       'AITX', 'BB', 'DDD', 'BSQR', 'SPRT', 'NUAN', 'LEDS', 'BLIN',\n",
       "       'TROO', 'AEHR', 'ZNGA', 'RCAT', 'PALT', 'ATVI', 'META', 'CASA',\n",
       "       'RBLX', 'AVYA', 'BEAT', 'AI', 'SQ', 'PANW', 'SMCI', 'MARK', 'SOUN',\n",
       "       'AXTI'], dtype=object)"
      ]
     },
     "execution_count": 103,
     "metadata": {},
     "output_type": "execute_result"
    }
   ],
   "source": [
    "len(data['Ticker'].unique())\n",
    "data['Ticker'].unique()"
   ]
  },
  {
   "cell_type": "code",
   "execution_count": 104,
   "id": "a8fdb2a7",
   "metadata": {},
   "outputs": [],
   "source": [
    "selected_tickers = ['NVDA', 'BB', 'SNAP', 'HYSR', 'AMD', 'META']\n",
    "data_filtered = data[data['Ticker'].isin(selected_tickers)]\n"
   ]
  },
  {
   "cell_type": "code",
   "execution_count": 105,
   "id": "3c1027b1",
   "metadata": {},
   "outputs": [],
   "source": [
    "#data_filtered[data_filtered.index>\"2024.01.01\"]"
   ]
  },
  {
   "cell_type": "code",
   "execution_count": 106,
   "id": "d89059ea",
   "metadata": {},
   "outputs": [
    {
     "name": "stdout",
     "output_type": "stream",
     "text": [
      "Target\n",
      "0    0.489056\n",
      "1    0.287278\n",
      "2    0.223666\n",
      "Name: proportion, dtype: float64\n"
     ]
    }
   ],
   "source": [
    "# Ensure data is sorted by date\n",
    "data_filtered = data_filtered.sort_values(by=['Ticker', 'Date'])\n",
    "\n",
    "# Create binary target: 1 if next day's Close is higher, else 0\n",
    "data_filtered['Target'] = 0  # Default: Hold\n",
    "data_filtered.loc[data_filtered['Close'].shift(-1) > data_filtered['Close'] * 1.02, 'Target'] = 1  # Buy if price up >2%\n",
    "data_filtered.loc[data_filtered['Close'].shift(-1) < data_filtered['Close'] * 0.98, 'Target'] = 2  # Sell if price down >2%\n",
    "\n",
    "data_filtered.dropna(inplace=True)\n",
    "\n",
    "# Drop NaN values created by shift\n",
    "data_filtered.dropna(inplace=True)\n",
    "print(data_filtered['Target'].value_counts(normalize=True))\n"
   ]
  },
  {
   "cell_type": "code",
   "execution_count": 107,
   "id": "1f7b1015",
   "metadata": {},
   "outputs": [],
   "source": [
    "# Moving Averages (Trend Indicators)\n",
    "data_filtered['MA_10'] = data_filtered.groupby('Ticker')['Close'].transform(lambda x: x.rolling(10).mean())\n",
    "data_filtered['MA_50'] = data_filtered.groupby('Ticker')['Close'].transform(lambda x: x.rolling(50).mean())\n",
    "\n",
    "# Volatility Indicator\n",
    "data_filtered['Volatility'] = data_filtered.groupby('Ticker')['Close'].transform(lambda x: x.rolling(10).std())\n",
    "\n",
    "# Relative Strength Index (Momentum Indicator)\n",
    "def compute_rsi(series, window=14):\n",
    "    delta = series.diff()\n",
    "    gain = delta.where(delta > 0, 0).rolling(window=window).mean()\n",
    "    loss = -delta.where(delta < 0, 0).rolling(window=window).mean()\n",
    "    rs = gain / (loss + 1e-10)  # Avoid division by zero\n",
    "    return 100 - (100 / (1 + rs))\n",
    "\n",
    "data_filtered['RSI'] = data_filtered.groupby('Ticker')['Close'].transform(lambda x: compute_rsi(x))\n",
    "\n",
    "# Bollinger Bands (Market Volatility)\n",
    "data_filtered['BB_Upper'] = data_filtered['MA_10'] + (2 * data_filtered['Volatility'])\n",
    "data_filtered['BB_Lower'] = data_filtered['MA_10'] - (2 * data_filtered['Volatility'])\n",
    "\n",
    "data_filtered.dropna(inplace=True)\n"
   ]
  },
  {
   "cell_type": "code",
   "execution_count": null,
   "id": "7ccf172c",
   "metadata": {},
   "outputs": [],
   "source": []
  },
  {
   "cell_type": "markdown",
   "id": "11fa470d",
   "metadata": {},
   "source": [
    "NVIDIA Boosting"
   ]
  },
  {
   "cell_type": "code",
   "execution_count": 108,
   "id": "78ea9800",
   "metadata": {},
   "outputs": [
    {
     "name": "stdout",
     "output_type": "stream",
     "text": [
      "Fitting 3 folds for each of 27 candidates, totalling 81 fits\n",
      "[CV] END ..learning_rate=0.01, max_depth=3, n_estimators=100; total time=   0.0s\n",
      "[CV] END ..learning_rate=0.01, max_depth=3, n_estimators=100; total time=   0.1s\n",
      "[CV] END ..learning_rate=0.01, max_depth=3, n_estimators=100; total time=   0.1s\n",
      "[CV] END ..learning_rate=0.01, max_depth=3, n_estimators=300; total time=   0.1s\n",
      "[CV] END ..learning_rate=0.01, max_depth=3, n_estimators=300; total time=   0.1s\n",
      "[CV] END ..learning_rate=0.01, max_depth=6, n_estimators=100; total time=   0.1s\n",
      "[CV] END ..learning_rate=0.01, max_depth=3, n_estimators=300; total time=   0.2s\n",
      "[CV] END ..learning_rate=0.01, max_depth=3, n_estimators=500; total time=   0.2s\n",
      "[CV] END ..learning_rate=0.01, max_depth=6, n_estimators=300; total time=   0.2s\n",
      "[CV] END ..learning_rate=0.01, max_depth=6, n_estimators=300; total time=   0.2s\n",
      "[CV] END ..learning_rate=0.01, max_depth=6, n_estimators=300; total time=   0.2s\n",
      "[CV] END ..learning_rate=0.01, max_depth=9, n_estimators=100; total time=   0.0s\n",
      "[CV] END ..learning_rate=0.01, max_depth=6, n_estimators=100; total time=   0.0s\n",
      "[CV] END ..learning_rate=0.01, max_depth=3, n_estimators=500; total time=   0.2s\n",
      "[CV] END ..learning_rate=0.01, max_depth=6, n_estimators=100; total time=   0.1s\n",
      "[CV] END ..learning_rate=0.01, max_depth=3, n_estimators=500; total time=   0.3s\n",
      "[CV] END ..learning_rate=0.01, max_depth=6, n_estimators=500; total time=   0.2s\n",
      "[CV] END ..learning_rate=0.01, max_depth=9, n_estimators=100; total time=   0.1s\n",
      "[CV] END ..learning_rate=0.01, max_depth=9, n_estimators=100; total time=   0.1s\n",
      "[CV] END ..learning_rate=0.03, max_depth=3, n_estimators=100; total time=   0.0s\n",
      "[CV] END ..learning_rate=0.01, max_depth=9, n_estimators=300; total time=   0.1s\n",
      "[CV] END ..learning_rate=0.01, max_depth=6, n_estimators=500; total time=   0.2s\n",
      "[CV] END ..learning_rate=0.03, max_depth=3, n_estimators=100; total time=   0.0s\n",
      "[CV] END ..learning_rate=0.03, max_depth=3, n_estimators=100; total time=   0.0s\n",
      "[CV] END ..learning_rate=0.01, max_depth=9, n_estimators=300; total time=   0.1s\n",
      "[CV] END ..learning_rate=0.01, max_depth=6, n_estimators=500; total time=   0.3s\n",
      "[CV] END ..learning_rate=0.03, max_depth=3, n_estimators=300; total time=   0.1s\n",
      "[CV] END ..learning_rate=0.03, max_depth=6, n_estimators=100; total time=   0.1s\n",
      "[CV] END ..learning_rate=0.03, max_depth=3, n_estimators=300; total time=   0.1s\n",
      "[CV] END ..learning_rate=0.01, max_depth=9, n_estimators=300; total time=   0.1s\n",
      "[CV] END ..learning_rate=0.03, max_depth=3, n_estimators=300; total time=   0.1s\n",
      "[CV] END ..learning_rate=0.03, max_depth=6, n_estimators=100; total time=   0.0s\n",
      "[CV] END ..learning_rate=0.03, max_depth=3, n_estimators=500; total time=   0.1s\n",
      "[CV] END ..learning_rate=0.01, max_depth=9, n_estimators=500; total time=   0.2s\n",
      "[CV] END ..learning_rate=0.03, max_depth=6, n_estimators=100; total time=   0.0s\n",
      "[CV] END ..learning_rate=0.03, max_depth=3, n_estimators=500; total time=   0.1s\n",
      "[CV] END ..learning_rate=0.03, max_depth=3, n_estimators=500; total time=   0.1s\n",
      "[CV] END ..learning_rate=0.03, max_depth=9, n_estimators=100; total time=   0.0s\n",
      "[CV] END ..learning_rate=0.03, max_depth=6, n_estimators=300; total time=   0.1s\n",
      "[CV] END ..learning_rate=0.03, max_depth=9, n_estimators=100; total time=   0.0s\n",
      "[CV] END ..learning_rate=0.03, max_depth=6, n_estimators=300; total time=   0.1s\n",
      "[CV] END ..learning_rate=0.03, max_depth=6, n_estimators=300; total time=   0.1s\n",
      "[CV] END ..learning_rate=0.01, max_depth=9, n_estimators=500; total time=   0.2s\n",
      "[CV] END ..learning_rate=0.01, max_depth=9, n_estimators=500; total time=   0.2s\n",
      "[CV] END ..learning_rate=0.03, max_depth=9, n_estimators=100; total time=   0.0s\n",
      "[CV] END ...learning_rate=0.1, max_depth=3, n_estimators=100; total time=   0.0s\n",
      "[CV] END ...learning_rate=0.1, max_depth=3, n_estimators=100; total time=   0.0s\n",
      "[CV] END ...learning_rate=0.1, max_depth=3, n_estimators=100; total time=   0.0s\n",
      "[CV] END ..learning_rate=0.03, max_depth=6, n_estimators=500; total time=   0.1s\n",
      "[CV] END ..learning_rate=0.03, max_depth=6, n_estimators=500; total time=   0.1s\n",
      "[CV] END ..learning_rate=0.03, max_depth=6, n_estimators=500; total time=   0.1s\n",
      "[CV] END ..learning_rate=0.03, max_depth=9, n_estimators=300; total time=   0.1s\n",
      "[CV] END ..learning_rate=0.03, max_depth=9, n_estimators=300; total time=   0.1s\n",
      "[CV] END ..learning_rate=0.03, max_depth=9, n_estimators=300; total time=   0.1s\n",
      "[CV] END ...learning_rate=0.1, max_depth=3, n_estimators=300; total time=   0.1s\n",
      "[CV] END ..learning_rate=0.03, max_depth=9, n_estimators=500; total time=   0.1s\n",
      "[CV] END ...learning_rate=0.1, max_depth=6, n_estimators=100; total time=   0.0s\n",
      "[CV] END ...learning_rate=0.1, max_depth=3, n_estimators=300; total time=   0.1s\n",
      "[CV] END ...learning_rate=0.1, max_depth=6, n_estimators=100; total time=   0.0s\n",
      "[CV] END ...learning_rate=0.1, max_depth=3, n_estimators=300; total time=   0.1s\n",
      "[CV] END ..learning_rate=0.03, max_depth=9, n_estimators=500; total time=   0.1s\n",
      "[CV] END ...learning_rate=0.1, max_depth=6, n_estimators=100; total time=   0.0s\n",
      "[CV] END ..learning_rate=0.03, max_depth=9, n_estimators=500; total time=   0.2s\n",
      "[CV] END ...learning_rate=0.1, max_depth=3, n_estimators=500; total time=   0.1s\n",
      "[CV] END ...learning_rate=0.1, max_depth=3, n_estimators=500; total time=   0.1s\n",
      "[CV] END ...learning_rate=0.1, max_depth=9, n_estimators=100; total time=   0.0s\n",
      "[CV] END ...learning_rate=0.1, max_depth=3, n_estimators=500; total time=   0.1s\n",
      "[CV] END ...learning_rate=0.1, max_depth=6, n_estimators=300; total time=   0.1s\n",
      "[CV] END ...learning_rate=0.1, max_depth=9, n_estimators=100; total time=   0.0s\n",
      "[CV] END ...learning_rate=0.1, max_depth=9, n_estimators=100; total time=   0.0s\n",
      "[CV] END ...learning_rate=0.1, max_depth=6, n_estimators=300; total time=   0.1s\n",
      "[CV] END ...learning_rate=0.1, max_depth=6, n_estimators=300; total time=   0.1s\n",
      "[CV] END ...learning_rate=0.1, max_depth=6, n_estimators=500; total time=   0.1s\n",
      "[CV] END ...learning_rate=0.1, max_depth=6, n_estimators=500; total time=   0.1s\n",
      "[CV] END ...learning_rate=0.1, max_depth=9, n_estimators=300; total time=   0.1s\n",
      "[CV] END ...learning_rate=0.1, max_depth=9, n_estimators=300; total time=   0.1s\n",
      "[CV] END ...learning_rate=0.1, max_depth=6, n_estimators=500; total time=   0.1s\n",
      "[CV] END ...learning_rate=0.1, max_depth=9, n_estimators=300; total time=   0.1s\n",
      "[CV] END ...learning_rate=0.1, max_depth=9, n_estimators=500; total time=   0.1s\n",
      "[CV] END ...learning_rate=0.1, max_depth=9, n_estimators=500; total time=   0.1s\n",
      "[CV] END ...learning_rate=0.1, max_depth=9, n_estimators=500; total time=   0.1s\n",
      "              precision    recall  f1-score   support\n",
      "\n",
      "           0       0.00      0.00      0.00         4\n",
      "           1       0.67      0.18      0.29        11\n",
      "           2       0.28      0.83      0.42         6\n",
      "\n",
      "    accuracy                           0.33        21\n",
      "   macro avg       0.31      0.34      0.23        21\n",
      "weighted avg       0.43      0.33      0.27        21\n",
      "\n",
      "{'learning_rate': 0.03, 'max_depth': 6, 'n_estimators': 500}\n"
     ]
    },
    {
     "name": "stderr",
     "output_type": "stream",
     "text": [
      "/opt/anaconda3/lib/python3.12/site-packages/sklearn/metrics/_classification.py:1531: UndefinedMetricWarning: Precision is ill-defined and being set to 0.0 in labels with no predicted samples. Use `zero_division` parameter to control this behavior.\n",
      "  _warn_prf(average, modifier, f\"{metric.capitalize()} is\", len(result))\n",
      "/opt/anaconda3/lib/python3.12/site-packages/sklearn/metrics/_classification.py:1531: UndefinedMetricWarning: Precision is ill-defined and being set to 0.0 in labels with no predicted samples. Use `zero_division` parameter to control this behavior.\n",
      "  _warn_prf(average, modifier, f\"{metric.capitalize()} is\", len(result))\n",
      "/opt/anaconda3/lib/python3.12/site-packages/sklearn/metrics/_classification.py:1531: UndefinedMetricWarning: Precision is ill-defined and being set to 0.0 in labels with no predicted samples. Use `zero_division` parameter to control this behavior.\n",
      "  _warn_prf(average, modifier, f\"{metric.capitalize()} is\", len(result))\n",
      "/opt/anaconda3/lib/python3.12/site-packages/sklearn/metrics/_classification.py:1531: UndefinedMetricWarning: Precision is ill-defined and being set to 0.0 in labels with no predicted samples. Use `zero_division` parameter to control this behavior.\n",
      "  _warn_prf(average, modifier, f\"{metric.capitalize()} is\", len(result))\n"
     ]
    }
   ],
   "source": [
    "from xgboost import XGBClassifier\n",
    "from sklearn.model_selection import GridSearchCV\n",
    "from sklearn.metrics import accuracy_score, classification_report, precision_score, recall_score, f1_score\n",
    "\n",
    "# Define hyperparameter grid\n",
    "param_grid = {\n",
    "    'n_estimators': [100, 300, 500],\n",
    "    'max_depth': [3, 6, 9],\n",
    "    'learning_rate': [0.01, 0.03, 0.1],\n",
    "    \n",
    "}\n",
    "\n",
    "# Filter data for NVDA\n",
    "stock_data = data_filtered[data_filtered['Ticker'] == 'AMD']\n",
    "features = ['Open', 'High', 'Low', 'Volume','MA_10','MA_50', 'Volatility', 'RSI', 'BB_Upper', 'BB_Lower']\n",
    "\n",
    "# Train-Test Split (Time-Based)\n",
    "split = int(len(stock_data) * 0.8)\n",
    "X_train, X_test = stock_data[features].iloc[:split], stock_data[features].iloc[split:]\n",
    "y_train, y_test = stock_data['Target'].iloc[:split], stock_data['Target'].iloc[split:]\n",
    "\n",
    "\n",
    "model = XGBClassifier(objective='multi:softmax', num_class=3, random_state=42)\n",
    "\n",
    "# Perform Grid Search for Best Hyperparameters\n",
    "grid_search = GridSearchCV(model, param_grid, cv=3, scoring='accuracy', n_jobs=-1, verbose=2)\n",
    "grid_search.fit(X_train, y_train)\n",
    "\n",
    "# Train Final Model with Best Hyperparameters\n",
    "best_model = grid_search.best_estimator_\n",
    "best_model.fit(X_train, y_train)\n",
    "\n",
    "# Make Predictions\n",
    "y_pred = best_model.predict(X_test)\n",
    "\n",
    "# Evaluate Model\n",
    "accuracy = accuracy_score(y_test, y_pred)\n",
    "precision = precision_score(y_test, y_pred, average='weighted')\n",
    "recall = recall_score(y_test, y_pred, average='weighted')\n",
    "f1 = f1_score(y_test, y_pred, average='weighted')\n",
    "\n",
    "\n",
    "print(classification_report(y_test, y_pred))\n",
    "print(grid_search.best_params_)"
   ]
  },
  {
   "cell_type": "code",
   "execution_count": 109,
   "id": "daa068f6",
   "metadata": {},
   "outputs": [
    {
     "data": {
      "text/plain": [
       "0.3333333333333333"
      ]
     },
     "execution_count": 109,
     "metadata": {},
     "output_type": "execute_result"
    }
   ],
   "source": [
    "accuracy"
   ]
  },
  {
   "cell_type": "code",
   "execution_count": 110,
   "id": "c2e66342",
   "metadata": {},
   "outputs": [
    {
     "data": {
      "text/plain": [
       "['ml_model.pkl']"
      ]
     },
     "execution_count": 110,
     "metadata": {},
     "output_type": "execute_result"
    }
   ],
   "source": [
    "import joblib\n",
    "\n",
    "# Save the trained model\n",
    "joblib.dump(best_model, \"ml_model.pkl\")"
   ]
  },
  {
   "cell_type": "markdown",
   "id": "b33a7d00",
   "metadata": {},
   "source": [
    "**AAPL Boosting**"
   ]
  },
  {
   "cell_type": "code",
   "execution_count": null,
   "id": "bbfb67a8",
   "metadata": {},
   "outputs": [],
   "source": [
    "\n"
   ]
  }
 ],
 "metadata": {
  "kernelspec": {
   "display_name": "base",
   "language": "python",
   "name": "python3"
  },
  "language_info": {
   "codemirror_mode": {
    "name": "ipython",
    "version": 3
   },
   "file_extension": ".py",
   "mimetype": "text/x-python",
   "name": "python",
   "nbconvert_exporter": "python",
   "pygments_lexer": "ipython3",
   "version": "3.12.4"
  }
 },
 "nbformat": 4,
 "nbformat_minor": 5
}
